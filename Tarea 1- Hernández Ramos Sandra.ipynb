{
 "cells": [
  {
   "cell_type": "markdown",
   "metadata": {},
   "source": [
    "# Tarea 1\n",
    "## Física Computacional\n",
    "### Hernández Ramos Sandra \n",
    "$Sandii\\hbar ers^{\\heartsuit}$\n",
    "\n",
    "\n",
    "\n",
    "## Python \n"
   ]
  },
  {
   "cell_type": "code",
   "execution_count": 1,
   "metadata": {},
   "outputs": [],
   "source": [
    "from pylab import * \n",
    "import random\n",
    "from numpy import array \n",
    "from numpy import *\n",
    "import math\n",
    "from scipy.integrate import*\n",
    "%matplotlib inline \n",
    " # %matplotlib inline para que el despliegue gráfico se haga dentro del mismo notebook\n",
    "#paqueterías."
   ]
  },
  {
   "cell_type": "markdown",
   "metadata": {},
   "source": [
    "### Resuelva los siguientes ejercicios, explicando claramente su razonamiento.\n",
    "Nota: Considere algoritmos simétricos en el cálculo de derivada, excepto para los puntos en la frontera"
   ]
  },
  {
   "cell_type": "markdown",
   "metadata": {},
   "source": [
    "#### 1. Realice y explique los desarrollos necesarios para obtener los siguientes algoritmos:"
   ]
  },
  {
   "cell_type": "markdown",
   "metadata": {},
   "source": [
    "a)  Encuentre una expresión para la segunda derivada numérica de orden 4 con malla uniforme. (Se desprecian términos $h^{5}$\n",
    "en la serie de Taylor)"
   ]
  },
  {
   "cell_type": "markdown",
   "metadata": {},
   "source": [
    "Considerando los algoritmos simétricos desarrollamos simétricamente las series de Taylor, por lo que que desarrollando la serie de Taylor la función f tendrá cuatro puntos alrededor de $x_{0}$:\n",
    "$$\n",
    "f(x_0+h)=f(x_0) + f^{(1)}(x_0)h + \\frac{f^{(2)}(x_0)}{2!}h^2 + \\frac{f^{(3)}(x_0)}{3!}h^3 + \\frac{f^{(4)}(x_0)}{4!}h^4 + \\mathcal{O}(h^5)\n",
    "$$\n",
    "$$\n",
    "f(x_0-h)=f(x_0) - f^{(1)}(x_0)h + \\frac{f^{(2)}(x_0)}{2!}h^2 - \\frac{f^{(3)}(x_0)}{3!}h^3 + \\frac{f^{(4)}(x_0)}{4!}h^4 + \\mathcal{O}(h^5)\n",
    "$$\n",
    "$$\n",
    "f(x_0+2h)=f(x_0) + 2f^{(1)}(x_0)h + 2f^{(2)}(x_0)h^2 + \\frac{4}{3}f^{(3)}(x_0)h^3 + \\frac{2}{3}f^{(4)}(x_0)h^4 + \\mathcal{O}(h^5)\n",
    "$$\n",
    "$$\n",
    "f(x_0-2h)=f(x_0) - 2f^{(1)}(x_0)h + 2f^{(2)}(x_0)h^2 - \\frac{4}{3}f^{(3)}(x_0)h^3 + \\frac{2}{3}f^{(4)}(x_0)h^4 + \\mathcal{O}(h^5)\n",
    "$$"
   ]
  },
  {
   "cell_type": "markdown",
   "metadata": {},
   "source": [
    "para este caso vamos a tener que despreciar los términos $h^{5}$ en la serie y sumando la primera con la segunda expresión, la cuarta y la quinta tenemos las siguientes dos ecuaciones (desaparece $h^{3}$):\n",
    "\n",
    "$$\n",
    "f(x_0+h)+f(x_0-h)=2f(x_0)+f^{(2)}(x_0)h^2 + \\frac{1}{12}f^{(4)}(x_0)h^4\n",
    "$$\n",
    "$$\n",
    "f(x_0+2h)+f(x_0-2h)=2f(x_0)+4f^{(2)}(x_0)h^2 + \\frac{4}{3}f^{(4)}(x_0)h^4\n",
    "$$\n"
   ]
  },
  {
   "cell_type": "markdown",
   "metadata": {},
   "source": [
    "como quiero tener $\\frac{4}{3}$ en ambos lados multiplicando 16 a la primer ecuación y -1 a la segunda para poder restar\n",
    "($16\\times \\frac{1}{12} = \\frac{16}{12}=\\frac{4}{3}$),teniendo así: \n",
    "$$\n",
    "16f(x_0+h)+16f(x_0-h)=32f(x_0) + 16f^{(2)}(x_0)h^2 + \\frac{4}{3}f^{(4)}(x_0)h^4\n",
    "$$\n",
    "$$\n",
    "-f(x_0+2h)-f(x_0-2h)=-2f(x_0)-4f^{(2)}(x_0)h^2 - \\frac{4}{3}f^{(4)}(x_0)h^4\n",
    "$$\n"
   ]
  },
  {
   "cell_type": "markdown",
   "metadata": {},
   "source": [
    "Ahora sumando las ecuaciones anteriores tenemos (desaparece $h^{4}$):\n",
    "$$\n",
    "16f(x_0+h)+16f(x_0-h)-f(x_0+2h)-f(x_0-2h)=30f(x_0)+12f^{(2)}(x_0)h^2\n",
    "$$"
   ]
  },
  {
   "cell_type": "markdown",
   "metadata": {},
   "source": [
    "Ahora solo nos queda despejar $f^{(2)}(x_{0})$ (expresión de la segunda derivada de orden cuatro):\n",
    "\n",
    "$$\n",
    "f^{(2)}(x_0) = \\frac{16f(x_0+h)+16f(x_0-h)-f(x_0+2h)-f(x_0-2h) - 30f(x_0)}{12h^2}\n",
    "$$"
   ]
  },
  {
   "cell_type": "markdown",
   "metadata": {},
   "source": [
    "Como se tomaron las $h=x_{i+1}-x_i$, en la expresión de la segunda derivada de orden cuatro solo se está haciendo uso del hecho de que se tienen puntos a la derecha y a la izquiera de $x_0$,  pero esto no es válido para los puntos en la frontera."
   ]
  },
  {
   "cell_type": "markdown",
   "metadata": {},
   "source": [
    "Ahora obteniendo la derivada para los puntos frontera."
   ]
  },
  {
   "cell_type": "markdown",
   "metadata": {},
   "source": [
    "Procediendo por el caso de la frontera izquierdo tomaremos los puntos de la derecha h,2h,3h y 4h y se desarrolla la serie de Taylor despreciando $h^{5}$:\n",
    "\n",
    "$$f(x_0+h)=f(x_0)+hf^{(1)}(x_0)+{\\frac{1}{2}}f^{(2)}(x_0)h^{2}+\\frac{f^{(3)}(x_0)}{3!}h^{3}+{\\frac{f^{(4)}}{4!}}h^{4} $$\n",
    "\n",
    "$$f(x_0+2h)=f(x_0)+2hf^{(1)}(x_0)+{\\frac{4}{2}}f^{(2)}(x_0)h^{2}+\\frac{8f^{(3)}(x_0)}{3!}h^{3}+{16\\frac{f^{(4)}}{4!}}h^{4}$$\n",
    "\n",
    "$$f(x_0+3h)=f(x_0)+3hf^{(1)}(x_0)+{\\frac{9}{2}}f^{(2)}(x_0)h^{2}+\\frac{27f^{(3)}(x_0)}{3!}h^{3}+{81\\frac{f^{(4)}}{4!}}h^{4} $$\n",
    "\n",
    "$$f(x_0+4h)=f(x_0)+4hf^{(1)}(x_0)+{\\frac{16}{2}}f^{(2)}(x_0)h^{2}+\\frac{64f^{(3)}(x_0)}{3!}h^{3}+{256\\frac{f^{(4)}}{4!}}h^{4}$$\n"
   ]
  },
  {
   "cell_type": "markdown",
   "metadata": {},
   "source": [
    "Escribiendo el sistema de ecuaciones anterior de forma matricial tenemos:\n",
    "$$\\begin{bmatrix}\n",
    "1 & \\frac{1}{2} & \\frac{1}{6} & \\frac{1}{24}\\\\\n",
    "2 & \\frac{4}{2} & \\frac{8}{6} & \\frac{16}{24}\\\\\n",
    "3 & \\frac{9}{2} & \\frac{27}{6}& \\frac{81}{24}\\\\\n",
    "4 & \\frac{16}{2}& \\frac{64}{6}& \\frac{256}{24}\\\\\n",
    "\\end{bmatrix} \\begin{bmatrix} hf_i' \\\\h^2f_i''\\\\ h^3f_i'''\\\\ h^4f_i''''\\\\\\end{bmatrix} =\\begin{bmatrix}f_{i+1}-f_i \\\\\n",
    "f_{i+2}-f_i\\\\\n",
    "f_{i+3}-f_i \\\\\n",
    "f_{i+4}-f_i \n",
    "\\end{bmatrix}$$\n"
   ]
  },
  {
   "cell_type": "markdown",
   "metadata": {},
   "source": [
    "simplificando las fracciones tenemos:\n",
    "$$\\longrightarrow \\begin{bmatrix}\n",
    "1 & \\frac{1}{2} & \\frac{1}{6} & \\frac{1}{24}\\\\\n",
    "2 & 2 & \\frac{4}{3} & \\frac{2}{3}\\\\\n",
    "3 & \\frac{9}{2} & \\frac{9}{3}& \\frac{27}{8}\\\\\n",
    "4 & 8& \\frac{32}{3}& \\frac{32}{3}\\\\\n",
    "\\end{bmatrix} \\begin{bmatrix} hf_i' \\\\h^2f_i''\\\\ h^3f_i'''\\\\ h^4f_i''''\\\\\\end{bmatrix} =\\begin{bmatrix}f_{i+1}-f_i \\\\\n",
    "f_{i+2}-f_i\\\\\n",
    "f_{i+3}-f_i \\\\\n",
    "f_{i+4}-f_i \n",
    "\\end{bmatrix}$$\n"
   ]
  },
  {
   "cell_type": "markdown",
   "metadata": {},
   "source": [
    "Metiendo esta matriz a una calculadora de matrices ([Resolver sistemas de ecuaciones lineales online](https://matrixcalc.org/es/slu.html#solve-using-Gauss-Jordan-elimination%28%7B%7B1,1/2,1/6,1/24,x%7D,%7B2,2,4/3,2/3,y%7D,%7B3,9/2,9/2,27/8,z%7D,%7B4,8,32/3,32/3,w%7D%7D%29) porque #flojera) y resolviendo por el método de Gauss-Jordan obtenemos $f^{(2)}(x_{0})h^{2}$(que aparece como $x_{2}$ en la calculadora)\n",
    "\n",
    "$x_{2}=\\frac{(11w-104x+114y-56z)}{12}$ con $x=f_{i+1}-f_i$, $y=f_{i+2}-f_i$, $z=f_{i+3}-f_i$, $w=f_{i+4}-f_i$"
   ]
  },
  {
   "cell_type": "markdown",
   "metadata": {},
   "source": [
    "Entonces tenemos\n",
    "$$f^{(2)}(X_{0})h^{2}=\\frac{(11(f_{i+4}-f_i)-104(f_{i+1}-f_i)+114(f_{i+2}-f_i)-56(f_{i+3}-f_i))}{12}$$"
   ]
  },
  {
   "cell_type": "markdown",
   "metadata": {},
   "source": [
    "$$\\longrightarrow f^{(2)}(X_{0})=\\frac{\\frac{11}{12}(f_{i+4}-f_i)-\\frac{104}{12}(f_{i+1}-f_i)+\\frac{114}{12}(f_{i+2}-f_i)-\\frac{56}{12}(f_{i+3}-f_i)}{h^{2}}$$"
   ]
  },
  {
   "cell_type": "markdown",
   "metadata": {},
   "source": [
    "Reacomodando y simplificando tenemos:\n",
    "$$\\longrightarrow f^{(2)}(X_{0})=\\frac{-\\frac{104}{12}(f_{i+1}-f_i)+\\frac{114}{12}(f_{i+2}-f_i)-\\frac{56}{12}(f_{i+3}-f_i)+\\frac{11}{12}(f_{i+4}-f_i)}{h^{2}}$$\n",
    "$$\\longrightarrow f^{(2)}(X_{0})=\\frac{-\\frac{26}{3}(f_{i+1}-f_i)+\\frac{19}{2}(f_{i+2}-f_i)-\\frac{14}{3}(f_{i+3}-f_i)+\\frac{11}{12}(f_{i+4}-f_i)}{h^{2}}$$"
   ]
  },
  {
   "cell_type": "markdown",
   "metadata": {},
   "source": [
    "Desarrollando tenemos:\n",
    "$$\\longrightarrow f^{(2)}(X_{0})=\\frac{-\\frac{26}{3}f_{i+1}+\\frac{19}{2}f_{i+2}-\\frac{14}{3}f_{i+3}+\\frac{11}{12}f_{i+4}+\\frac{26}{3}f_i-\\frac{19}{2}f_i+\\frac{14}{3}f_i-\\frac{11}{12}f_i}{h^{2}}$$\n",
    "\n",
    "$$\\longrightarrow f^{(2)}(X_{0})=\\frac{-\\frac{26}{3}f_{i+1}+\\frac{19}{2}f_{i+2}-\\frac{14}{3}f_{i+3}+\\frac{11}{12}f_{i+4}+\\frac{35}{12}f_i}{h^{2}}$$\n",
    "\n",
    "\n"
   ]
  },
  {
   "cell_type": "markdown",
   "metadata": {},
   "source": [
    "La ecuación anterior funciona para la frontera izquierda, para el segundo punto en la malla solo se toma a $i\\rightarrow i+1$ y para la frontera derecha  $i+1\\rightarrow i-1$, $i+2\\rightarrow i-2$, $i+3\\rightarrow i-3$, $i+4\\rightarrow i-4$, con i=N. "
   ]
  },
  {
   "cell_type": "markdown",
   "metadata": {},
   "source": [
    "Con lo anterior podemos definir una función en Python para obtener la segunda derivada de orden 4 en los puntos extremos. "
   ]
  },
  {
   "cell_type": "code",
   "execution_count": 71,
   "metadata": {},
   "outputs": [],
   "source": [
    "# Ahora a definir la segunda derivada de orden 4 para una función f y cuya malla es uniforme.\n",
    "def deriv(f,x): #se define la funcion deriv con argumentos (f,x)\n",
    "    f_p1 = zeros(len(f)) \n",
    "    h=x[1]-x[0]\n",
    "   \n",
    "    for i in range (2,len(f)-2):\n",
    "        f_p1[i]=(16*f[i+1]+16*f[i-1]-f[i+2]-f[i-2]-30*f[i])/(12*h*h)\n",
    "    \n",
    "      #Para calular los puntos frontera a la izquierda\n",
    "        f_p1[0] = (-(26/3)*f[1]+(19/2)*f[2]-(14/3)*f[3]+(11/12)*f[4]+(35/12)*f[0])/(h*h)  \n",
    "        f_p1[1] = (-(26/3)*f[2]+(19/2)*f[3]-(14/3)*f[4]+(11/12)*f[5]+(35/12)*f[1])/(h*h)\n",
    "        \n",
    "      #Para calular los puntos frontera a la derecha  \n",
    "        f_p1[-2]=((-26/3)*f[-3]+(19/2)*f[-4]-(14/3)*f[-5]+(11/12)*f[-6]+(35/12)*f[-2])/(h*h) \n",
    "        f_p1[-1]=((-26/3)*f[-2]+(19/2)*f[-3]-(14/3)*f[-4]+(11/12)*f[-5]+(35/12)*f[-1])/(h*h)\n",
    "    return f_p1"
   ]
  },
  {
   "cell_type": "code",
   "execution_count": 72,
   "metadata": {},
   "outputs": [
    {
     "data": {
      "image/png": "[encoded data removed]",
      "text/plain": [
       "<Figure size 432x288 with 1 Axes>"
      ]
     },
     "metadata": {
      "needs_background": "light"
     },
     "output_type": "display_data"
    }
   ],
   "source": [
    "# Para comprobar que la función anterior se aproxima a la segunda derivada en una función f con una malla uniforme\n",
    "#Se escoge la malla uniforme\n",
    "x1 = linspace(0,2*pi,500)\n",
    "#usamos una función de prueba\n",
    "y1 =cos(x1)\n",
    "y_deriv2 =-cos(x1)\n",
    "y_num_deriv2 = deriv(y1,x1)\n",
    "#Graficamos para ver que la derivada numerica sí concuerda con la derivada analítica \n",
    "plot(x1,y_deriv2,label=\"$f'(x)$\")\n",
    "plot(x1,y_num_deriv2,label=\"f'(x) num\")\n",
    "legend(),grid()\n",
    "show()"
   ]
  },
  {
   "cell_type": "markdown",
   "metadata": {},
   "source": [
    "b) Encuentre una expresión para la derivada numérica de $2^{\\circ}$ orden para una malla no uniforme. (Se desprecian términos $h^{3}$ en la serie de Taylor)"
   ]
  },
  {
   "cell_type": "markdown",
   "metadata": {},
   "source": [
    "Como se quiere encontrar la derivada en una malla no uniforme $h$ toma dos valores, $h_{1}$ para el lado izquierdo y a $h_{2}$ para el lado derecho mientras se desprecian los términos de $h^{3}$ por lo que que desarrollando la serie de Taylor alrededor de $x_{0}$ tenemos:\n",
    "$$f(x_0-h_1)=f(x_0)-f^{(1)}(x_0)h_1 + \\frac{1}{2}f^{(2)}(x_0)h_1^2 + \\mathcal{O}(h^3)$$ \n",
    "\n",
    "$$f(x_0+h_2)=f(x_0)+f^{(1)}(x_0)h_2 + \\frac{1}{2}f^{(2)}(x_0)h_2^2 + \\mathcal{O}(h^3)$$"
   ]
  },
  {
   "cell_type": "markdown",
   "metadata": {},
   "source": [
    "Ahora multiplicando la primera ecuación por $h_2^{2}$ y la segunda por $h_1^{2}$ tenemos:\n",
    "$$ h_2^{2}f(x_0-h_1)=h_2^{2}f(x_0)-h_2^{2}f^{(1)}(x_0)h_1+{\\frac{1}{2}}f^{(2)}(x_0)h_1^{2}h_2^{2}+\\mathcal{O}(h^{3})$$\n",
    "\n",
    "$$h_1^{2}f(x_0+h_2)=h_1^{2}f(x_0)+h_1^{2}f^{(1)}(x_0)h_2 + \\frac{1}{2}f^{(2)}(x_0)h_2^{2} h_1^{2} + \\mathcal{O}(h^3)$$"
   ]
  },
  {
   "cell_type": "markdown",
   "metadata": {},
   "source": [
    "En este paso vamos a despreciar a $h^{3}$ y restar la primera ecuación a la segunda teniendo así:\n",
    "$$h_1^{2}f(x_0+h_2)-h_2^{2}f(x_0-h_1)=f(x_0)(h_1^{2}-h_2^{2})+f^{(1)}(x_0)(h_2^{2}h_1+h_2h_1^{2}) $$"
   ]
  },
  {
   "cell_type": "markdown",
   "metadata": {},
   "source": [
    "Ahora solo nos queda despejar $f^{(1)}(x_{0})$ (expresión de la derivada de orden 2):\n",
    "$$f^{(1)}(x_0)=\\frac{h_1^{2}f(x_0+h_2)-h_2^{2}f(x_0-h_1)-f(x_0)(h_1^{2}-h_2^{2})}{(h_2^{2}h_1+h_2h_1^{2})}$$"
   ]
  },
  {
   "cell_type": "markdown",
   "metadata": {},
   "source": [
    "La ecuación anterior no es válida para los puntos frontera"
   ]
  },
  {
   "cell_type": "markdown",
   "metadata": {},
   "source": [
    "Ahora obteniendo la derivada para los puntos frontera."
   ]
  },
  {
   "cell_type": "markdown",
   "metadata": {},
   "source": [
    "Para la frontera derecha tomaremos $h_1=x_{1}-x_{0}$, $h_{2}=x_{2}-x_{0}$ y se desarrolla la serie de Taylor despreciando $h^{3}$ tenemos:\n",
    "$$f(x_0+h_1)=f(x_0)+f^{(1)}(x_0)h_1 + \\frac{1}{2}f^{(2)}(x_0)h_1^2 $$\n",
    "\n",
    "$$f(x_0+h_2)=f(x_0)+f^{(1)}(x_0)h_2 + \\frac{1}{2}f^{(2)}(x_0)h_2^2 $$"
   ]
  },
  {
   "cell_type": "markdown",
   "metadata": {},
   "source": [
    "Escribiendo el sistema de ecuaciones anterior de forma matricial tenemos:\n",
    "$$\\begin{bmatrix}\n",
    "h_1 & \\frac{1}{2}h_{1}^{2} \\\\\n",
    "h_2 & \\frac{1}{2}h_{2}^{2}  \\\\\n",
    "\\end{bmatrix} \\begin{bmatrix} f_{i}' \\\\f_{i}''\\\\\\end{bmatrix} =\\begin{bmatrix}f_{i+1}-f_{i} \\\\\n",
    "f_{i+2}-f_{i}\\\\ \n",
    "\\end{bmatrix}$$\n",
    "\n",
    "\n"
   ]
  },
  {
   "cell_type": "markdown",
   "metadata": {},
   "source": [
    "Resolviendo de la misma forma que se hizo con a) tenemos:\n",
    "$$f^{(1)}(x_0)=\\frac{-(f_{i+2}-f_i)h_1^{2}+h_2^{2}(f_{i+1}-f_i)}{h_1h_2^{2}-h_1^{2}h_2} $$"
   ]
  },
  {
   "cell_type": "markdown",
   "metadata": {},
   "source": [
    "Desarrollando tenemos:\n",
    "$$f^{(1)}(x_0)=\\frac{-f_{i+2}h_{1}^{2}+f_{i}h_1^{2}+f_{i+1}h_2^{2}-f_{i}h_2^{2}}{h_1h_2^{2}-h_1^{2}h_2} $$\n"
   ]
  },
  {
   "cell_type": "markdown",
   "metadata": {},
   "source": [
    "Reacomodando:\n",
    "$$\\longrightarrow f^{(1)}(x_0)=\\frac{f_{i+1}h_2^{2}-f_{i+2}h_{1}^{2}+f_{i}h_1^{2}-f_{i}h_2^{2}}{h_1h_2^{2}-h_1^{2}h_2} $$"
   ]
  },
  {
   "cell_type": "markdown",
   "metadata": {},
   "source": [
    "Por propiedad distributiva se puede hacer lo  siguiente:\n",
    "$$\\longrightarrow f^{(1)}(x_0)=\\frac{f_{i+1}h_2^{2}-f_{i+2}h_{1}^{2}+f_{i}\\left(h_1^{2}-h_2^{2}\\right)}{h_1h_2^{2}-h_1^{2}h_2} $$"
   ]
  },
  {
   "cell_type": "markdown",
   "metadata": {},
   "source": [
    "La ecuación anterior funciona para la frontera izquierda, para frontera derecha se hacen los siguientes cambios: $i+1\\rightarrow i-1$, $i+2\\rightarrow i-2$ con i=N. "
   ]
  },
  {
   "cell_type": "markdown",
   "metadata": {},
   "source": [
    "Con lo anterior podemos definir una función en Python para obtener la derivada de orden 2 con una malla no uniforme"
   ]
  },
  {
   "cell_type": "code",
   "execution_count": 73,
   "metadata": {},
   "outputs": [],
   "source": [
    "#Ahora a definir la derivada de orden 2 con una malla no uniforme\n",
    "def deriv_1(f,x): #se define la funcion deriv con argumentos (f,x)\n",
    "    f_p = zeros(len(f))\n",
    "    for i in range (1,len(f)-1):\n",
    "        f_p[i]=(((x[i]-x[i-1])**2)*(f[i+1])-((x[i+1]-x[i])**2)*f[i-1]-f[i]*((x[i]-x[i-1])**2-(x[i+1]-x[i])**2))/((x[i+1]-x[i])**2*(x[i]-x[i-1])+(x[i]-x[i-1])**2*(x[i]-x[i-1]))\n",
    "    #Derivada en la frontera\n",
    "        h1=x[1]-x[0]\n",
    "        h2=x[2]-x[0]\n",
    "        \n",
    "        h11=(x[-1]-x[-2])\n",
    "        h22=(x[-1]-x[-3])\n",
    "        ## Para la frontera izquierda\n",
    "        f_p[0]=(-h1**2*f[2]+h2**2*f[1]+f[0]*(-h2**2+h1**2))/(h1*h2**2-h1**2*h2)\n",
    "        #Para la frontera derecha\n",
    "        f_p[-1]=((+h11**2*f[-3])-h22**2*f[-2]+f[-1]*(+h22**2-h1**2))/(h11*h22**2-h11**2*h22)\n",
    "    return f_p"
   ]
  },
  {
   "cell_type": "code",
   "execution_count": 74,
   "metadata": {},
   "outputs": [
    {
     "data": {
      "image/png": "[encoded data removed]",
      "text/plain": [
       "<Figure size 432x288 with 1 Axes>"
      ]
     },
     "metadata": {
      "needs_background": "light"
     },
     "output_type": "display_data"
    }
   ],
   "source": [
    "#Para comprobar que la función anterior se aproxima a la derivada en una función f con una malla uniforme\n",
    "#Se escoge la malla uniforme\n",
    "x = (np.linspace(0, 2*pi, 500, endpoint=False))\n",
    "#Usamos una función de prueba\n",
    "y = cos(x)\n",
    "y_deriv =-sin(x)\n",
    "y_deriv_1_num = deriv_1(y,x)\n",
    "\n",
    "#Graficamos para ver que la derivada numerica sí concuerda con la derivada analítica \n",
    "plot(x,y_deriv,label=\"$f'(x)$\")\n",
    "plot(x,y_deriv_1_num,label=\"f'(x) numérica\")\n",
    "legend(),grid()\n",
    "show()\n"
   ]
  },
  {
   "cell_type": "markdown",
   "metadata": {},
   "source": [
    "c)Encuentre una expresión para la segunda derivada numérica de $2^{\\circ}$ orden con malla no uniforme. (Se desprecian términos $h^{3}$ en la serie de Taylor)"
   ]
  },
  {
   "cell_type": "markdown",
   "metadata": {},
   "source": [
    "Como se quiere encontrar la segunda derivada en una  malla ni uniforme $h$ toma dos valores, $h_{1}$ para el lado izquiero y $h_{2}$  para el lado derecho mientras se desprecian los términos de $h^{3}$ por lo que que desarrollando la serie de Taylor alrededor de $x_{0}$ tenemos:"
   ]
  },
  {
   "cell_type": "markdown",
   "metadata": {},
   "source": [
    "$$f(x_0-h_1)=f(x_0)-f^{(1)}(x_0)h_1 + \\frac{1}{2}f^{(2)}(x_0)h_1^2 + \\mathcal{O}(h_{1}^{3})$$\n",
    "\n",
    "$$f(x_0+h_2)=f(x_0)+f^{(1)}(x_0)h_2 + \\frac{1}{2}f^{(2)}(x_0)h_2^2 + \\mathcal{O}(h_{2}^{3})$$"
   ]
  },
  {
   "cell_type": "markdown",
   "metadata": {},
   "source": [
    "Ahora multiplicando por $h_2$ la primera ecuación y por $h_2$ la segunda tenemos:\n",
    "$$ h_2f(x_0-h_1)=h_2f(x_0)-h_2f^{(1)}(x_0)h_1+\\frac{1}{2}h_2f^{(2)}(x_0)h_1^{2}+\\mathcal{O}(h_1^{3})  $$\n",
    "\n",
    "$$ h_1f(x_0+h_2)=h_1f(x_0)+h_1f^{(1)}(x_0)h_2+\\frac{1}{2}h_1f^{(2)}(x_0)h_2^{2}+\\mathcal{O}(h_2^{3})  $$"
   ]
  },
  {
   "cell_type": "markdown",
   "metadata": {},
   "source": [
    "En este paso vamos a despreciar a $h^{3}$ y sumando las ecuaciones anteriores tenemos (desaparece $f^{(1)}$):\n",
    "$$h_2f(x_0-h_1)+h_1f(x_0+h_2)=f(x_0)(h_2+h_1)+{\\frac{1}{2}}f^{(2)}(x_0)(h_2h_1^{2}+h_1h_2^{2}) $$"
   ]
  },
  {
   "cell_type": "markdown",
   "metadata": {},
   "source": [
    "Ahora solo nos queda despejar $f^{(2)}(x_{0})$ (expresión de la segunda derivada de orden 2)"
   ]
  },
  {
   "cell_type": "markdown",
   "metadata": {},
   "source": [
    "$$f^{(2)}(x_0)=2 \\cdot \\left(\\frac{h_2f(x_0-h_1)+h_1f(x_0+h_2)-f(x_0)(h_2+h_1)}{(h_2h_1^{2}+h_1h_2^{2})}\\right) $$"
   ]
  },
  {
   "cell_type": "markdown",
   "metadata": {},
   "source": [
    "La ecuación anterior no es válida para los puntos frontera"
   ]
  },
  {
   "cell_type": "markdown",
   "metadata": {},
   "source": [
    "Ahora obteniendo la dervida para los puntos "
   ]
  },
  {
   "cell_type": "markdown",
   "metadata": {},
   "source": [
    "Para la frontera derecha tomaremos $h_1=x_1-x_0$, $h_2=x_2-x_0$ se desarrolla la serie de Taylor despreciando $h^{3}$ tenemos:"
   ]
  },
  {
   "cell_type": "markdown",
   "metadata": {},
   "source": [
    "$$f(x_0+h_1)=f(x_0)+f^{(1)}(x_0)h_1 + \\frac{1}{2}f^{(2)}(x_0)h_1^2 $$\n",
    "\n",
    "$$f(x_0+h_2)=f(x_0)+f^{(1)}(x_0)h_2 + \\frac{1}{2}f^{(2)}(x_0)h_2^2 $$"
   ]
  },
  {
   "cell_type": "markdown",
   "metadata": {},
   "source": [
    "Escribiendo el sistema de ecuaciones anterior de forma matricial tenemos:\n",
    "$$\\begin{bmatrix}\n",
    "h_1 & \\frac{h_{1}^{2}}{2} \\\\\n",
    "h_2 & \\frac{h_{2}^{2}}{2} \\\\\n",
    "\\end{bmatrix} \\begin{bmatrix} f_{i}' \\\\f_{i}''\\\\\\end{bmatrix} =\\begin{bmatrix}f_{i+1}-f_{i} \\\\\n",
    "f_{i+2}-f_{i}\\\\ \n",
    "\\end{bmatrix}$$"
   ]
  },
  {
   "cell_type": "markdown",
   "metadata": {},
   "source": [
    "Resolviendo de la misma forma que se hizo con los incisos anteriores tenemos:\n",
    "$$f^{(2)}(x_0)= 2\\cdot\\left({\\frac{(f_{i+2}-f_i)h_1-(f_{i+1}-f_i)h_2}{h_1h_2^{2}-h_1^{2}h_2}}\\right)  $$"
   ]
  },
  {
   "cell_type": "markdown",
   "metadata": {},
   "source": [
    "Desarrollando tenemos:\n",
    "$$f^{(2)}(x_0)= 2\\cdot\\left({\\frac{f_{i+2}h_{1}-f_{i} h_{1}-f_{i+1}h_{2}+f_{i}h_{2}}{h_1h_2^{2}-h_1^{2}h_2}}\\right)  $$"
   ]
  },
  {
   "cell_type": "markdown",
   "metadata": {},
   "source": [
    "Reacomodando y por propiedad distributiva:\n",
    "$$f^{(2)}(x_0)= 2\\cdot\\left({\\frac{f_{i+2}h_{1}-f_{i+1}h_{2}+f_{i}( h_{2}-h_{1})}{h_1h_2^{2}-h_1^{2}h_2}}\\right)  $$"
   ]
  },
  {
   "cell_type": "markdown",
   "metadata": {},
   "source": [
    "La ecuación anterior solo funciona para la frontera izquierda, para la frontera derecha se hacen los siguientes cambios: $𝑖+1\\rightarrow 𝑖−1$, $𝑖+2\\rightarrow 𝑖−2$, con i=N. "
   ]
  },
  {
   "cell_type": "markdown",
   "metadata": {},
   "source": [
    "Con lo anterior podemos definir una función en Python para obtener la segunda derivada de orden 2 con una malla no uniforme"
   ]
  },
  {
   "cell_type": "code",
   "execution_count": 75,
   "metadata": {},
   "outputs": [],
   "source": [
    "#Ahora a definir la segunda derivada de orden 2 con una malla no uniforme\n",
    "# se define la funcion deriv con argumentos (f,x)#"
   ]
  },
  {
   "cell_type": "code",
   "execution_count": 76,
   "metadata": {},
   "outputs": [],
   "source": [
    "\n",
    "   def deriv_2(f,x):  \n",
    "    f_p2 = zeros(len(f))\n",
    "\n",
    "    for i in range (1,len(f)-1):\n",
    "        h1=x[i]-x[i-1]\n",
    "        h2=x[i+1]-x[i]\n",
    "        f_p2[i]=(2/(h2*h1**2+h1*h2**2))*(h2*f[i-1]+h1*f[i+1]-f[i]*(h2+h1))\n",
    "    # Derivada en la frontera\n",
    "    ## Para la frontera izquierda\n",
    "        h11=x[1]-x[0]\n",
    "        h22=x[2]-x[0]\n",
    "        f_p2[0]=(2/(h11*h22**2-h11**2*h22))*(f[2]*h11-h22*f[1]+f[0]*(h22-h11))\n",
    "        \n",
    "      #Para la frontera derecha\n",
    "        h111=x[-1]-x[-2]\n",
    "        h222=x[-1]-x[-3]\n",
    "        f_p2[-1]=(2/(h111*h222*h222-h111**2*h222))*(f[-3]*h111-h222*f[-2]+f[-1]*(h222-h111))\n",
    "        \n",
    "    return f_p2"
   ]
  },
  {
   "cell_type": "code",
   "execution_count": 77,
   "metadata": {},
   "outputs": [
    {
     "data": {
      "image/png": "[encoded data removed]",
      "text/plain": [
       "<Figure size 432x288 with 1 Axes>"
      ]
     },
     "metadata": {
      "needs_background": "light"
     },
     "output_type": "display_data"
    }
   ],
   "source": [
    "#Para comprobar que la función anterior se aproxima a la derivada en una función f con una malla uniforme\n",
    "#Se escoge la malla uniforme\n",
    "\n",
    "x = (np.linspace(-2*pi, 2*pi, 5000) )\n",
    "#Usamos una función de prueba\n",
    "y = cos(x)\n",
    "y_deriv_2 = -cos(x)\n",
    "y_deriv_2_num = deriv_2(y,x)\n",
    "#Graficamos para ver que la derivada numerica sí concuerda con la derivada analítica\n",
    "plot(x,y_deriv_2,label=\"$f''(x)$\")\n",
    "plot(x,y_deriv_2_num,label=\"f''(x) numérica\")\n",
    "legend(),grid()\n",
    "show()"
   ]
  },
  {
   "cell_type": "markdown",
   "metadata": {},
   "source": [
    "#### 2. Utilizando las funciones anteriores calcule el tiempo promedio para una malla con 500 puntos en cadauno de los algoritmos anteriores. De una explicación de las ventajas y desventajas de cada una las funciones antes mencionadas."
   ]
  },
  {
   "cell_type": "code",
   "execution_count": 78,
   "metadata": {},
   "outputs": [
    {
     "ename": "SyntaxError",
     "evalue": "invalid syntax (<ipython-input-78-23e3fe170bbe>, line 1)",
     "output_type": "error",
     "traceback": [
      "\u001b[1;36m  File \u001b[1;32m\"<ipython-input-78-23e3fe170bbe>\"\u001b[1;36m, line \u001b[1;32m1\u001b[0m\n\u001b[1;33m    Obtenemos el tiempo con una malla uniforme y la función para la segunda derivada númerica de orden 4 obtenida en a)\u001b[0m\n\u001b[1;37m              ^\u001b[0m\n\u001b[1;31mSyntaxError\u001b[0m\u001b[1;31m:\u001b[0m invalid syntax\n"
     ]
    }
   ],
   "source": [
    "Obtenemos el tiempo con una malla uniforme y la función para la segunda derivada númerica de orden 4 obtenida en a)"
   ]
  },
  {
   "cell_type": "code",
   "execution_count": 79,
   "metadata": {},
   "outputs": [
    {
     "name": "stdout",
     "output_type": "stream",
     "text": [
      "16.8 ms ± 2.7 ms per loop (mean ± std. dev. of 7 runs, 100 loops each)\n"
     ]
    }
   ],
   "source": [
    "#malla  en la variable x con 500 puntos\n",
    "#se aplica la función\n",
    "x = (np.linspace(0, 2*pi, 500))\n",
    "#Ahora se define la función que se va a derivar\n",
    "y = cos(x)\n",
    "# y también la segunda derivada númerica de orden 4\n",
    "y_deriv_1_num = deriv(y,x)\n",
    "\n",
    "#tiempo de la función\n",
    "%timeit (deriv(y,x))"
   ]
  },
  {
   "cell_type": "code",
   "execution_count": 80,
   "metadata": {},
   "outputs": [
    {
     "ename": "SyntaxError",
     "evalue": "invalid syntax (<ipython-input-80-db97baa1273f>, line 1)",
     "output_type": "error",
     "traceback": [
      "\u001b[1;36m  File \u001b[1;32m\"<ipython-input-80-db97baa1273f>\"\u001b[1;36m, line \u001b[1;32m1\u001b[0m\n\u001b[1;33m    Tiempo con una malla no uniforme y la función para la primera derivada númerica de orden 2\u001b[0m\n\u001b[1;37m           ^\u001b[0m\n\u001b[1;31mSyntaxError\u001b[0m\u001b[1;31m:\u001b[0m invalid syntax\n"
     ]
    }
   ],
   "source": [
    "Tiempo con una malla no uniforme y la función para la primera derivada númerica de orden 2"
   ]
  },
  {
   "cell_type": "code",
   "execution_count": null,
   "metadata": {},
   "outputs": [],
   "source": [
    "#malla en la variable x con 500 puntos\n",
    "#se aplica la función \n",
    "x = (np.linspace(0, 2*pi, 500))\n",
    "#Ahora se define la función que se va a derivar\n",
    "y = cos(x)\n",
    "\n",
    "# y también la primera derivada númerica de orden 4\n",
    "y_deriv_1_num = deriv_1(y,x)\n",
    "\n",
    "#tiempo de la función \n",
    "%timeit (deriv_1(y,x))"
   ]
  },
  {
   "cell_type": "code",
   "execution_count": null,
   "metadata": {},
   "outputs": [],
   "source": [
    "Tiempo con una malla no uniforme y la función para la segunda derivada  numérica de orden 2"
   ]
  },
  {
   "cell_type": "code",
   "execution_count": null,
   "metadata": {},
   "outputs": [],
   "source": [
    "#malla en la variable x con 500 puntos\n",
    "#se aplica la función \n",
    "x = (np.linspace(0, 2*pi, 500) )\n",
    "#Ahora se define la función que se va a derivar\n",
    "y = cos(x)\n",
    "#tiempo de la función \n",
    "%timeit (deriv_2(y,x))"
   ]
  },
  {
   "cell_type": "markdown",
   "metadata": {},
   "source": [
    "Se obtuvo un tiempo más corto  y con la segunda derivada de orden 4 con malla uniforme que con la segunda derivada de orden 2 con malla no uniforma aunque la segunda puede obtener derivadas en cualquier malla."
   ]
  },
  {
   "cell_type": "markdown",
   "metadata": {},
   "source": [
    "#### 3. Calcule la derivada analítica de las funciones $f(x)=e^{-x^{2}}sin(10x)$ con $x \\in [-5,5]$ y $g(x)=-\\frac{2}{x^{6}}+{\\frac{1}{x^{12}}}$ con $x \\in [0.5, 5]$. Realice las gráficas de las funciones y sus primeras dos derivadas. Con las funciones del problema 1, encuentre una malla adecuada para cada caso en el que el error de cálculo sea menor que $10^{−5}$ para cualquier punto. ¿Las mallas tienen el mismo espacio entre puntos de la malla?, explique porque si o porque no"
   ]
  },
  {
   "cell_type": "markdown",
   "metadata": {},
   "source": [
    "Obtenemos las derivadas analíticas para cada función:"
   ]
  },
  {
   "cell_type": "markdown",
   "metadata": {},
   "source": [
    "Para f(x) tenemos:\n",
    "$$f(x) = e^{−x^{2}} sin(10x)$$\n",
    "\n",
    "$$f^{(1)}(x)=2e^{-x^{2}}(5\\cos(10x)-x\\sin(10x)) $$\n",
    "\n",
    "$$f^{(2)}=e^{-x^{2}}(2(2x^{2}-51)\\sin(10x)-40x\\cos(10x))$$"
   ]
  },
  {
   "cell_type": "markdown",
   "metadata": {},
   "source": [
    "Para g(x) tenemos: \n",
    "$$g(x)=-\\frac{2}{x^{6}}+{\\frac{1}{x^{12}}}$$\n",
    "$$g^{(1)}(x)={\\frac{12}{x^{-7}}}-{\\frac{12}{x^{13}}} $$\n",
    "$$g^{(2)}(x)=-\\frac{84}{x^{-8}}+\\frac{156}{x^{-14}}  $$"
   ]
  },
  {
   "cell_type": "markdown",
   "metadata": {},
   "source": [
    "Graficando para $f(x)$ con $x \\in [-5,5]$ "
   ]
  },
  {
   "cell_type": "code",
   "execution_count": null,
   "metadata": {},
   "outputs": [],
   "source": [
    "#para f(x) tenemos 1000 puntos en el intervalo [-5,5]\n",
    "x=(linspace(-5,5,1000))\n",
    "#función f(x) \n",
    "y=exp(-(x**2))*sin(10*x)\n",
    "\n",
    "plot(x,y,label=\"f'(x)\")\n",
    "\n",
    "legend(),grid()\n",
    "show()"
   ]
  },
  {
   "cell_type": "markdown",
   "metadata": {},
   "source": [
    "Graficando para $g(x)$ con $x \\in [-5,5]$ "
   ]
  },
  {
   "cell_type": "code",
   "execution_count": null,
   "metadata": {},
   "outputs": [],
   "source": [
    "#para g(x) tenemos 1000 puntos en el intervalo [-5,5]\n",
    "x=(linspace(0.5,5,1000))\n",
    "#función g(x) \n",
    "y=-2/x**6+1/x**12\n",
    "plot(x,y,label=\"g(x)\")\n",
    "legend(),grid()\n",
    "show()"
   ]
  },
  {
   "cell_type": "markdown",
   "metadata": {},
   "source": [
    "Gráficas de las primeras derivadas ($f(x)$)"
   ]
  },
  {
   "cell_type": "code",
   "execution_count": null,
   "metadata": {},
   "outputs": [],
   "source": [
    "#tenemos 1000000 puntos en el intervalo [-5,5]\n",
    "x=(linspace(-5,5,1000000))\n",
    "y=exp(-(x**2))*sin(10*x)\n",
    "#derivada analitica\n",
    "yp1=2*exp(-(x*x))*(5*cos(10*x)-x*sin(10*x))\n",
    "##Para una malla no uniforme\n",
    "yp1_num=deriv_1(y,x)\n",
    "\n",
    "#Graficamos ambas derivadas\n",
    "plot(x,yp1,label=\"f'(x)\")\n",
    "plot(x,yp1_num,label=\"f'(x) númerica\")\n",
    "legend(),grid()\n",
    "show()\n",
    "#Escribe el máximo error entre puntos\n",
    "print(\"Error asociado a la segunda derivada no uniforme =\" ,\n",
    "      max(abs(yp1-yp1_num)) )"
   ]
  },
  {
   "cell_type": "code",
   "execution_count": null,
   "metadata": {},
   "outputs": [],
   "source": [
    "#tenemos 1000000 puntos en el intervalo [-5,5]\n",
    "x=(linspace(-5,5,1000000))#\n",
    "y=exp(-(x**2))*sin(10*x)\n",
    "## La derivada analitica\n",
    "yp2_2=2*exp(-(x*x))*(2*x**2*sin(10*x)-51*sin(10*x)-20*x*cos(10*x))\n",
    "##para una malla no uniforme\n",
    "yp2_2_num=deriv_2(y,x)\n",
    "\n",
    "#Graficamos ambas derivadas\n",
    "plot(x,yp2_2,label=\"f'(x)\")\n",
    "plot(x,yp2_2_num,label=\"f'(x) númerica\")\n",
    "legend(),grid()\n",
    "show()\n",
    "#Escribe el máximo error entre puntos\n",
    "print(\"Error asosiado a la segunda derivada no uniforme =\" ,\n",
    "      max(abs(yp2_2-yp2_2_num)) )"
   ]
  },
  {
   "cell_type": "code",
   "execution_count": null,
   "metadata": {},
   "outputs": [],
   "source": [
    "x=(linspace(-5,5,5000))#\n",
    "y=exp(-(x**2))*sin(10*x)\n",
    "## La derivada analitica\n",
    "yp2_2=2*exp(-(x*x))*(2*x**2*sin(10*x)-51*sin(10*x)-20*x*cos(10*x))\n",
    "##La derivada analítica para una malla no uniforme\n",
    "yp2_2_num=deriv(y,x)\n",
    "\n",
    "#Graficamos ambas derivadas\n",
    "plot(x,yp2_2,label=\"f'(x)\")\n",
    "plot(x,yp2_2_num,label=\"f'(x) númerica\")\n",
    "legend(),grid()\n",
    "show()\n",
    "#Escribe el máximo error entre puntos\n",
    "print(\"Error asociado a la segunda derivada no uniforme =\" ,\n",
    "      max(abs(yp2_2-yp2_2_num)) )"
   ]
  },
  {
   "cell_type": "markdown",
   "metadata": {},
   "source": [
    "Gráficas de las primeras derivadas ($g(x)$)"
   ]
  },
  {
   "cell_type": "code",
   "execution_count": null,
   "metadata": {},
   "outputs": [],
   "source": [
    "def malla(x):\n",
    "    return tan(x)\n",
    "\n",
    "y1=(linspace(1,1.5,10000))\n",
    "y2=linspace(1.5,2,500)\n",
    "y3=linspace(2,3.5,500)\n",
    "y2=linspace(3.5,5,100)\n",
    "\n",
    "def malla(x):\n",
    "    return 2*tanh(x) \n",
    "\n",
    "\n",
    "x1=(linspace(0.5,0.55,100000,endpoint=True))\n",
    "x2=(linspace(0.55,0.6,50500))\n",
    "result=np.concatenate((x1,x2))\n",
    "m = []\n",
    "for item in result:\n",
    "    if item not in m:\n",
    "        m.append(item)\n",
    "        \n",
    "\n",
    "x=x1\n",
    "#,axis=0)\n",
    "y=-2/x**6+x**(-12)\n",
    "\n",
    "## Derivada analitica\n",
    "yp1=12/x**7-12*x**(-13)\n",
    "\n",
    "yp1_num=deriv_1(y,x)\n",
    "\n",
    "plot(x,yp1,label=\"f'(x)\")\n",
    "plot(x,yp1_num,label=\"f'(x) númerica\")\n",
    "legend(),grid()\n",
    "show()\n",
    "#Escribe el máximo error entre puntos\n",
    "print(\"Error de la segunda derivada no uniforme =\" ,\n",
    "      max(abs(yp1-yp1_num)) )"
   ]
  },
  {
   "cell_type": "code",
   "execution_count": null,
   "metadata": {},
   "outputs": [],
   "source": [
    "x=(linspace(-5,5,100000000))\n",
    "\n",
    "y=exp(-(x**2))*sin(10*x)\n",
    "\n",
    "# Derivada analitica\n",
    "yp2_1=2*exp(-(x*x))*(2*x**2*sin(10*x)-51*sin(10*x)-20*x*cos(10*x))\n",
    "\n",
    "#Derivada analítica con una malla no uniforme\n",
    "\n",
    "yp2_1_num=deriv(y,x)\n",
    "\n",
    "#Graficando derivadas:\n",
    "\n",
    "plot(x,yp2_1,label=\"f'(x)\")\n",
    "plot(x,yp2_1_num,label=\"f'(x) númerica\")\n",
    "\n",
    "legend(),grid()\n",
    "show()\n",
    "\n",
    "#Escribe el máximo error entre puntos\n",
    "\n",
    "print(\"Error de la segunda derivada no uniforme =\" ,\n",
    "      max(abs(yp2_1-yp2_1_num)) )\n"
   ]
  },
  {
   "cell_type": "code",
   "execution_count": null,
   "metadata": {},
   "outputs": [],
   "source": [
    "x=linspace(0.5,5,70000)\n",
    "y=exp(-(x1*x1))*sin(10*x1)\n",
    "yp2=exp(-(x1*x1))*(((4*x1*x1-102)*sin(10*x1))-(40*x1*cos(10*x1)))\n",
    "\n",
    "yp2_num=deriv_2(y,x1)\n",
    "\n",
    "plot(x1,yp2,label=\"f(x)\")\n",
    "plot(x1,yp2_num,label=\"f''(x) númerica\")\n",
    "legend(),grid()\n",
    "\n",
    "show()\n",
    "#Escribe el máximo error entre puntos\n",
    "print(\"Error de la segunda derivada no uniforme =\" ,\n",
    "      max(abs(yp2-yp2_num)) )\n"
   ]
  },
  {
   "cell_type": "markdown",
   "metadata": {},
   "source": [
    "Derivada y las mallas para $g(x)$."
   ]
  },
  {
   "cell_type": "code",
   "execution_count": null,
   "metadata": {},
   "outputs": [],
   "source": [
    "x=(linspace(0.5,5,70000))\n",
    "\n",
    "y=-2/x**6+1/x**12\n",
    "\n",
    "# segunda derivada analitica\n",
    "\n",
    "yp2_1=-84/x**8+156/x**14\n",
    "#Derivada analítica para una malla no uniforme\n",
    "\n",
    "#Derivada analítica para una malla no uniforme\n",
    "yp2_1_num=deriv(y,x)\n",
    "\n",
    "#Graficamos de las derivadas:\n",
    "plot(x,yp2_1,label=\"f'(x)\")\n",
    "plot(x,yp2_1_num,label=\"f'(x) númerica\")\n",
    "legend(),grid()\n",
    "show()\n",
    "\n",
    "#Escribe el máximo error entre puntos\n",
    "\n",
    "print(\"Error de la segunda derivada no uniforme =\" ,\n",
    "      max(abs(yp2_1-yp2_1_num)) )"
   ]
  },
  {
   "cell_type": "code",
   "execution_count": null,
   "metadata": {},
   "outputs": [],
   "source": [
    "\n",
    "x=(linspace(0.5,5,4000000))\n",
    "\n",
    "y=-2/x**6+1/x**12\n",
    "\n",
    "# segunda derivada analitica\n",
    "\n",
    "yp2_1=-84/x**8+156/x**14\n",
    "\n",
    "#La derivada analítica para una malla no uniforme\n",
    "\n",
    "yp2_1_num=deriv_2(y,x)\n",
    "\n",
    "#Graficamos ambas derivadas\n",
    "\n",
    "plot(x,yp2_1,label=\"f'(x)\")\n",
    "plot(x,yp2_1_num,label=\"f'(x) númerica\")\n",
    "legend(),grid()\n",
    "show()\n",
    "#Escribe el máximo error entre puntos\n",
    "\n",
    "print(\"Error de la segunda derivada no uniforme =\" ,\n",
    "      max(abs(yp2_1-yp2_1_num)) )"
   ]
  },
  {
   "cell_type": "code",
   "execution_count": null,
   "metadata": {},
   "outputs": [],
   "source": [
    "x=(linspace(0.5,5,50000))\n",
    "\n",
    "y=-2/x**6+1/x**12\n",
    "# segunda derivada aanlítica\n",
    "\n",
    "yp1=12/x**7-12/x**13\n",
    "# segunda derivada analitica con malla no uniforme\n",
    "\n",
    "\n",
    "yp1_num=deriv_1(y,x)\n",
    "\n",
    "#Graficamos ambas derivadas\n",
    "\n",
    "plot(x,yp1,label=\"f'(x)\")\n",
    "\n",
    "plot(x,yp1_num,label=\"f'(x) númerica\")\n",
    "\n",
    "legend(),grid()\n",
    "show()\n",
    "\n",
    "#Escribe el máximo error entre dos puntos\n",
    "\n",
    "print(\"Error de la segunda derivada no uniforme =\" ,\n",
    "      max(abs(yp1-yp1_num)))"
   ]
  },
  {
   "cell_type": "markdown",
   "metadata": {},
   "source": [
    "#### 4. Suponga que tiene la función $sinc(x) =\\frac{ sin(3x)}{3x}$ en el intervalo$ [−2π, 2π]$. Calcule la derivada analítica de dicha función y calcule la derivada numérica utilizando una malla uniforme."
   ]
  },
  {
   "cell_type": "markdown",
   "metadata": {},
   "source": [
    "Tenemos:\n",
    "$$f(x) =\\frac{ sin(3x)}{3x}$$\n",
    "$$\\rightarrow f'(x)=\\frac{3x\\cos(3x)-\\sin(3x)}{3x^2}  $$\n",
    "\n",
    "$$f''(x)=\\frac{(2-9x^{2})\\sin(3x)-6x\\cos(3x)}{3x^{3}}$$"
   ]
  },
  {
   "cell_type": "markdown",
   "metadata": {},
   "source": [
    "(a) Dependiendo del lenguaje de programación que utilice, averigue la manera de obtener los tiempos de ejecución para calcular la derivada utilizando los algoritmos de $2^{\\circ}$ y $4^{\\circ}$ orden."
   ]
  },
  {
   "cell_type": "markdown",
   "metadata": {},
   "source": [
    "Basandonos en el Notebook 5 -Tiempos de ejecución de una sección de código tenemos que:"
   ]
  },
  {
   "cell_type": "markdown",
   "metadata": {},
   "source": [
    "Se utlizará la biblioteca time"
   ]
  },
  {
   "cell_type": "code",
   "execution_count": null,
   "metadata": {},
   "outputs": [],
   "source": [
    "import time\n",
    "import matplotlib.pyplot as plt\n",
    "from pylab import *"
   ]
  },
  {
   "cell_type": "markdown",
   "metadata": {},
   "source": [
    "Tiempo de ejecución de la primer derivada en una malla uniforme"
   ]
  },
  {
   "cell_type": "markdown",
   "metadata": {},
   "source": [
    "#Se definine la malla donde se evaluará la función"
   ]
  },
  {
   "cell_type": "code",
   "execution_count": null,
   "metadata": {},
   "outputs": [],
   "source": [
    "x = linspace(-2*pi,2*pi,500)\n",
    "## Empieza a contar el tiempo\n",
    "inicio = time.time()\n",
    "## se define la función a la que se medirá el tiempo de ejecución\n",
    "deriv_1=(sin(3*x)/(3*x),x)\n",
    "##termina de contar el tiempo\n",
    "fin = time.time()\n",
    "#Se resta el tiempo inicial y el tiempo final y obtenemos el tiempo de ejecución\n",
    "t_i = fin - inicio \n",
    "print(\"El tiempo de ejecución de la primera derivada es: \",t_i)\n"
   ]
  },
  {
   "cell_type": "markdown",
   "metadata": {},
   "source": [
    "\n",
    "Para una mejor aproximación:"
   ]
  },
  {
   "cell_type": "code",
   "execution_count": null,
   "metadata": {},
   "outputs": [],
   "source": [
    "x = linspace(-2*pi,2*pi,500)\n",
    "n_experimentos = 100 ## numero de veces que repitos el ciclo\n",
    "t_is =  zeros(n_experimentos)\n",
    "for i in range(n_experimentos):\n",
    "    inicio = time.time()\n",
    "    deriv_1=(sin(3*x)/(3*x),x)\n",
    "    fin = time.time()\n",
    "    t_is[i] = fin - inicio\n",
    "print(\"Tiempo de ejecución, más aproximado, de la primera derivada es:  \",mean(t_is))"
   ]
  },
  {
   "cell_type": "markdown",
   "metadata": {},
   "source": [
    " tiempo de ejecución para la segunda derivada:"
   ]
  },
  {
   "cell_type": "code",
   "execution_count": null,
   "metadata": {},
   "outputs": [],
   "source": [
    "# Para una malla no uniforme\n",
    "#Se defininé la malla donde se evaluara la funcion\n",
    "x = linspace(-2*pi,2*pi,500)\n",
    "#Iniciamos a correr el tiempo\n",
    "inicio = time.time()\n",
    "#definimos la función a la que se medirá el tiempo de ejecución\n",
    "deriv_2=(sin(3*x)/(3*x),x)\n",
    "#terminamos de contar el tiempo\n",
    "fin = time.time()\n",
    "#Se resta el tiempo inicial y el tiempo final y obtenemos el tiempo de ejecución\n",
    "t_i = fin - inicio \n",
    "print(\"Tiempo de ejecución de la segunda derivada es: \",t_i)"
   ]
  },
  {
   "cell_type": "markdown",
   "metadata": {},
   "source": [
    "Para tener una mejor medición podemos utilizar un ciclo for y hacer varias veces el cálculo para que al final podamos obtener una medición promedio."
   ]
  },
  {
   "cell_type": "code",
   "execution_count": null,
   "metadata": {},
   "outputs": [],
   "source": [
    "x = linspace(-2*pi,2*pi,500)\n",
    "n_experimentos = 100 ## numero de veces que repitos el ciclo\n",
    "t_is =  zeros(n_experimentos)\n",
    "for i in range(n_experimentos):\n",
    "    inicio = time.time()\n",
    "    deriv_2=(sin(3*x)/(3*x),x)\n",
    "    fin = time.time()\n",
    "    t_is[i] = fin - inicio\n",
    "print(\"Tiempo de ejecución, más aproximado, de la segunda derivada:  \",mean(t_is))"
   ]
  },
  {
   "cell_type": "markdown",
   "metadata": {},
   "source": [
    "\n",
    "tiempo de ejecución para la segunda derivada de orden 4:"
   ]
  },
  {
   "cell_type": "code",
   "execution_count": null,
   "metadata": {},
   "outputs": [],
   "source": [
    "##Obteniene los tiempos de ejecución de la segunda derivada de orden 4\n",
    "#Iniciamos definiendo la malla donde se evaluara la funcion\n",
    "x = linspace(-2*pi,2*pi,500)\n",
    "#Iniciamos a correr el tiempo\n",
    "inicio = time.time()\n",
    "#define la función a la que se medirá el tiempo de ejecución\n",
    "deriv=(sin(3*x)/(3*x),x)\n",
    "#terminamos de contar el tiempo\n",
    "fin = time.time()\n",
    "#Restando tiempps\n",
    "t_i = fin - inicio \n",
    "print(\"Tiempo de ejecución de la segunda derivada de orden 4 es: \",t_i)"
   ]
  },
  {
   "cell_type": "markdown",
   "metadata": {},
   "source": [
    "Para tener una mejor medición podemos utilizar un ciclo for y hacer varias veces el cálculo para que al final podamos obtener una medición promedio."
   ]
  },
  {
   "cell_type": "code",
   "execution_count": null,
   "metadata": {},
   "outputs": [],
   "source": [
    "x = linspace(-2*pi,2*pi,500)\n",
    "n_experimentos = 100 ## numero de veces que repitos el ciclo\n",
    "t_is =  zeros(n_experimentos)\n",
    "for i in range(n_experimentos):\n",
    "    inicio = time.time()\n",
    "    deriv=(sin(3*x)/(3*x),x)\n",
    "    fin = time.time()\n",
    "    t_is[i] = fin - inicio\n",
    "print(\"Tiempo de ejecución, más aproximado, de la segunda derivada:  \",mean(t_is))"
   ]
  },
  {
   "cell_type": "markdown",
   "metadata": {},
   "source": [
    "(b) Comparando con la solución analítica, encuentre el espacio entre los puntos de la malla para que el error máximo en el cálculo sea menor a $10^{-5}$ para cada algoritmo.\n"
   ]
  },
  {
   "cell_type": "code",
   "execution_count": 81,
   "metadata": {},
   "outputs": [
    {
     "name": "stdout",
     "output_type": "stream",
     "text": [
      "Error de la primer derivada no uniforme es: 3.0087616169627296e-06\n",
      "El espacio entre los puntos es: 0.0016757395138498055\n"
     ]
    }
   ],
   "source": [
    "x=linspace(-2*pi,2*pi,7500)\n",
    "#espacio entre los puntos:\n",
    "h=x[1]-x[0]\n",
    "#definendo la función a la que se le aplicará la primera derivada\n",
    "f=sin(3*x)/(3*x)\n",
    "## La derivada analitica\n",
    "fprima1=(3*x*cos(3*x)-sin(3*x))/(3*x*x)\n",
    "##derivada númerica definida con malla no uniforme\n",
    "fprima1_num=deriv_1(f,x)\n",
    "\n",
    "print(\"Error de la primer derivada no uniforme es:\" ,\n",
    "      max(abs(fprima1-fprima1_num)) )\n",
    "print(\"El espacio entre los puntos es:\",h)"
   ]
  },
  {
   "cell_type": "markdown",
   "metadata": {},
   "source": [
    "Para la segunda derivada:"
   ]
  },
  {
   "cell_type": "code",
   "execution_count": 82,
   "metadata": {},
   "outputs": [
    {
     "name": "stdout",
     "output_type": "stream",
     "text": [
      "Error de la segunda derivada no uniforme es 1.6087392863239902e-05\n",
      "El espacio entre los puntos es: 1.1423983671043914e-05\n"
     ]
    }
   ],
   "source": [
    "\n",
    "x=linspace(-2*pi,2*pi,2*550000)\n",
    "\n",
    "# espacio entre los puntos:\n",
    "h=x[1]-x[0]\n",
    "#definimos la función a la que se le aplicará la primera derivada\n",
    "f=sin(3*x)/(3*x)\n",
    "## La derivada analitica\n",
    "fprima2=((2-9*x**2)*sin(3*x)-6*x*cos(3*x))/(3*x**3)\n",
    "\n",
    "#yprima2=exp(-(x*x))*(((2*x*x-102)*sin(10*x))-(40*x*cos(10*x)))\n",
    "fprima2_num=deriv_2(f,x)\n",
    "\n",
    "print(\"Error de la segunda derivada no uniforme es\" ,\n",
    "      max(abs(fprima2-fprima2_num)) )\n",
    "print(\"El espacio entre los puntos es:\",h)"
   ]
  },
  {
   "cell_type": "code",
   "execution_count": 83,
   "metadata": {},
   "outputs": [
    {
     "name": "stdout",
     "output_type": "stream",
     "text": [
      "Error de la segunda derivada de orden 4 = 1.612089713076692e-05\n",
      "El espacio entre los puntos es: 1.1423983671043914e-05\n"
     ]
    }
   ],
   "source": [
    "x=linspace(-2*pi,2*pi,2*550000)\n",
    "#obteniendo el espacio entre los puntos:\n",
    "h=x[1]-x[0]\n",
    "#definimos la función a la que se le aplicará la primera derivada\n",
    "f=sin(3*x)/(3*x)\n",
    "## La derivada analitica\n",
    "fprima2_1=((2-9*x**2)*sin(3*x)-6*x*cos(3*x))/(3*x**3)\n",
    "\n",
    "#yprima2=exp(-(x*x))*(((2*x*x-102)*sin(10*x))-(40*x*cos(10*x)))\n",
    "fprima2_num_1=deriv(f,x)\n",
    "\n",
    "print(\"Error de la segunda derivada de orden 4 =\" ,\n",
    "      max(abs(fprima2_1-fprima2_num_1)) )\n",
    "print(\"El espacio entre los puntos es:\",h)"
   ]
  },
  {
   "cell_type": "markdown",
   "metadata": {},
   "source": [
    "(c)Realiza grafica “Número de puntos en el espaciamiento de la malla” vs “Tiempo de ejecución” partiendo de un espaciamiento en los puntos en la malla de 0.25 hasta el espaciamiento encontrado en el inciso b). Por o menos considere 15 puntos, es decir 15 mallas deferentes, para realizar este ejercicio.\n"
   ]
  },
  {
   "cell_type": "code",
   "execution_count": 85,
   "metadata": {},
   "outputs": [
    {
     "ename": "IndentationError",
     "evalue": "unindent does not match any outer indentation level (<tokenize>, line 9)",
     "output_type": "error",
     "traceback": [
      "\u001b[1;36m  File \u001b[1;32m\"<tokenize>\"\u001b[1;36m, line \u001b[1;32m9\u001b[0m\n\u001b[1;33m    n_experimentos = 200\u001b[0m\n\u001b[1;37m    ^\u001b[0m\n\u001b[1;31mIndentationError\u001b[0m\u001b[1;31m:\u001b[0m unindent does not match any outer indentation level\n"
     ]
    }
   ],
   "source": [
    "\n",
    "#Se define el rango de números de malla en el que se evaluará el tiempo\n",
    "num_puntos = linspace(25,7500,15)\n",
    "#y=linspace(-2*pi,0,500000)\n",
    "tiempos = zeros(len(num_puntos))\n",
    "for n_i in range (len(num_puntos)):                        \n",
    "        x = linspace(-2*pi,2*pi,int(num_puntos[n_i]))\n",
    "    #h=x[1]-x[0]\n",
    "    #print(h)\n",
    "    n_experimentos = 200\n",
    "    t_is = zeros(n_experimentos)\n",
    "    for i in range(n_experimentos):\n",
    "        inicio = time.time()\n",
    "        deriv_1=(sin(3*x)/(3*x),x)\n",
    "        fin = time.time()\n",
    "        t_is[i] = fin-inicio\n",
    "    tiempos[n_i] = mean(t_is)\n",
    "    \n",
    "title(\"Tiempo promedio para la primer derivada\")\n",
    "xlabel(\"Número de puntos en la malla\")\n",
    "ylabel(\"Tiempo en [$\\mu s$]\")\n",
    "plot(num_puntos,tiempos*1e6,'o-')\n",
    "grid()\n",
    "show()"
   ]
  },
  {
   "cell_type": "code",
   "execution_count": null,
   "metadata": {},
   "outputs": [],
   "source": [
    "#Se define el rango de números de malla en que evaluaremos el tiempo\n",
    "num_puntos = linspace(25,2*550000,15)\n",
    "\n",
    "#y=linspace(-2*pi,0,500000)\n",
    "tiempos = zeros(len(num_puntos))\n",
    "for n_i in range (len(num_puntos)):      \n",
    "    x = linspace(-2*pi,2*pi,int(num_puntos[n_i]))\n",
    "    #h=x[1]-x[0]\n",
    "    #print(h)\n",
    "    n_experimentos = 2\n",
    "    t_is = zeros(n_experimentos)\n",
    "    for i in range(n_experimentos):\n",
    "        inicio = time.time()\n",
    "        deriv_2=(sin(3*x)/(3*x),x)\n",
    "        fin = time.time()\n",
    "        t_is[i] = fin-inicio\n",
    "    tiempos[n_i] = mean(t_is)\n",
    "    \n",
    "title(\"Tiempo promedio para la segunda derivada obtenida con malla no uniforme\")\n",
    "xlabel(\"Número de puntos en la malla\")\n",
    "ylabel(\"Tiempo en [$\\mu s$]\")\n",
    "plot(num_puntos,tiempos*1e6,'o-')\n",
    "grid()\n",
    "show()"
   ]
  },
  {
   "cell_type": "code",
   "execution_count": null,
   "metadata": {},
   "outputs": [],
   "source": [
    "num_puntos = linspace(13,2*550000,15)\n",
    "tiempos = zeros(len(num_puntos))\n",
    "for n_i in range (len(num_puntos)):\n",
    "    x = linspace(-2*pi,2*pi,int(num_puntos[n_i]))    \n",
    "   \n",
    "    n_experimentos = 2\n",
    "    t_is = zeros(n_experimentos)\n",
    "    for i in range(n_experimentos):\n",
    "        inicio = time.time()\n",
    "        deriv=(sin(3*x)/(3*x),x)\n",
    "        fin = time.time()\n",
    "        t_is[i] = fin-inicio\n",
    "    tiempos[n_i] = mean(t_is)\n",
    "    \n",
    "title(\"Tiempo promedio para la segunda derivada de orden 4\")\n",
    "xlabel(\"Número de puntos en la malla\")\n",
    "ylabel(\"Tiempo en [$\\mu s$]\")\n",
    "plot(num_puntos,tiempos*1e6,'o-')\n",
    "grid()\n",
    "show()"
   ]
  },
  {
   "cell_type": "markdown",
   "metadata": {},
   "source": [
    "#for nos ayuda a calcular dichos tiempos y guardarlos en una variabl"
   ]
  },
  {
   "cell_type": "markdown",
   "metadata": {},
   "source": [
    "(d) ¿Qué puede concluir de este experimento numérico? "
   ]
  }
 ],
 "metadata": {
  "kernelspec": {
   "display_name": "Python 3",
   "language": "python",
   "name": "python3"
  },
  "language_info": {
   "codemirror_mode": {
    "name": "ipython",
    "version": 3
   },
   "file_extension": ".py",
   "mimetype": "text/x-python",
   "name": "python",
   "nbconvert_exporter": "python",
   "pygments_lexer": "ipython3",
   "version": "3.8.3"
  }
 },
 "nbformat": 4,
 "nbformat_minor": 4
}
