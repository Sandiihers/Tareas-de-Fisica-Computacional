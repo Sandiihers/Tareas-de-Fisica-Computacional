{
 "cells": [
  {
   "cell_type": "markdown",
   "metadata": {},
   "source": [
    "# Examen 1\n",
    "## Física Computacional\n",
    "### Hernández Ramos Sandra \n",
    "$Sandii\\hbar ers^{\\heartsuit}$ 🦆🌵🌹🥀🌿🍀🌺🌷\n",
    "\n",
    "\n",
    "\n",
    "## Python "
   ]
  },
  {
   "cell_type": "code",
   "execution_count": null,
   "metadata": {},
   "outputs": [],
   "source": [
    "#Definimos una función para obtener la derivada de orden 2 despreciando términos $h^{3}$\n",
    "def deriv_h3(f,x):\n",
    "    f_prima = zeros(len(f))\n",
    "    #Derivada para los puntos que no están en la frontera              \n",
    "    for i in range(1,len(f)-1):\n",
    "        f_prima[i] = ( f[i+1]-f[i-1] )/(x[i+1]-x[i-1])\n",
    "    #Derivada en el primer punto\n",
    "    f_prima[0] = ( -0.5*f[2] + 2*f[1] -1.5*f[0] )/(x[1]-x[0])\n",
    "    #Derivada en el último punto\n",
    "    f_prima[-1] = -( -0.5*f[-3] + 2*f[-2] -1.5*f[-1] )/(x[-1]-x[-2])    \n",
    "    return f_prima"
   ]
  },
  {
   "cell_type": "code",
   "execution_count": null,
   "metadata": {},
   "outputs": [],
   "source": [
    "#Algoritmo para calcular la derivada despreciando $h^{3}$\n",
    "#Notebook 3\n",
    "def deriv_h3(f,x):\n",
    "    f_prima = zeros(len(f))\n",
    "    h = x[1] - x[0]\n",
    "    dosh = 2*h\n",
    "    for i in range(1,len(f)-1):        \n",
    "        f_prima[i] = ( f[i+1]-f[i-1] )/(dosh)\n",
    "    # calcular el primer punto\n",
    "    f_prima[0] = ( -0.5*f[2] + 2*f[1] -1.5*f[0] )/h\n",
    "    # calcular el ultimo punto\n",
    "    f_prima[-1] = -( -0.5*f[-3] + 2*f[-2] -1.5*f[-1] )/h    \n",
    "    return f_prima"
   ]
  },
  {
   "cell_type": "markdown",
   "metadata": {},
   "source": [
    "También podemos usar el Algoritmo 2 usado en Notebook 6  que está al principio de esta tarea, en el ejerccicio 1."
   ]
  },
  {
   "cell_type": "markdown",
   "metadata": {},
   "source": [
    "***En el Notebook 6 tenemos***  <span style=\"color:violet\">Esto calcula la intefral que desprecia $h^{3}$<\\span>\n",
    "\n",
    "El algoritmo para los puntos de interés cuando se tiene un número impar de puntos es:\n",
    "$$\\int_{x_i-h}^{x_i+h}f(x)dx=h\\frac{f_{i+1}+4f_i+f_{i-1}}{3}$$\n",
    "\n",
    "En el caso de que se tenga un número par de puntos hay que recorrer el índice de inicio y agregar el punto inicial como se indica en las notas del curso:\n",
    "$$\\int_{x_0}^{x_0+h}f(x)dx=\\frac{h}{48}(23f_{0}+26f_{1}-4f_{2}+6f_{3}-3f_{4})$$\n",
    "\n",
    "<span style=\"color:green\">Lo que nos funciona perfectamente ya que desprecia términos de $h^{3}$ que es justo lo que se pide "
   ]
  },
  {
   "cell_type": "markdown",
   "metadata": {},
   "source": [
    "def int_alg2(x,y):\n",
    "    integral = 0\n",
    "    h = x[1] - x[0]\n",
    "    if mod(len(y),2) == 0:\n",
    "        inicio = 2\n",
    "    elif mod(len(y),2) == 1:\n",
    "        inicio = 1\n",
    "    for i in range(inicio,len(y)-1,2):\n",
    "        integral += y[i+1] + 4*y[i] + y[i-1]\n",
    "    integral = integral*(h/3)\n",
    "    # punto inicial si se tiene un arreglo par\n",
    "    if mod(len(y),2) == 0:\n",
    "        integral += (h/48)*(23*y[0] + 26*y[1] - 4*y[2] + 6*y[3] -3*y[4])\n",
    "    return integral"
   ]
  },
  {
   "cell_type": "code",
   "execution_count": null,
   "metadata": {},
   "outputs": [],
   "source": [
    "print('La integral despreciando valor de $h^{3}$ es: ', int_alg2(t,a))"
   ]
  },
  {
   "cell_type": "markdown",
   "metadata": {},
   "source": [
    "***Para calcular la derivada que desprecie los términos en $h^{5}$:***"
   ]
  },
  {
   "cell_type": "markdown",
   "metadata": {},
   "source": [
    "Usando Notebook 3"
   ]
  },
  {
   "cell_type": "markdown",
   "metadata": {},
   "source": [
    "En las notas de clase viene la forma de derivar una expresión de la derivada de $f(x)$ donde se desprecian términos de ordenm $h^{5}$ en adelnate. Esto implica tener que hacer operaciones con dos puntos a la izquierda y dos a la derecha para una expresión simétrica. Esta expresión es:\n",
    "$$f'(x_{i})=\\frac{1}{12h}(-f_{i+2}+8f_{i+1}-8f_{i-1}+f_{i-2})$$\n",
    "Los puntos extremos se calculan de manera asimétricaa con la siguiente expresión:\n",
    "$$f'(x_{i})=\\frac{1}{h} \\left(-\\frac{25}{12}f_{i}+4f_{i+1}-3f_{i+2}+\\frac{4}{3}f_{i+3}-\\frac{1}{4}f_{i+4}\\right)$$"
   ]
  },
  {
   "cell_type": "code",
   "execution_count": null,
   "metadata": {},
   "outputs": [],
   "source": []
  }
 ],
 "metadata": {
  "kernelspec": {
   "display_name": "Python 3",
   "language": "python",
   "name": "python3"
  },
  "language_info": {
   "codemirror_mode": {
    "name": "ipython",
    "version": 3
   },
   "file_extension": ".py",
   "mimetype": "text/x-python",
   "name": "python",
   "nbconvert_exporter": "python",
   "pygments_lexer": "ipython3",
   "version": "3.8.3"
  }
 },
 "nbformat": 4,
 "nbformat_minor": 4
}
