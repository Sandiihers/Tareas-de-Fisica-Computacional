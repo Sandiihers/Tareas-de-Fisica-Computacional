{
 "cells": [
  {
   "cell_type": "markdown",
   "metadata": {},
   "source": [
    "# Examen 2\n",
    "## Física Computacional\n",
    "### Hernández Ramos Sandra \n",
    "$Sandii\\hbar ers^{\\heartsuit}$ 🦆🌵🌹🥀🌿🍀🌺🌷\n",
    "\n",
    "\n",
    "\n",
    "## Julia"
   ]
  },
  {
   "cell_type": "code",
   "execution_count": 4,
   "metadata": {},
   "outputs": [],
   "source": [
    "using Plots\n",
    "using LaTeXStrings\n",
    "using Roots\n",
    "#import Pkg\n",
    "#Pkg.add(\"Roots\")"
   ]
  },
  {
   "cell_type": "markdown",
   "metadata": {},
   "source": [
    "Resuelva los siguientes ejercicios, explicando claramente su razonamiento"
   ]
  },
  {
   "cell_type": "markdown",
   "metadata": {},
   "source": [
    "<span style=\"color:blue\">1. Se tiene un oscilador armónico en dos dimensiones $(xy)$ en el que la fuerza está dad por $\\vec{F}=-k\\vec{r}$ y se tiene una fricción $\\vec{f}_{fric}=-\\gamma\\vec{v}$   si  $|\\vec{v}| ≤ 1$, pero cuando $|\\vec{v}|>1$ la fracción es $\\vec{f}_{fric}=-\\mu v^{3/2}\\hat{v}$. Si $m=1$, $k=1$, $y=0.1$ y $\\mu=0.2$, resuelva los siguientes ejercicios:<span>"
   ]
  },
  {
   "cell_type": "markdown",
   "metadata": {},
   "source": [
    "<span style=\"color:blue\">a). Encuentre las ecuaciones de movimiendo en coordenadas cartesianas. No es necesario resolver las ecuaciones.<span>"
   ]
  },
  {
   "cell_type": "markdown",
   "metadata": {},
   "source": [
    "<span style=\"color:blue\">b). Utilice el método de Runge-Kutta de 4to orden para encontrar la solución a las ecuaiones de movimiento en el inciso anterior con condiciones iniciales $\\vec{r}_{0}=(0,1)$ y $\\vec{v}_{0}=(\\cos\\theta,\\sin \\theta)$, donde $\\theta=\\frac{n\\pi}{6}$ con n=0,1,2,3,...,10,11. <span>"
   ]
  },
  {
   "cell_type": "markdown",
   "metadata": {},
   "source": [
    "<span style=\"color:blue\">c). Genere una función que calcule la energía para las distintas condicines iniciales y detenga la simulación cuando ésta sea menor al 30% de su valor inicial. Cabe mencionar que debe hacer su simulación (paso de integración) de tal manera que el error en la trayectoria no tenga variaciones de más del 1%, es decir se debe asegurar convergencia a la solución con error de a lo más 1%. <span>"
   ]
  },
  {
   "cell_type": "markdown",
   "metadata": {},
   "source": [
    "<span style=\"color:blue\">d). Dibuje las gráficas del momento angular para los casos anteriores en el inciso (1b). <span>"
   ]
  },
  {
   "cell_type": "markdown",
   "metadata": {},
   "source": [
    "<span style=\"color:blue\">e). Tome de manera arbitraria alguna condición inicial y dibuje el espacio fase $(p_x,x)$ <span>"
   ]
  },
  {
   "cell_type": "markdown",
   "metadata": {},
   "source": [
    "<span style=\"color:blue\">2. Suponga que se tiene el sistema como en el problema anterior, pero ahora la partícula tiene carga $q > 0$\n",
    "y en el origen también se encuentra una partícula de carga $q > 0$. <span>"
   ]
  },
  {
   "cell_type": "markdown",
   "metadata": {},
   "source": [
    "<span style=\"color:blue\">a).Sin considerar la fricción, ¿El sistema puede tener órbitas cerradas?. De ser así, encuentre algunas de estas órbitas o muestre que el sistema no puede tener este tipo de órbitas. (Apoye sus\n",
    "argumentos con alguna simulación).\n",
    " <span>"
   ]
  },
  {
   "cell_type": "markdown",
   "metadata": {},
   "source": [
    "<span style=\"color:blue\">b). Considerando fricción, ¿El sistema puede tener órbitas cerradas?. De ser así, encuentre algunas de\n",
    "estas órbitas o muestre que el sistema no puede tener este tipo de órbitas. (Apoye sus argumentos con alguna simulación). <span>"
   ]
  },
  {
   "cell_type": "markdown",
   "metadata": {},
   "source": [
    "<span style=\"color:blue\">3. Se obtiene la siguiente función:\n",
    "$$  \n",
    "f(x,y)=2e^{-(x+1)^{2}}(e^{-(y+2)^{2}}+e^{-y-2)^{2}})+6x(x^{2}+y^{2})e^{-x^{2}+y^{2})}-1 \n",
    "$$<span>\n",
    "\n",
    "<span style=\"color:blue\">Encuentre los puntos $(\\tilde{x},\\tilde{y})$ tales que $f=(\\tilde{x},\\tilde{y})=0$ y dibuje estos puntos en el plano $xy$.<span>\n",
    "    \n",
    "<span style=\"color:blue\">Hint:Como podrá notar los puntos a buscar se encuentran en la región $x,y \\in (-4,4)\\times(-4,4)$. Una forma de obtener los puntos es haciendo un barrido para $x$ fija y encontrando todas las raíces de la ecuación en términos de $y$. Entre más fino haga el barrido, la curva de nivel que se encuentre será mejor.<span>\n"
   ]
  },
  {
   "cell_type": "code",
   "execution_count": null,
   "metadata": {},
   "outputs": [],
   "source": []
  }
 ],
 "metadata": {
  "kernelspec": {
   "display_name": "Julia 1.0.5",
   "language": "julia",
   "name": "julia-1.0"
  },
  "language_info": {
   "file_extension": ".jl",
   "mimetype": "application/julia",
   "name": "julia",
   "version": "1.0.5"
  }
 },
 "nbformat": 4,
 "nbformat_minor": 4
}
