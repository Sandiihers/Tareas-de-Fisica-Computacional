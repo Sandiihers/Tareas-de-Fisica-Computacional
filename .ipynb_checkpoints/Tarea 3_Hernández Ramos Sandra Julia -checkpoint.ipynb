{
 "cells": [
  {
   "cell_type": "markdown",
   "metadata": {},
   "source": [
    "# Tarea 3\n",
    "## Física Computacional\n",
    "### Hernández Ramos Sandra \n",
    "$Sandii\\hbar ers^{\\heartsuit}$ 🦆🌵🌹🥀🌿🍀🌺🌷\n",
    "\n",
    "\n",
    "\n",
    "## Julia"
   ]
  },
  {
   "cell_type": "code",
   "execution_count": 40,
   "metadata": {},
   "outputs": [
    {
     "name": "stdout",
     "output_type": "stream",
     "text": [
      "\u001b[32m\u001b[1m Resolving\u001b[22m\u001b[39m package versions...\n",
      "\u001b[32m\u001b[1m  Updating\u001b[22m\u001b[39m `C:\\Users\\x\\.julia\\environments\\v1.0\\Project.toml`\n",
      "\u001b[90m [no changes]\u001b[39m\n",
      "\u001b[32m\u001b[1m  Updating\u001b[22m\u001b[39m `C:\\Users\\x\\.julia\\environments\\v1.0\\Manifest.toml`\n",
      "\u001b[90m [no changes]\u001b[39m\n",
      "\u001b[32m\u001b[1m Resolving\u001b[22m\u001b[39m package versions...\n",
      "\u001b[32m\u001b[1m  Updating\u001b[22m\u001b[39m `C:\\Users\\x\\.julia\\environments\\v1.0\\Project.toml`\n",
      "\u001b[90m [no changes]\u001b[39m\n",
      "\u001b[32m\u001b[1m  Updating\u001b[22m\u001b[39m `C:\\Users\\x\\.julia\\environments\\v1.0\\Manifest.toml`\n",
      "\u001b[90m [no changes]\u001b[39m\n"
     ]
    },
    {
     "name": "stderr",
     "output_type": "stream",
     "text": [
      "┌ Info: Precompiling Plots [91a5bcdd-55d7-5caf-9e0b-520d859cae80]\n",
      "└ @ Base loading.jl:1192\n"
     ]
    },
    {
     "name": "stdout",
     "output_type": "stream",
     "text": [
      "Deps path: C:\\Users\\x\\.julia\\packages\\FFMPEG\\guN1x\\src\\..\\deps\\deps.jl\n"
     ]
    },
    {
     "name": "stderr",
     "output_type": "stream",
     "text": [
      "ERROR: LoadError: FFMPEG not installed properly, run `] build FFMPEG`, restart Julia and try again\n",
      "Stacktrace:\n",
      " [1] error(::String) at .\\error.jl:33\n",
      " [2] top-level scope at C:\\Users\\x\\.julia\\packages\\FFMPEG\\guN1x\\src\\FFMPEG.jl:23\n",
      " [3] include at .\\boot.jl:317 [inlined]\n",
      " [4] include_relative(::Module, ::String) at .\\loading.jl:1044\n",
      " [5] include(::Module, ::String) at .\\sysimg.jl:29\n",
      " [6] top-level scope at none:2\n",
      " [7] eval at .\\boot.jl:319 [inlined]\n",
      " [8] eval(::Expr) at .\\client.jl:393\n",
      " [9] top-level scope at .\\none:3\n",
      "in expression starting at C:\\Users\\x\\.julia\\packages\\FFMPEG\\guN1x\\src\\FFMPEG.jl:21\n",
      "ERROR: LoadError: Failed to precompile FFMPEG [c87230d0-a227-11e9-1b43-d7ebe4e7570a] to C:\\Users\\x\\.julia\\compiled\\v1.0\\FFMPEG\\TGvga.ji.\n",
      "Stacktrace:\n",
      " [1] error(::String) at .\\error.jl:33\n",
      " [2] compilecache(::Base.PkgId, ::String) at .\\loading.jl:1203\n",
      " [3] _require(::Base.PkgId) at .\\loading.jl:960\n",
      " [4] require(::Base.PkgId) at .\\loading.jl:858\n",
      " [5] require(::Module, ::Symbol) at .\\loading.jl:853\n",
      " [6] include at .\\boot.jl:317 [inlined]\n",
      " [7] include_relative(::Module, ::String) at .\\loading.jl:1044\n",
      " [8] include(::Module, ::String) at .\\sysimg.jl:29\n",
      " [9] top-level scope at none:2\n",
      " [10] eval at .\\boot.jl:319 [inlined]\n",
      " [11] eval(::Expr) at .\\client.jl:393\n",
      " [12] top-level scope at .\\none:3\n",
      "in expression starting at C:\\Users\\x\\.julia\\packages\\Plots\\E3MWZ\\src\\Plots.jl:15\n"
     ]
    },
    {
     "ename": "ErrorException",
     "evalue": "Failed to precompile Plots [91a5bcdd-55d7-5caf-9e0b-520d859cae80] to C:\\Users\\x\\.julia\\compiled\\v1.0\\Plots\\ld3vC.ji.",
     "output_type": "error",
     "traceback": [
      "Failed to precompile Plots [91a5bcdd-55d7-5caf-9e0b-520d859cae80] to C:\\Users\\x\\.julia\\compiled\\v1.0\\Plots\\ld3vC.ji.",
      "",
      "Stacktrace:",
      " [1] error(::String) at .\\error.jl:33",
      " [2] compilecache(::Base.PkgId, ::String) at .\\loading.jl:1203",
      " [3] _require(::Base.PkgId) at .\\loading.jl:960",
      " [4] require(::Base.PkgId) at .\\loading.jl:858",
      " [5] require(::Module, ::Symbol) at .\\loading.jl:853",
      " [6] top-level scope at In[40]:4"
     ]
    }
   ],
   "source": [
    "import Pkg\n",
    "Pkg.add(\"Plots\")\n",
    "Pkg.add(\"PyPlot\")\n",
    "using Plots\n",
    "using LaTeXStrings\n",
    "import PyPlot\n"
   ]
  },
  {
   "cell_type": "markdown",
   "metadata": {},
   "source": [
    "Resuelva los siguientes ejercicios, explicando claramente su razonamiento"
   ]
  },
  {
   "cell_type": "markdown",
   "metadata": {},
   "source": [
    "<span style=\"color:blue\">1. En clase vimos el método de Euler mejorado en el que nosotros introducimos el Jacobiano de forma\n",
    "analítica para ser evaluado por el método de integración. Realice una función que implemente el\n",
    "mismo método de integración, pero en lugar de calcular el Jacobiano con una función que lo evalúa\n",
    "analíticamente, ahora sea calculado de manera numérica utilizando la derivación numérica<span>"
   ]
  },
  {
   "cell_type": "markdown",
   "metadata": {},
   "source": [
    "Obtenemos una función que nos la función que nos exprese el jacobiano por lo que tomaremos en cuenta que la derivada parcial de una función será aumentando en la variable respecto a la cual derivaremos, el aumento esta dado por:\n",
    "$$\\frac{\\partial f(\\vec{x}_0)}{\\partial x_i}=\\frac{f(\\vec{x}_0+h\\vec{e_i})-f(f(\\vec{x}_0-h\\vec{e_i})}{2h}$$"
   ]
  },
  {
   "cell_type": "markdown",
   "metadata": {},
   "source": [
    "Para el jacobiano usaremos la derivada parcial de la j-ésima entrada del jacobiano, así que usando la ecuación anterior tenemos: \n",
    "$$\\frac{\\partial f(\\vec{x}_0)_j}{\\partial x_i}=\\frac{f(\\vec{x}_0+h\\vec{e_i})_j-f(f(\\vec{x}_0-h\\vec{e_i})_j}{2h}$$"
   ]
  },
  {
   "cell_type": "code",
   "execution_count": 10,
   "metadata": {},
   "outputs": [
    {
     "data": {
      "text/plain": [
       "jacobianotemp (generic function with 1 method)"
      ]
     },
     "execution_count": 10,
     "metadata": {},
     "output_type": "execute_result"
    }
   ],
   "source": [
    "#Definimos la función que nos dará la matriz jacobiana\n",
    "#la entrada xi consiste en las variables espaciales del problema, donde obtendremos las parciales\n",
    "#h el paso para la obtención de las derivadas parciales\n",
    "#func es la función a la cual sacaremos el jacobiano\n",
    "#t el tiempo donde evaluaremos la parcial temporal\n",
    "function jacobianotemp(xi,h,funcion,t) #donde \"xi\" son las variables espaciales y ahí obtendremos las parciales, \"h\" los pasos para\n",
    "                                    #obtener las derivadas parciales, \"funcion\" es la función a la que calcularemos el jacobiano\n",
    "                                    # \"t\" es el tiempo donde se va a evaluar la parcial.\n",
    "    #Entradas de la matriz:\n",
    "    jac=zeros(length(funcion(xi,t)),length(xi)+1)\n",
    "    #Ciclo for para guardar las entradas de la matriz\n",
    "    for i in 1:length(funcion(xi,t)), j in 1:length(xi)\n",
    "       #Vectores xp1 y xp2, como los vectores que tiene un aumento o desaumento en la i-ésima entrda.\n",
    "        xp1=zeros(length(xi))\n",
    "        xp2=zeros(length(xi))\n",
    "        #Ciclo for para definir las entradas de los vectores donde se evaluará la función para obtener la derivada parcial\n",
    "        for k in 1:length(xi)\n",
    "            #Aqui sólo agregamos el incremento a la j-ésima entrada del vector\n",
    "            if  k==j \n",
    "                xp1[k]=xi[j]+h\n",
    "                xp2[k]=xi[j]-h\n",
    "            else\n",
    "                #Dejamos todas las demás entradas igual\n",
    "                xp1[k]=xi[j]\n",
    "                xp2[k]=xi[j]\n",
    "            end\n",
    "        end\n",
    "        #Definimos la entrada ij de la matriz jacobiana, sin tomar en cuenta la entrada de la parcial temporal\n",
    "        jac[i,j]=(funcion(xp1,t)[i]-funcion(xp2,t)[i])/(xp1[j]-xp2[j])\n",
    "        #definimos las componentes de la columna de la parcial temporal\n",
    "        jac[i,length(xi)+1]=(funcion(xi,t+h)[i]-funcion(xi,t-h)[i])/(2h)\n",
    "    end\n",
    "    return jac\n",
    "end"
   ]
  },
  {
   "cell_type": "markdown",
   "metadata": {},
   "source": [
    "Usamos la función del Notebook 9 \"function Euler_mejorado_J_t\" porque toma la posibilidad de que el sistema no sea autónomo y tenemos al jacobiano con dependencia temporal"
   ]
  },
  {
   "cell_type": "code",
   "execution_count": 11,
   "metadata": {},
   "outputs": [
    {
     "data": {
      "text/plain": [
       "Euler_mejorado_J_t_num (generic function with 1 method)"
      ]
     },
     "execution_count": 11,
     "metadata": {},
     "output_type": "execute_result"
    }
   ],
   "source": [
    "#modificando un poco la función del Notebook 9\n",
    "function Euler_mejorado_J_t_num(edo,edo_1,p_ini,t) #donde edo=función que nos da la ecuación diferencial ordinaria, edo_1=función,\n",
    "    # J y g con dependencia temporal.           # con un elemento 1 en la última entrada, ejemplo [x,y,z,elemento]\n",
    "    sol = zeros(length(t),length(p_ini))        #p_ini=condiciones de posición inicial, t=tiempo\n",
    "    sol[1,:] = p_ini\n",
    "    δ = t[2]-t[1]\n",
    "    for i in 1:(length(t)-1)\n",
    "        eval_edo = edo(sol[i,:],t[i])\n",
    "        #definimos g* que es la función por la que multiplicaremos el jacobiano\n",
    "        g=edo_1(sol[i,:],t[i])\n",
    "        if length(eval_edo) == length(p_ini)\n",
    "            sol[i+1,:] .= sol[i,:] .+ δ .*eval_edo\n",
    "        else\n",
    "            sol[i+1,:] .= sol[i,:] .+ δ .*eval_edo[1:(end-1)]\n",
    "        end\n",
    "        #cambiamos jacob por nuestra función del jacobiano que obtuvimos\n",
    "        sol[i+1,:] .+= 0.5*(δ^2) .*(jacobianotemp(sol[i,:],δ,edo,t[i]) *g )\n",
    "    end\n",
    "    return sol\n",
    "end"
   ]
  },
  {
   "cell_type": "markdown",
   "metadata": {},
   "source": [
    "Usamos el sitema de ecuaciones diferenciales del ejercicio 2 para comprobar que funciona la función"
   ]
  },
  {
   "cell_type": "code",
   "execution_count": 12,
   "metadata": {},
   "outputs": [
    {
     "data": {
      "text/plain": [
       "sistema_t (generic function with 1 method)"
      ]
     },
     "execution_count": 12,
     "metadata": {},
     "output_type": "execute_result"
    }
   ],
   "source": [
    "#Definimos a la función \"sistema_t\" con el sistma de ecuaciones\n",
    "function sistema_t(xyz,t)\n",
    "    # xyz = [x1, x2, x3]\n",
    "    dx = xyz[2]\n",
    "    dy = xyz[3]\n",
    "    dz = -xyz[3]*xyz[3] + 3*xyz[2]*xyz[2]*xyz[2] - cos(xyz[1])*cos(xyz[1]) + exp(-1*t)*sin(3*t)\n",
    "    return [dx,dy,dz]\n",
    "end"
   ]
  },
  {
   "cell_type": "markdown",
   "metadata": {},
   "source": [
    "Usaremos otra función que nos servirá de auxiliar muy parecida a \"sistema_t\" pero con una segunda entrada unitaria para obtener g*"
   ]
  },
  {
   "cell_type": "code",
   "execution_count": 13,
   "metadata": {},
   "outputs": [
    {
     "data": {
      "text/plain": [
       "sistema_t_auxiliar (generic function with 1 method)"
      ]
     },
     "execution_count": 13,
     "metadata": {},
     "output_type": "execute_result"
    }
   ],
   "source": [
    "function sistema_t_auxiliar(xyz,t)\n",
    "    # xyz = [x1, x2, x3]\n",
    "    dx = xyz[2]\n",
    "    dy = xyz[3]\n",
    "    dz = -xyz[3]*xyz[3] + 3*xyz[2]*xyz[2]*xyz[2] - cos(xyz[1])*cos(xyz[1]) + exp(-1*t)*sin(3*t)\n",
    "    return [dx,dy,dz,1.0]\n",
    "end\n",
    "    "
   ]
  },
  {
   "cell_type": "code",
   "execution_count": 14,
   "metadata": {},
   "outputs": [
    {
     "data": {
      "text/plain": [
       "6×3 Array{Float64,2}:\n",
       " 1.0      2.0       1.0    \n",
       " 1.205    2.2138    3.23192\n",
       " 1.44254  2.64661   5.43167\n",
       " 1.73436  3.31959   8.33056\n",
       " 2.10797  4.35329  13.1254 \n",
       " 2.60893  6.03956  21.9648 "
      ]
     },
     "execution_count": 14,
     "metadata": {},
     "output_type": "execute_result"
    }
   ],
   "source": [
    "#Definimos \"tiempo\" que será el tiempo donde vamos a evaluar\n",
    "tiempo = collect(1:0.1:1.5)\n",
    "solucion = Euler_mejorado_J_t_num(sistema_t,sistema_t_auxiliar,[1.0,2.0,1.0],tiempo)"
   ]
  },
  {
   "cell_type": "markdown",
   "metadata": {},
   "source": [
    "### ¡Funciona! 😁🎉"
   ]
  },
  {
   "cell_type": "markdown",
   "metadata": {},
   "source": [
    "<span style=\"color:blue\">2. Utilizando los integradores de Euler mejorado con Jacobiano analítico, Euler mejorado con Jacobiano\n",
    "numérico, Runge-Kutta de $2^{\\circ}$ orden y Runge-Kutta de $4^{\\circ}$ orden, encuentre un paso de integración que\n",
    "proporcione una precisión de $10^{−4}$\n",
    "en la solución para la siguiente ecuación:\n",
    "    \\begin{equation}\n",
    "\\dddot{y}+\\ddot{y}^{2}-3\\dot{y}+\\cos^{2}y=e^{-t}\\sin(3t)\n",
    "    \\end{equation}\n",
    "    \n",
    "<span style=\"color:blue\">Con condiciones iniciales $\\ddot{y}(1) = 1$, $\\dot{y}(1) = 2$, $y(1) = 1$. En particular que sucede en el intervalo $t \\in [1, 2]$ y $t \\in [1, 2.1]$.<span>"
   ]
  },
  {
   "cell_type": "markdown",
   "metadata": {},
   "source": [
    "Usamos la función del Notebook 9 \"Euler_mejorado_J_t\" "
   ]
  },
  {
   "cell_type": "code",
   "execution_count": 15,
   "metadata": {},
   "outputs": [
    {
     "data": {
      "text/plain": [
       "Euler_mejorado_J_t (generic function with 1 method)"
      ]
     },
     "execution_count": 15,
     "metadata": {},
     "output_type": "execute_result"
    }
   ],
   "source": [
    "#Copiamos tal cual esta en el Notebook 9 😅\n",
    "function Euler_mejorado_J_t(edo,p_ini,t,jacob)\n",
    "    # J y g con dependencia temporal.\n",
    "    sol = zeros(length(t),length(p_ini))\n",
    "    sol[1,:] = p_ini\n",
    "    δ = t[2]-t[1]\n",
    "    for i in 1:(length(t)-1)\n",
    "        eval_edo = edo(sol[i,:],t[i])\n",
    "        if length(eval_edo) == length(p_ini)\n",
    "            sol[i+1,:] .= sol[i,:] .+ δ .*eval_edo\n",
    "        else\n",
    "            sol[i+1,:] .= sol[i,:] .+ δ .*eval_edo[1:(end-1)]\n",
    "        end\n",
    "        sol[i+1,:] .+= 0.5*(δ^2) .*(jacob(sol[i,:],t[i]) *eval_edo )\n",
    "    end\n",
    "    return sol\n",
    "end"
   ]
  },
  {
   "cell_type": "markdown",
   "metadata": {},
   "source": [
    "Usamos la función \"RK_2\" para el Método de Runge-Kutta de segundo orden (Notebook 10)"
   ]
  },
  {
   "cell_type": "code",
   "execution_count": 16,
   "metadata": {},
   "outputs": [
    {
     "data": {
      "text/plain": [
       "RK_2 (generic function with 1 method)"
      ]
     },
     "execution_count": 16,
     "metadata": {},
     "output_type": "execute_result"
    }
   ],
   "source": [
    "#Copiamos tal cual esta en el Notebook 10 😅\n",
    "function RK_2(edo,x_ini,t)\n",
    "    sol = zeros( length(t) , length(x_ini) )\n",
    "    sol[1,:] .= x_ini\n",
    "    δ = t[2]-t[1]\n",
    "    for i in 1:length(t)-1\n",
    "        k1 = sol[i,:] .+ 0.5*δ .*edo(sol[i,:],t[i])\n",
    "        sol[i+1,:] .= sol[i,:] .+ δ*edo(k1,t[i]+0.5*δ)\n",
    "    end\n",
    "    return sol\n",
    "end"
   ]
  },
  {
   "cell_type": "markdown",
   "metadata": {},
   "source": [
    "Usamos la función \"RK_4\" para el Método de Runge-Kutta de cuarto orden (Notebook 10)(Notebook 11)"
   ]
  },
  {
   "cell_type": "code",
   "execution_count": 17,
   "metadata": {},
   "outputs": [
    {
     "data": {
      "text/plain": [
       "RK_4 (generic function with 1 method)"
      ]
     },
     "execution_count": 17,
     "metadata": {},
     "output_type": "execute_result"
    }
   ],
   "source": [
    "function RK_4(edo,x_ini,t)\n",
    "    sol = zeros( length(t) , length(x_ini) )\n",
    "    sol[1,:] .= x_ini\n",
    "    δ = t[2]-t[1]\n",
    "    for i in 1:length(t)-1\n",
    "        k1 = edo(sol[i,:],t[i])\n",
    "        k2 = edo(sol[i,:] .+ 0.5*δ.*k1 , t[i] + 0.5*δ)\n",
    "        k3 = edo(sol[i,:] .+ 0.5*δ.*k2 , t[i] + 0.5*δ)\n",
    "        k4 = edo(sol[i,:] .+ δ.*k2 , t[i] + δ)\n",
    "        sol[i+1,:] .= sol[i,:] .+ (δ/6.0).*(k1 .+ 2.0.*k2 .+ 2.0.*k3 .+ k4)\n",
    "    end\n",
    "    return sol\n",
    "end"
   ]
  },
  {
   "cell_type": "markdown",
   "metadata": {},
   "source": [
    "Si reescribimos la cuación diferencial en un sistema de ecuaciones tenemos:\n",
    "$$\n",
    "x_1=y\\\\\n",
    "\\dot{x}_1 = x_2\\\\\n",
    "\\dot{x}_2 = x_3\\\\\n",
    "\\dot{x}_3 = -x_3^2 + 3x_2^3 - \\cos^2{(x_1)} + e^{-t}\\sin{(3t)}\n",
    "$$\n",
    "Con condiciones iniciales: $x_1(1)=1$, $x_2(1)=2$ y $x_3(1)=1$."
   ]
  },
  {
   "cell_type": "markdown",
   "metadata": {},
   "source": [
    "El Jacobiano para el sistema anterior es:\n",
    "$$J^{*}=\\begin{pmatrix}\n",
    "0 & 1 & 0&0\\\\\n",
    "0 & 0 & 1&0\\\\\n",
    "2\\sin(x_1)\\cos(x_1) & 9x_2^{2} & -2x_3&3e^{-t}\\cos(3t)-e^{-t}\\sin(3t)\n",
    "\\end{pmatrix}$$"
   ]
  },
  {
   "cell_type": "markdown",
   "metadata": {},
   "source": [
    "Definimos la función EDO_1 para obtener la ecuación diferencial"
   ]
  },
  {
   "cell_type": "code",
   "execution_count": 18,
   "metadata": {},
   "outputs": [
    {
     "data": {
      "text/plain": [
       "EDO_1 (generic function with 1 method)"
      ]
     },
     "execution_count": 18,
     "metadata": {},
     "output_type": "execute_result"
    }
   ],
   "source": [
    "function EDO_1(vec,t)\n",
    "    # donde vec = [x1, x2, x3]\n",
    "    dx1 = vec[2]\n",
    "    dx2 = vec[3]\n",
    "    dx3 = -vec[3]*vec[3] + 3*vec[2]*vec[2]*vec[2] - cos(vec[1])*cos(vec[1]) + exp(-t)*sin(3*t)\n",
    "    return [dx1,dx2,dx3]\n",
    "end"
   ]
  },
  {
   "cell_type": "markdown",
   "metadata": {},
   "source": [
    "Definimos la función \"EDO_1aumentada\" que es muy similar a la anterior solo que se aumenta \"1.0\" en la última entrada"
   ]
  },
  {
   "cell_type": "code",
   "execution_count": 19,
   "metadata": {},
   "outputs": [
    {
     "data": {
      "text/plain": [
       "EDO_1aumentada (generic function with 1 method)"
      ]
     },
     "execution_count": 19,
     "metadata": {},
     "output_type": "execute_result"
    }
   ],
   "source": [
    "function EDO_1aumentada(vec,t)\n",
    "    # vec = [x1, x2, x3]\n",
    "    dx1 = vec[2]\n",
    "    dx2 = vec[3]\n",
    "    dx3 = -vec[3]*vec[3] + 3*vec[2]*vec[2]*vec[2] - cos(vec[1])*cos(vec[1]) + exp(-t)*sin(3*t)\n",
    "    return [dx1,dx2,dx3,1.0]\n",
    "end"
   ]
  },
  {
   "cell_type": "markdown",
   "metadata": {},
   "source": [
    "Definimos la función \"EDO_1_Jacobiano\" para obtener su jacobiano de forma analítica."
   ]
  },
  {
   "cell_type": "code",
   "execution_count": 20,
   "metadata": {},
   "outputs": [
    {
     "data": {
      "text/plain": [
       "EDO_1_Jacobiano (generic function with 1 method)"
      ]
     },
     "execution_count": 20,
     "metadata": {},
     "output_type": "execute_result"
    }
   ],
   "source": [
    "function EDO_1_Jacobiano(vec,t)\n",
    "    # vec = [x1, x2, x3]\n",
    "    J = zeros(3,4)\n",
    "    J[1,2] = 1.0\n",
    "    J[2,3] = 1.0\n",
    "    J[3,1] = 2*cos(vec[1])*sin(vec[1])\n",
    "    J[3,2] = 9*vec[2]*vec[2]\n",
    "    J[3,3] = -2*vec[3]\n",
    "    J[3,4] = 3*exp(-1*t)*cos(3*t)-exp(-1*t)*sin(3*t)\n",
    "    return J\n",
    "end"
   ]
  },
  {
   "cell_type": "markdown",
   "metadata": {},
   "source": [
    "Utilizaremos los diferentes métodos de integración para encontrar un paso de integración que proporcione una precisión de $10^{−4}$ en el intervalo $t \\in [1, 2]$ "
   ]
  },
  {
   "cell_type": "markdown",
   "metadata": {},
   "source": [
    "#### <span style=\"color:green\">Para Euler mejorado con Jacobiano analítico<span>"
   ]
  },
  {
   "cell_type": "markdown",
   "metadata": {},
   "source": [
    "<span style=\"color:magenta\"> Intervalo $t \\in [1, 1.8]$ <span>"
   ]
  },
  {
   "cell_type": "code",
   "execution_count": 21,
   "metadata": {},
   "outputs": [
    {
     "data": {
      "text/plain": [
       "801×3 Array{Float64,2}:\n",
       " 1.0       2.0        1.0    \n",
       " 1.002     2.00101    1.02276\n",
       " 1.004     2.00205    1.0455 \n",
       " 1.006     2.0031     1.06824\n",
       " 1.00801   2.00418    1.09097\n",
       " 1.01001   2.00528    1.11369\n",
       " 1.01202   2.00641    1.1364 \n",
       " 1.01403   2.00756    1.15909\n",
       " 1.01603   2.00873    1.18178\n",
       " 1.01804   2.00992    1.20446\n",
       " 1.02005   2.01114    1.22713\n",
       " 1.02207   2.01237    1.24979\n",
       " 1.02408   2.01364    1.27244\n",
       " ⋮                           \n",
       " 6.99906  37.0254   382.449  \n",
       " 7.03627  37.4109   388.516  \n",
       " 7.07388  37.8025   394.713  \n",
       " 7.11188  38.2003   401.042  \n",
       " 7.15028  38.6046   407.508  \n",
       " 7.18909  39.0153   414.113  \n",
       " 7.22831  39.4328   420.861  \n",
       " 7.26795  39.857    427.757  \n",
       " 7.30803  40.2883   434.805  \n",
       " 7.34853  40.7267   442.008  \n",
       " 7.38948  41.1723   449.372  \n",
       " 7.43088  41.6254   456.899  "
      ]
     },
     "execution_count": 21,
     "metadata": {},
     "output_type": "execute_result"
    }
   ],
   "source": [
    "#Método de Euler con Jacobiano analítico\n",
    "tEulerAnalitico = collect(1:0.001:1.8) #paso (0.001) para al menos 4 cifras significativas de t[1,1.8]\n",
    "solEulerAnalitico= Euler_mejorado_J_t(EDO_1aumentada,[1.0,2.0,1.0],tEulerAnalitico,EDO_1_Jacobiano)"
   ]
  },
  {
   "cell_type": "markdown",
   "metadata": {},
   "source": [
    "Vemos que para este intervalo $t \\in [1, 1.8]$ las soluciones se encuentran definidas 😁🎉"
   ]
  },
  {
   "cell_type": "markdown",
   "metadata": {},
   "source": [
    "<span style=\"color:magenta\"> Intervalo $t \\in [1, 1.9]$ <span>"
   ]
  },
  {
   "cell_type": "code",
   "execution_count": 22,
   "metadata": {},
   "outputs": [
    {
     "data": {
      "text/plain": [
       "901×3 Array{Float64,2}:\n",
       "   1.0        2.0        1.0    \n",
       "   1.002      2.00101    1.02276\n",
       "   1.004      2.00205    1.0455 \n",
       "   1.006      2.0031     1.06824\n",
       "   1.00801    2.00418    1.09097\n",
       "   1.01001    2.00528    1.11369\n",
       "   1.01202    2.00641    1.1364 \n",
       "   1.01403    2.00756    1.15909\n",
       "   1.01603    2.00873    1.18178\n",
       "   1.01804    2.00992    1.20446\n",
       "   1.02005    2.01114    1.22713\n",
       "   1.02207    2.01237    1.24979\n",
       "   1.02408    2.01364    1.27244\n",
       "   ⋮                            \n",
       " NaN        NaN        NaN      \n",
       " NaN        NaN        NaN      \n",
       " NaN        NaN        NaN      \n",
       " NaN        NaN        NaN      \n",
       " NaN        NaN        NaN      \n",
       " NaN        NaN        NaN      \n",
       " NaN        NaN        NaN      \n",
       " NaN        NaN        NaN      \n",
       " NaN        NaN        NaN      \n",
       " NaN        NaN        NaN      \n",
       " NaN        NaN        NaN      \n",
       " NaN        NaN        NaN      "
      ]
     },
     "execution_count": 22,
     "metadata": {},
     "output_type": "execute_result"
    }
   ],
   "source": [
    "#Método de Euler con Jacobiano analítico\n",
    "tEulerAnalitico1 = collect(1:0.001:1.9) #paso (0.001) para al menos 4 cifras significativas de t[1,1.9]\n",
    "solEulerAnalitico1= Euler_mejorado_J_t(EDO_1aumentada,[1.0,2.0,1.0],tEulerAnalitico1,EDO_1_Jacobiano)"
   ]
  },
  {
   "cell_type": "markdown",
   "metadata": {},
   "source": [
    "Vemos que para este intervalo $t \\in [1, 1.9]$ las soluciones no se encuentran definidas ya que nos aparece \"NaN\"🙁🙁"
   ]
  },
  {
   "cell_type": "markdown",
   "metadata": {},
   "source": [
    "<span style=\"color:magenta\"> Intervalo $t \\in [1, 2.0]$ <span>"
   ]
  },
  {
   "cell_type": "code",
   "execution_count": 23,
   "metadata": {},
   "outputs": [
    {
     "data": {
      "text/plain": [
       "1001×3 Array{Float64,2}:\n",
       "   1.0        2.0        1.0    \n",
       "   1.002      2.00101    1.02276\n",
       "   1.004      2.00205    1.0455 \n",
       "   1.006      2.0031     1.06824\n",
       "   1.00801    2.00418    1.09097\n",
       "   1.01001    2.00528    1.11369\n",
       "   1.01202    2.00641    1.1364 \n",
       "   1.01403    2.00756    1.15909\n",
       "   1.01603    2.00873    1.18178\n",
       "   1.01804    2.00992    1.20446\n",
       "   1.02005    2.01114    1.22713\n",
       "   1.02207    2.01237    1.24979\n",
       "   1.02408    2.01364    1.27244\n",
       "   ⋮                            \n",
       " NaN        NaN        NaN      \n",
       " NaN        NaN        NaN      \n",
       " NaN        NaN        NaN      \n",
       " NaN        NaN        NaN      \n",
       " NaN        NaN        NaN      \n",
       " NaN        NaN        NaN      \n",
       " NaN        NaN        NaN      \n",
       " NaN        NaN        NaN      \n",
       " NaN        NaN        NaN      \n",
       " NaN        NaN        NaN      \n",
       " NaN        NaN        NaN      \n",
       " NaN        NaN        NaN      "
      ]
     },
     "execution_count": 23,
     "metadata": {},
     "output_type": "execute_result"
    }
   ],
   "source": [
    "#Método de Euler con Jacobiano analítico\n",
    "tEulerAnalitico2 = collect(1:0.001:2.0) #paso (0.001) para al menos 4 cifras significativas de t[1,2.0]\n",
    "solEulerAnalitico2= Euler_mejorado_J_t(EDO_1aumentada,[1.0,2.0,1.0],tEulerAnalitico2,EDO_1_Jacobiano)\n"
   ]
  },
  {
   "cell_type": "markdown",
   "metadata": {},
   "source": [
    "Vemos que para este intervalo $t \\in [1, 2.0]$ las soluciones no se encuentran definidas ya que nos aparece \"NaN\"🙁🙁"
   ]
  },
  {
   "cell_type": "markdown",
   "metadata": {},
   "source": [
    "<span style=\"color:magenta\"> Intervalo $t \\in [1, 2.1]$ <span>"
   ]
  },
  {
   "cell_type": "code",
   "execution_count": 24,
   "metadata": {},
   "outputs": [
    {
     "data": {
      "text/plain": [
       "1101×3 Array{Float64,2}:\n",
       "   1.0        2.0        1.0    \n",
       "   1.002      2.00101    1.02276\n",
       "   1.004      2.00205    1.0455 \n",
       "   1.006      2.0031     1.06824\n",
       "   1.00801    2.00418    1.09097\n",
       "   1.01001    2.00528    1.11369\n",
       "   1.01202    2.00641    1.1364 \n",
       "   1.01403    2.00756    1.15909\n",
       "   1.01603    2.00873    1.18178\n",
       "   1.01804    2.00992    1.20446\n",
       "   1.02005    2.01114    1.22713\n",
       "   1.02207    2.01237    1.24979\n",
       "   1.02408    2.01364    1.27244\n",
       "   ⋮                            \n",
       " NaN        NaN        NaN      \n",
       " NaN        NaN        NaN      \n",
       " NaN        NaN        NaN      \n",
       " NaN        NaN        NaN      \n",
       " NaN        NaN        NaN      \n",
       " NaN        NaN        NaN      \n",
       " NaN        NaN        NaN      \n",
       " NaN        NaN        NaN      \n",
       " NaN        NaN        NaN      \n",
       " NaN        NaN        NaN      \n",
       " NaN        NaN        NaN      \n",
       " NaN        NaN        NaN      "
      ]
     },
     "execution_count": 24,
     "metadata": {},
     "output_type": "execute_result"
    }
   ],
   "source": [
    "#Método de Euler con Jacobiano analítico\n",
    "tEulerAnalitico3 = collect(1:0.001:2.1) #paso (0.001) para al menos 4 cifras significativas de t[1,2.1]\n",
    "solEulerAnalitico3= Euler_mejorado_J_t(EDO_1aumentada,[1.0,2.0,1.0],tEulerAnalitico3,EDO_1_Jacobiano)"
   ]
  },
  {
   "cell_type": "markdown",
   "metadata": {},
   "source": [
    "Vemos que para este intervalo $t \\in [1, 2.1]$ las soluciones no se encuentran definidas ya que nos aparece \"NaN\"🙁🙁"
   ]
  },
  {
   "cell_type": "markdown",
   "metadata": {},
   "source": [
    "#### <span style=\"color:green\">Para Euler mejorado con Jacobiano numérico<span>"
   ]
  },
  {
   "cell_type": "markdown",
   "metadata": {},
   "source": [
    "<span style=\"color:magenta\"> Intervalo $t \\in [1, 1.8]$ <span>"
   ]
  },
  {
   "cell_type": "code",
   "execution_count": 25,
   "metadata": {},
   "outputs": [
    {
     "data": {
      "text/plain": [
       "80001×3 Array{Float64,2}:\n",
       " 1.0       2.0        1.0    \n",
       " 1.00002   2.00001    1.00023\n",
       " 1.00004   2.00002    1.00046\n",
       " 1.00006   2.00003    1.00068\n",
       " 1.00008   2.00004    1.00091\n",
       " 1.0001    2.00005    1.00114\n",
       " 1.00012   2.00006    1.00137\n",
       " 1.00014   2.00007    1.00159\n",
       " 1.00016   2.00008    1.00182\n",
       " 1.00018   2.00009    1.00205\n",
       " 1.0002    2.0001     1.00228\n",
       " 1.00022   2.00011    1.0025 \n",
       " 1.00024   2.00012    1.00273\n",
       " ⋮                           \n",
       " 7.42659  41.5793   456.131  \n",
       " 7.42701  41.5838   456.207  \n",
       " 7.42742  41.5884   456.283  \n",
       " 7.42784  41.593    456.359  \n",
       " 7.42825  41.5975   456.435  \n",
       " 7.42867  41.6021   456.511  \n",
       " 7.42908  41.6066   456.587  \n",
       " 7.4295   41.6112   456.663  \n",
       " 7.42992  41.6158   456.74   \n",
       " 7.43033  41.6203   456.816  \n",
       " 7.43075  41.6249   456.892  \n",
       " 7.43117  41.6295   456.968  "
      ]
     },
     "execution_count": 25,
     "metadata": {},
     "output_type": "execute_result"
    }
   ],
   "source": [
    "#Método de Euler con Jacobiano Numérico\n",
    "tEulerNumerico = collect(1:0.00001:1.8) #paso(0.00001)para tener al menos 4 cifras significativas de t[1,1.8](Precisión 10^{-4})\n",
    "solEulerNumerico= Euler_mejorado_J_t_num(EDO_1,EDO_1aumentada,[1.0,2.0,1.0],tEulerNumerico)"
   ]
  },
  {
   "cell_type": "markdown",
   "metadata": {},
   "source": [
    "Vemos que para este intervalo $t \\in [1, 1.8]$ las soluciones se encuentran definidas 😁🎉"
   ]
  },
  {
   "cell_type": "markdown",
   "metadata": {},
   "source": [
    "<span style=\"color:magenta\"> Intervalo $t \\in [1, 1.9]$ <span>"
   ]
  },
  {
   "cell_type": "code",
   "execution_count": 26,
   "metadata": {},
   "outputs": [
    {
     "data": {
      "text/plain": [
       "90001×3 Array{Float64,2}:\n",
       "  1.0        2.0         1.0    \n",
       "  1.00002    2.00001     1.00023\n",
       "  1.00004    2.00002     1.00046\n",
       "  1.00006    2.00003     1.00068\n",
       "  1.00008    2.00004     1.00091\n",
       "  1.0001     2.00005     1.00114\n",
       "  1.00012    2.00006     1.00137\n",
       "  1.00014    2.00007     1.00159\n",
       "  1.00016    2.00008     1.00182\n",
       "  1.00018    2.00009     1.00205\n",
       "  1.0002     2.0001      1.00228\n",
       "  1.00022    2.00011     1.0025 \n",
       "  1.00024    2.00012     1.00273\n",
       "  ⋮                             \n",
       " 16.7103   208.044    5178.79   \n",
       " 16.7124   208.095    5180.73   \n",
       " 16.7145   208.147    5182.67   \n",
       " 16.7165   208.199    5184.61   \n",
       " 16.7186   208.251    5186.55   \n",
       " 16.7207   208.303    5188.49   \n",
       " 16.7228   208.355    5190.44   \n",
       " 16.7249   208.407    5192.38   \n",
       " 16.727    208.459    5194.33   \n",
       " 16.7291   208.51     5196.28   \n",
       " 16.7311   208.562    5198.22   \n",
       " 16.7332   208.614    5200.17   "
      ]
     },
     "execution_count": 26,
     "metadata": {},
     "output_type": "execute_result"
    }
   ],
   "source": [
    "#Método de Euler con Jacobiano Numérico\n",
    "tEulerNumerico1 = collect(1:0.00001:1.9) #paso(0.00001)para tener al menos 4cifras significativas de t[1,1.9](Precisión 10^{-4})\n",
    "solEulerNumerico1= Euler_mejorado_J_t_num(EDO_1,EDO_1aumentada,[1.0,2.0,1.0],tEulerNumerico1)"
   ]
  },
  {
   "cell_type": "markdown",
   "metadata": {},
   "source": [
    "Vemos que para este intervalo $t \\in [1, 1.9]$ las soluciones se encuentran definidas 😁🎉"
   ]
  },
  {
   "cell_type": "markdown",
   "metadata": {},
   "source": [
    "<span style=\"color:magenta\"> Intervalo $t \\in [1, 2.0]$ <span>"
   ]
  },
  {
   "cell_type": "code",
   "execution_count": 27,
   "metadata": {},
   "outputs": [
    {
     "data": {
      "text/plain": [
       "100001×3 Array{Float64,2}:\n",
       "   1.0        2.0        1.0    \n",
       "   1.00002    2.00001    1.00023\n",
       "   1.00004    2.00002    1.00046\n",
       "   1.00006    2.00003    1.00068\n",
       "   1.00008    2.00004    1.00091\n",
       "   1.0001     2.00005    1.00114\n",
       "   1.00012    2.00006    1.00137\n",
       "   1.00014    2.00007    1.00159\n",
       "   1.00016    2.00008    1.00182\n",
       "   1.00018    2.00009    1.00205\n",
       "   1.0002     2.0001     1.00228\n",
       "   1.00022    2.00011    1.0025 \n",
       "   1.00024    2.00012    1.00273\n",
       "   ⋮                            \n",
       " NaN        NaN        NaN      \n",
       " NaN        NaN        NaN      \n",
       " NaN        NaN        NaN      \n",
       " NaN        NaN        NaN      \n",
       " NaN        NaN        NaN      \n",
       " NaN        NaN        NaN      \n",
       " NaN        NaN        NaN      \n",
       " NaN        NaN        NaN      \n",
       " NaN        NaN        NaN      \n",
       " NaN        NaN        NaN      \n",
       " NaN        NaN        NaN      \n",
       " NaN        NaN        NaN      "
      ]
     },
     "execution_count": 27,
     "metadata": {},
     "output_type": "execute_result"
    }
   ],
   "source": [
    "#Método de Euler con Jacobiano Numérico\n",
    "tEulerNumerico2 = collect(1:0.00001:2.0) #paso (0.00001) para al menos 4 cifras significativas de t[1,2.0] (Precisión 10^{-4})\n",
    "solEulerNumerico2= Euler_mejorado_J_t_num(EDO_1,EDO_1aumentada,[1.0,2.0,1.0],tEulerNumerico2)"
   ]
  },
  {
   "cell_type": "markdown",
   "metadata": {},
   "source": [
    "Vemos que para este intervalo $t \\in [1, 2.0]$ las soluciones no se encuentran definidas ya que nos aparece \"NaN\"🙁🙁"
   ]
  },
  {
   "cell_type": "markdown",
   "metadata": {},
   "source": [
    "<span style=\"color:magenta\"> Intervalo $t \\in [1, 2.1]$ <span>"
   ]
  },
  {
   "cell_type": "code",
   "execution_count": 28,
   "metadata": {},
   "outputs": [
    {
     "data": {
      "text/plain": [
       "110001×3 Array{Float64,2}:\n",
       "   1.0        2.0        1.0    \n",
       "   1.00002    2.00001    1.00023\n",
       "   1.00004    2.00002    1.00046\n",
       "   1.00006    2.00003    1.00068\n",
       "   1.00008    2.00004    1.00091\n",
       "   1.0001     2.00005    1.00114\n",
       "   1.00012    2.00006    1.00137\n",
       "   1.00014    2.00007    1.00159\n",
       "   1.00016    2.00008    1.00182\n",
       "   1.00018    2.00009    1.00205\n",
       "   1.0002     2.0001     1.00228\n",
       "   1.00022    2.00011    1.0025 \n",
       "   1.00024    2.00012    1.00273\n",
       "   ⋮                            \n",
       " NaN        NaN        NaN      \n",
       " NaN        NaN        NaN      \n",
       " NaN        NaN        NaN      \n",
       " NaN        NaN        NaN      \n",
       " NaN        NaN        NaN      \n",
       " NaN        NaN        NaN      \n",
       " NaN        NaN        NaN      \n",
       " NaN        NaN        NaN      \n",
       " NaN        NaN        NaN      \n",
       " NaN        NaN        NaN      \n",
       " NaN        NaN        NaN      \n",
       " NaN        NaN        NaN      "
      ]
     },
     "execution_count": 28,
     "metadata": {},
     "output_type": "execute_result"
    }
   ],
   "source": [
    "#Método de Euler con Jacobiano Numérico\n",
    "tEulerNumerico3 = collect(1:0.00001:2.1) #paso (0.00001) para tener al menos 4 cifras significativas de t[1,2.1](Precisión 10^{-4})\n",
    "solEulerNumerico3= Euler_mejorado_J_t_num(EDO_1,EDO_1aumentada,[1.0,2.0,1.0],tEulerNumerico3)"
   ]
  },
  {
   "cell_type": "markdown",
   "metadata": {},
   "source": [
    "Vemos que para este intervalo $t \\in [1, 2.1]$ las soluciones no se encuentran definidas ya que nos aparece \"NaN\"🙁🙁"
   ]
  },
  {
   "cell_type": "markdown",
   "metadata": {},
   "source": [
    "#### <span style=\"color:green\">Para Runge-Kutta de $2^{\\circ}$ orden<span>"
   ]
  },
  {
   "cell_type": "markdown",
   "metadata": {},
   "source": [
    "<span style=\"color:magenta\"> Intervalo $t \\in [1, 1.8]$ <span>"
   ]
  },
  {
   "cell_type": "code",
   "execution_count": 29,
   "metadata": {},
   "outputs": [
    {
     "data": {
      "text/plain": [
       "8001×3 Array{Float64,2}:\n",
       " 1.0       2.0        1.0    \n",
       " 1.0002    2.0001     1.00228\n",
       " 1.0004    2.0002     1.00455\n",
       " 1.0006    2.0003     1.00683\n",
       " 1.0008    2.0004     1.0091 \n",
       " 1.001     2.0005     1.01138\n",
       " 1.0012    2.0006     1.01365\n",
       " 1.0014    2.00071    1.01593\n",
       " 1.0016    2.00081    1.01821\n",
       " 1.0018    2.00091    1.02048\n",
       " 1.002     2.00101    1.02276\n",
       " 1.0022    2.00111    1.02503\n",
       " 1.0024    2.00122    1.02731\n",
       " ⋮                           \n",
       " 7.38565  41.1314   448.694  \n",
       " 7.38976  41.1763   449.438  \n",
       " 7.39388  41.2212   450.183  \n",
       " 7.39801  41.2663   450.93   \n",
       " 7.40213  41.3114   451.679  \n",
       " 7.40627  41.3566   452.43   \n",
       " 7.41041  41.4019   453.182  \n",
       " 7.41455  41.4473   453.935  \n",
       " 7.41869  41.4927   454.691  \n",
       " 7.42285  41.5382   455.448  \n",
       " 7.427    41.5838   456.207  \n",
       " 7.43116  41.6295   456.967  "
      ]
     },
     "execution_count": 29,
     "metadata": {},
     "output_type": "execute_result"
    }
   ],
   "source": [
    "#Método de Runge-Kutta de 2do orden\n",
    "tRK2do = collect(1:0.0001:1.8) #paso (0.0001) para tener al menos 4 cifras significativas de t[1,1.8](Precisión 10^{-4})\n",
    "solRK2do = RK_2(EDO_1,[1.0,2.0,1.0],tRK2do)"
   ]
  },
  {
   "cell_type": "markdown",
   "metadata": {},
   "source": [
    "Vemos que para este intervalo $t \\in [1, 1.8]$ las soluciones se encuentran definidas 😁🎉"
   ]
  },
  {
   "cell_type": "markdown",
   "metadata": {},
   "source": [
    "<span style=\"color:magenta\"> Intervalo $t \\in [1, 1.9]$ <span>"
   ]
  },
  {
   "cell_type": "code",
   "execution_count": 30,
   "metadata": {},
   "outputs": [
    {
     "data": {
      "text/plain": [
       "9001×3 Array{Float64,2}:\n",
       "  1.0       2.0         1.0    \n",
       "  1.0002    2.0001      1.00228\n",
       "  1.0004    2.0002      1.00455\n",
       "  1.0006    2.0003      1.00683\n",
       "  1.0008    2.0004      1.0091 \n",
       "  1.001     2.0005      1.01138\n",
       "  1.0012    2.0006      1.01365\n",
       "  1.0014    2.00071     1.01593\n",
       "  1.0016    2.00081     1.01821\n",
       "  1.0018    2.00091     1.02048\n",
       "  1.002     2.00101     1.02276\n",
       "  1.0022    2.00111     1.02503\n",
       "  1.0024    2.00122     1.02731\n",
       "  ⋮                            \n",
       " 16.5068  203.009    4991.51   \n",
       " 16.5271  203.509    5010.01   \n",
       " 16.5475  204.011    5028.6    \n",
       " 16.5679  204.515    5047.29   \n",
       " 16.5884  205.021    5066.06   \n",
       " 16.6089  205.528    5084.93   \n",
       " 16.6295  206.038    5103.89   \n",
       " 16.6502  206.549    5122.95   \n",
       " 16.6708  207.062    5142.11   \n",
       " 16.6916  207.577    5161.35   \n",
       " 16.7124  208.094    5180.7    \n",
       " 16.7332  208.613    5200.14   "
      ]
     },
     "execution_count": 30,
     "metadata": {},
     "output_type": "execute_result"
    }
   ],
   "source": [
    "#Método de Runge-Kutta de 2do orden\n",
    "tRK2do1 = collect(1:0.0001:1.9) #paso (0.0001) para tener al menos 4 cifras significativas de t[1,1.9](Precisión 10^{-4})\n",
    "solRK2do1 = RK_2(EDO_1,[1.0,2.0,1.0],tRK2do1)"
   ]
  },
  {
   "cell_type": "markdown",
   "metadata": {},
   "source": [
    "Vemos que para este intervalo $t \\in [1, 1.9]$ las soluciones se encuentran definidas 😁🎉 "
   ]
  },
  {
   "cell_type": "markdown",
   "metadata": {},
   "source": [
    "<span style=\"color:magenta\"> Intervalo $t \\in [1, 2.0]$ <span>"
   ]
  },
  {
   "cell_type": "code",
   "execution_count": 31,
   "metadata": {},
   "outputs": [
    {
     "ename": "DomainError",
     "evalue": "DomainError with -Inf:\ncos(x) is only defined for finite x.",
     "output_type": "error",
     "traceback": [
      "DomainError with -Inf:\ncos(x) is only defined for finite x.",
      "",
      "Stacktrace:",
      " [1] cos_domain_error(::Float64) at .\\special\\trig.jl:98",
      " [2] cos(::Float64) at .\\special\\trig.jl:109",
      " [3] EDO_1(::Array{Float64,1}, ::Float64) at .\\In[18]:5",
      " [4] RK_2(::typeof(EDO_1), ::Array{Float64,1}, ::Array{Float64,1}) at .\\In[16]:8",
      " [5] top-level scope at In[31]:3"
     ]
    }
   ],
   "source": [
    "#Método de Runge-Kutta de 2do orden\n",
    "tRK2do2 = collect(1:0.0001:2.0) #paso (0.0001) para tener al menos 4 cifras significativas de t[1,2.0](Precisión 10^{-4})\n",
    "solRK2do2 = RK_2(EDO_1,[1.0,2.0,1.0],tRK2do2)"
   ]
  },
  {
   "cell_type": "markdown",
   "metadata": {},
   "source": [
    "Vemos que para este intervalo $t \\in [1, 2.0]$ las soluciones no se encuentran definidas ya que nos aparece \"error\"🙁🙁"
   ]
  },
  {
   "cell_type": "markdown",
   "metadata": {},
   "source": [
    "<span style=\"color:magenta\"> Intervalo $t \\in [1, 2.1]$ <span>"
   ]
  },
  {
   "cell_type": "code",
   "execution_count": 32,
   "metadata": {},
   "outputs": [
    {
     "ename": "DomainError",
     "evalue": "DomainError with -Inf:\ncos(x) is only defined for finite x.",
     "output_type": "error",
     "traceback": [
      "DomainError with -Inf:\ncos(x) is only defined for finite x.",
      "",
      "Stacktrace:",
      " [1] cos_domain_error(::Float64) at .\\special\\trig.jl:98",
      " [2] cos(::Float64) at .\\special\\trig.jl:109",
      " [3] EDO_1(::Array{Float64,1}, ::Float64) at .\\In[18]:5",
      " [4] RK_2(::typeof(EDO_1), ::Array{Float64,1}, ::Array{Float64,1}) at .\\In[16]:8",
      " [5] top-level scope at In[32]:3"
     ]
    }
   ],
   "source": [
    "#Método de Runge-Kutta de 2do orden\n",
    "tRK2do3 = collect(1:0.0001:2.1) #paso (0.0001) para tener al menos 4 cifras significativas de t[1,2.1](Precisión 10^{-4})\n",
    "solRK2do3 = RK_2(EDO_1,[1.0,2.0,1.0],tRK2do3)"
   ]
  },
  {
   "cell_type": "markdown",
   "metadata": {},
   "source": [
    "Vemos que para este intervalo $t \\in [1, 2.1]$ las soluciones no se encuentran definidas ya que nos aparece \"error\"🙁🙁"
   ]
  },
  {
   "cell_type": "markdown",
   "metadata": {},
   "source": [
    "#### <span style=\"color:green\">Para Runge-Kutta de $4^{\\circ}$ orden<span>"
   ]
  },
  {
   "cell_type": "markdown",
   "metadata": {},
   "source": [
    "<span style=\"color:magenta\"> Intervalo $t \\in [1, 1.8]$ <span>"
   ]
  },
  {
   "cell_type": "code",
   "execution_count": 33,
   "metadata": {},
   "outputs": [
    {
     "data": {
      "text/plain": [
       "8001×3 Array{Float64,2}:\n",
       " 1.0       2.0        1.0    \n",
       " 1.0002    2.0001     1.00228\n",
       " 1.0004    2.0002     1.00455\n",
       " 1.0006    2.0003     1.00683\n",
       " 1.0008    2.0004     1.0091 \n",
       " 1.001     2.0005     1.01138\n",
       " 1.0012    2.0006     1.01365\n",
       " 1.0014    2.00071    1.01593\n",
       " 1.0016    2.00081    1.01821\n",
       " 1.0018    2.00091    1.02048\n",
       " 1.002     2.00101    1.02276\n",
       " 1.0022    2.00111    1.02503\n",
       " 1.0024    2.00122    1.02731\n",
       " ⋮                           \n",
       " 7.38565  41.1314   448.694  \n",
       " 7.38976  41.1763   449.438  \n",
       " 7.39388  41.2213   450.184  \n",
       " 7.39801  41.2663   450.931  \n",
       " 7.40214  41.3115   451.68   \n",
       " 7.40627  41.3567   452.43   \n",
       " 7.41041  41.402    453.182  \n",
       " 7.41455  41.4473   453.936  \n",
       " 7.4187   41.4927   454.691  \n",
       " 7.42285  41.5382   455.449  \n",
       " 7.42701  41.5838   456.207  \n",
       " 7.43117  41.6295   456.968  "
      ]
     },
     "execution_count": 33,
     "metadata": {},
     "output_type": "execute_result"
    }
   ],
   "source": [
    "#Método de Runge-Kutta de 4to orden\n",
    "tRK4to = collect(1:0.0001:1.8) #paso (0.0001) para tener al menos 4 cifras significativas de t[1,1.8](Precisión 10^{-4})\n",
    "solRK4to = RK_4(EDO_1,[1.0,2.0,1.0],tRK4to)"
   ]
  },
  {
   "cell_type": "markdown",
   "metadata": {},
   "source": [
    "Vemos que para este intervalo $t \\in [1, 1.8]$ las soluciones se encuentran definidas 😁🎉"
   ]
  },
  {
   "cell_type": "markdown",
   "metadata": {},
   "source": [
    "<span style=\"color:magenta\"> Intervalo $t \\in [1, 1.9]$ <span>"
   ]
  },
  {
   "cell_type": "code",
   "execution_count": 34,
   "metadata": {},
   "outputs": [
    {
     "data": {
      "text/plain": [
       "9001×3 Array{Float64,2}:\n",
       "  1.0       2.0         1.0    \n",
       "  1.0002    2.0001      1.00228\n",
       "  1.0004    2.0002      1.00455\n",
       "  1.0006    2.0003      1.00683\n",
       "  1.0008    2.0004      1.0091 \n",
       "  1.001     2.0005      1.01138\n",
       "  1.0012    2.0006      1.01365\n",
       "  1.0014    2.00071     1.01593\n",
       "  1.0016    2.00081     1.01821\n",
       "  1.0018    2.00091     1.02048\n",
       "  1.002     2.00101     1.02276\n",
       "  1.0022    2.00111     1.02503\n",
       "  1.0024    2.00122     1.02731\n",
       "  ⋮                            \n",
       " 16.5068  203.01     4991.54   \n",
       " 16.5272  203.51     5010.04   \n",
       " 16.5476  204.012    5028.63   \n",
       " 16.568   204.516    5047.31   \n",
       " 16.5885  205.022    5066.09   \n",
       " 16.609   205.529    5084.96   \n",
       " 16.6296  206.039    5103.92   \n",
       " 16.6502  206.55     5122.98   \n",
       " 16.6709  207.063    5142.13   \n",
       " 16.6916  207.578    5161.38   \n",
       " 16.7124  208.095    5180.73   \n",
       " 16.7332  208.614    5200.17   "
      ]
     },
     "execution_count": 34,
     "metadata": {},
     "output_type": "execute_result"
    }
   ],
   "source": [
    "#Método de Runge-Kutta de 4to orden\n",
    "tRK4to1 = collect(1:0.0001:1.9) #paso (0.0001) para tener al menos 4 cifras significativas de t[1,1.9](Precisión 10^{-4})\n",
    "solRK4to1 = RK_4(EDO_1,[1.0,2.0,1.0],tRK4to1)"
   ]
  },
  {
   "cell_type": "markdown",
   "metadata": {},
   "source": [
    "Vemos que para este intervalo $t \\in [1, 1.9]$ las soluciones se encuentran definidas 😁🎉"
   ]
  },
  {
   "cell_type": "markdown",
   "metadata": {},
   "source": [
    "<span style=\"color:magenta\"> Intervalo $t \\in [1, 2.0]$ <span>"
   ]
  },
  {
   "cell_type": "code",
   "execution_count": 35,
   "metadata": {},
   "outputs": [
    {
     "ename": "DomainError",
     "evalue": "DomainError with -Inf:\ncos(x) is only defined for finite x.",
     "output_type": "error",
     "traceback": [
      "DomainError with -Inf:\ncos(x) is only defined for finite x.",
      "",
      "Stacktrace:",
      " [1] cos_domain_error(::Float64) at .\\special\\trig.jl:98",
      " [2] cos(::Float64) at .\\special\\trig.jl:109",
      " [3] EDO_1(::Array{Float64,1}, ::Float64) at .\\In[18]:5",
      " [4] RK_4(::typeof(EDO_1), ::Array{Float64,1}, ::Array{Float64,1}) at .\\In[17]:6",
      " [5] top-level scope at In[35]:3"
     ]
    }
   ],
   "source": [
    "#Método de Runge-Kutta de 4to orden\n",
    "tRK4to2 = collect(1:0.0001:2.0) #paso (0.0001) para tener al menos 4 cifras significativas de t[1,2.0](Precisión 10^{-4})\n",
    "solRK4to2 = RK_4(EDO_1,[1.0,2.0,1.0],tRK4to2)"
   ]
  },
  {
   "cell_type": "markdown",
   "metadata": {},
   "source": [
    "Vemos que para este intervalo $t \\in [1, 2.0]$ las soluciones no se encuentran definidas ya que nos aparece \"error\"🙁🙁"
   ]
  },
  {
   "cell_type": "markdown",
   "metadata": {},
   "source": [
    "<span style=\"color:magenta\"> Intervalo $t \\in [1, 2.1]$ <span>"
   ]
  },
  {
   "cell_type": "code",
   "execution_count": 36,
   "metadata": {},
   "outputs": [
    {
     "ename": "DomainError",
     "evalue": "DomainError with -Inf:\ncos(x) is only defined for finite x.",
     "output_type": "error",
     "traceback": [
      "DomainError with -Inf:\ncos(x) is only defined for finite x.",
      "",
      "Stacktrace:",
      " [1] cos_domain_error(::Float64) at .\\special\\trig.jl:98",
      " [2] cos(::Float64) at .\\special\\trig.jl:109",
      " [3] EDO_1(::Array{Float64,1}, ::Float64) at .\\In[18]:5",
      " [4] RK_4(::typeof(EDO_1), ::Array{Float64,1}, ::Array{Float64,1}) at .\\In[17]:6",
      " [5] top-level scope at In[36]:3"
     ]
    }
   ],
   "source": [
    "#Método de Runge-Kutta de 4to orden\n",
    "tRK4to3 = collect(1:0.0001:2.1) #paso (0.0001) para tener al menos 4 cifras significativas de t[1,2.1](Precisión 10^{-4})\n",
    "solRK4to3 = RK_4(EDO_1,[1.0,2.0,1.0],tRK4to3)"
   ]
  },
  {
   "cell_type": "markdown",
   "metadata": {},
   "source": [
    "Vemos que para este intervalo $t \\in [1, 2.1]$ las soluciones no se encuentran definidas ya que nos aparece \"error\"🙁🙁"
   ]
  },
  {
   "cell_type": "markdown",
   "metadata": {},
   "source": [
    "Podemos ver que los métodos no se encuentran definidos a partir de cierto intervalo de $t$:\n",
    "1. Euler mejorado con Jacobiano analítico no se encuentra definida apartir del intervalo $t \\in [1, 1.9]$\n",
    "2. Euler mejorado con Jacobiano numérico no se encuentra definida apartir del intervalo $t \\in [1, 2.0]$\n",
    "3. Runge-Kutta de  $2^{\\circ}$  orden no se encuentra definida apartir del intervalo $t \\in [1, 2.0]$\n",
    "4. Runge-Kutta de  $4^{\\circ}$  orden no se encuentra definida apartir del intervalo $t \\in [1, 2.0]$"
   ]
  },
  {
   "cell_type": "markdown",
   "metadata": {},
   "source": [
    "#### <span style=\"color:brown\">Pasos de integración que proporcionan una precisión de $10^{−4}$ en cada método:<span>\n",
    "1. Euler mejorado con Jacobiano analítico pasos de $0.001$\n",
    "2. Euler mejorado con Jacobiano numérico pasos de $0.00001$\n",
    "3. Runge-Kutta de  $2^{\\circ}$  orden pasos de $0.0001$\n",
    "4. Runge-Kutta de  $4^{\\circ}$  orden pasos de $0.0001$"
   ]
  },
  {
   "cell_type": "markdown",
   "metadata": {},
   "source": [
    "Por último, gráfiquemos la solución con el método de Rugen-Kutta de orden 4 y el de Eulen con jacobiano analítico:"
   ]
  },
  {
   "cell_type": "code",
   "execution_count": 39,
   "metadata": {},
   "outputs": [
    {
     "ename": "UndefVarError",
     "evalue": "UndefVarError: plot not defined",
     "output_type": "error",
     "traceback": [
      "UndefVarError: plot not defined",
      "",
      "Stacktrace:",
      " [1] top-level scope at In[39]:1"
     ]
    }
   ],
   "source": [
    "plot(title=\"Solución\",xlabel=\"t\") \n",
    "plot!(tEulerNumerico,solEulerAnalitico[:,1],label=\"x_1Euler (t)\")\n",
    "plot!(tEulerNumerico,solEulerAnalitico[:,2],label=\"x_2Euler (t)\")\n",
    "plot!(tEulerNumerico,solEulerAnalitico[:,3],label=\"x_3Euler (t)\")\n",
    "plot!(tRK4to,solRK4to[:,1],label=\"x_1RK (t)\")\n",
    "plot!(tRK4to,solRK4to[:,2],label=\"x_2R (t)\")\n",
    "plot!(tRK4to,solRK4to[:,3],label=\"x_3RK (t)\")"
   ]
  },
  {
   "cell_type": "code",
   "execution_count": 38,
   "metadata": {},
   "outputs": [
    {
     "ename": "UndefVarError",
     "evalue": "UndefVarError: PyPlot not defined",
     "output_type": "error",
     "traceback": [
      "UndefVarError: PyPlot not defined",
      "",
      "Stacktrace:",
      " [1] top-level scope at In[38]:1"
     ]
    }
   ],
   "source": [
    "PyPlot.plot(tEulerNumerico,solEulerAnalitico[:,1],label=\"x_1Euler (t)\")"
   ]
  },
  {
   "cell_type": "markdown",
   "metadata": {},
   "source": [
    "Vemos que las soluciones con el método de Euler con jabobiano analítico y con el método de Rugen-Kutta son sumamente similares, por lo que podemos concluir que la función del ejercicio 1 nos da soluciones acertadas."
   ]
  },
  {
   "cell_type": "markdown",
   "metadata": {},
   "source": [
    "<span style=\"color:blue\">3. Modifique las funciones integradoras que programamos en clase (Euler mejorado, Runge-Kutta de $2\\circ$ orden y Runge-Kutta de $4\\circ$ orden) para que se puedan pasar argumentos opcionales al sistema de ecuaciones diferenciales de tal manera que se puedan modificar parámetros al momento de hacer la integración. Una vez hecho esto, obtenga la solución de la siguiente ecuación diferencial\n",
    "    \\begin{equation}\n",
    "    \\ddot{x}+\\frac{1}{10}\\dot{x}+4\\sin x=\\frac{1}{2}\\sin(\\omega t) \n",
    "    \\end{equation}\n",
    "    Con condiciones iniciales $\\dot{x}(0)=1$ y $x(0)=0$ y para $\\omega=\\{1,1.1,1.2,1.3,...,2.9,3\\}$. Realice la gráfica de algunas soluciones que representen el comportamiento de la solución en función de $\\omega$ y explique su resultado. La solución debe tener una precisión de por lo menos $10^{-5}$.<span>"
   ]
  },
  {
   "cell_type": "markdown",
   "metadata": {},
   "source": [
    "Notemos que podemos escribir la ecuación diferencial como un sistema de ecuaciones:\n",
    "$$\n",
    "x=x_1\\\\\n",
    "\\dot{x}_1 = x_2\\\\\n",
    "\\dot{x}_2 = -\\frac{1}{10}x_2 - 4\\sin{(x_1)} + \\frac{1}{2}\\sin{(\\omega t)}\n",
    "$$\n",
    "Ahora escribamos este sistema como una función en Julia y su jacobiano de manera analítica."
   ]
  },
  {
   "cell_type": "code",
   "execution_count": 60,
   "metadata": {},
   "outputs": [
    {
     "data": {
      "text/plain": [
       "EDO2 (generic function with 1 method)"
      ]
     },
     "execution_count": 60,
     "metadata": {},
     "output_type": "execute_result"
    }
   ],
   "source": [
    "function EDO2(vec,t,ω)\n",
    "    # vec = [x1, x2]\n",
    "    dx1 = vec[2]\n",
    "    dx2 = -vec[2]/10 - 4*sin(vec[1]) + 0.5*sin(ω*t)\n",
    "    return [dx1,dx2,1.0]\n",
    "end"
   ]
  },
  {
   "cell_type": "code",
   "execution_count": 61,
   "metadata": {},
   "outputs": [
    {
     "ename": "LoadError",
     "evalue": "syntax: extra token \"el\" after end of expression",
     "output_type": "error",
     "traceback": [
      "syntax: extra token \"el\" after end of expression",
      ""
     ]
    }
   ],
   "source": [
    "Ahora el jacobiano analítico:"
   ]
  },
  {
   "cell_type": "code",
   "execution_count": 62,
   "metadata": {},
   "outputs": [
    {
     "data": {
      "text/plain": [
       "EDO2_J (generic function with 1 method)"
      ]
     },
     "execution_count": 62,
     "metadata": {},
     "output_type": "execute_result"
    }
   ],
   "source": [
    "function EDO2_J(vec,t,ω)\n",
    "    # param = [ omega ]\n",
    "    # vec = [x1, x2]\n",
    "    #ω = param\n",
    "    J = zeros(length(vec),length(vec)+1)\n",
    "    J[1,2] = 1.0\n",
    "    J[2,1] = -4*cos(vec[1])\n",
    "    J[2,2] = -1/10\n",
    "    J[2,3] = 0.5*ω*cos(ω*t)\n",
    "    return J\n",
    "end"
   ]
  },
  {
   "cell_type": "code",
   "execution_count": 63,
   "metadata": {},
   "outputs": [
    {
     "ename": "LoadError",
     "evalue": "syntax: extra token \"modifiquemos\" after end of expression",
     "output_type": "error",
     "traceback": [
      "syntax: extra token \"modifiquemos\" after end of expression",
      ""
     ]
    }
   ],
   "source": [
    "Ahora modifiquemos las funciones de Euler mejorado:"
   ]
  },
  {
   "cell_type": "code",
   "execution_count": 64,
   "metadata": {},
   "outputs": [
    {
     "data": {
      "text/plain": [
       "Euler_mejorado_omega (generic function with 1 method)"
      ]
     },
     "execution_count": 64,
     "metadata": {},
     "output_type": "execute_result"
    }
   ],
   "source": [
    "#Anexamos como variable a omega y la modificaremos en las partes del código donde esta sea llamada\n",
    "function Euler_mejorado_omega(edo,p_ini,t,jacob,ω)\n",
    "    # J y g con dependencia temporal y de parametros externos\n",
    "    sol = zeros(length(t),length(p_ini))\n",
    "    sol[1,:] = p_ini\n",
    "    δ = t[2]-t[1]\n",
    "    for i in 1:(length(t)-1)\n",
    "        #Debido a que ahora nuestra ecuación diferencial depende de omega la cambiamos en la evaluación esta\n",
    "        eval_edo = edo(sol[i,:],t[i],ω)\n",
    "        if length(eval_edo) == length(p_ini)\n",
    "            sol[i+1,:] .= sol[i,:] .+ δ .*eval_edo\n",
    "        else\n",
    "            sol[i+1,:] .= sol[i,:] .+ δ .*eval_edo[1:(end-1)]\n",
    "        end\n",
    "        #De igual manera nuestro jacobiano dependerá de omega, así que lo evaluamos en ella también\n",
    "        sol[i+1,:] .+= 0.5*(δ^2) .*(jacob(sol[i,:],t[i],ω) *eval_edo )\n",
    "    end\n",
    "    return sol\n",
    "end"
   ]
  },
  {
   "cell_type": "code",
   "execution_count": 65,
   "metadata": {},
   "outputs": [
    {
     "ename": "LoadError",
     "evalue": "syntax: extra token \"la\" after end of expression",
     "output_type": "error",
     "traceback": [
      "syntax: extra token \"la\" after end of expression",
      ""
     ]
    }
   ],
   "source": [
    "Definimos la ecuación para emplearla en los métodos de Runge-Kutta."
   ]
  },
  {
   "cell_type": "code",
   "execution_count": 66,
   "metadata": {},
   "outputs": [
    {
     "data": {
      "text/plain": [
       "EDO2_1 (generic function with 1 method)"
      ]
     },
     "execution_count": 66,
     "metadata": {},
     "output_type": "execute_result"
    }
   ],
   "source": [
    "function EDO2_1(vec,t,ω)\n",
    "    # vec = [x1, x2]\n",
    "    dx1 = vec[2]\n",
    "    dx2 = -vec[2]/10 - 4*sin(vec[1]) + 0.5*sin(ω*t)\n",
    "    return [dx1,dx2]\n",
    "end"
   ]
  },
  {
   "cell_type": "code",
   "execution_count": 67,
   "metadata": {},
   "outputs": [
    {
     "ename": "LoadError",
     "evalue": "syntax: extra token \"la\" after end of expression",
     "output_type": "error",
     "traceback": [
      "syntax: extra token \"la\" after end of expression",
      ""
     ]
    }
   ],
   "source": [
    "Modificamos la función de Runge-Kutta de 2do orden:"
   ]
  },
  {
   "cell_type": "code",
   "execution_count": 68,
   "metadata": {},
   "outputs": [
    {
     "data": {
      "text/plain": [
       "RK_2_omega (generic function with 1 method)"
      ]
     },
     "execution_count": 68,
     "metadata": {},
     "output_type": "execute_result"
    }
   ],
   "source": [
    "function RK_2_omega(edo,x_ini,t,ω)\n",
    "    sol = zeros( length(t) , length(x_ini) )\n",
    "    sol[1,:] .= x_ini\n",
    "    δ = t[2]-t[1]\n",
    "    for i in 1:length(t)-1\n",
    "        k1 = sol[i,:] .+ 0.5*δ .*edo(sol[i,:],t[i],ω) #solo agregamos un param para que no haya problemas de matcheo\n",
    "        sol[i+1,:] .= sol[i,:] .+ δ*edo(k1,t[i]+0.5*δ,ω)\n",
    "    end\n",
    "    return sol\n",
    "end"
   ]
  },
  {
   "cell_type": "code",
   "execution_count": 69,
   "metadata": {},
   "outputs": [
    {
     "ename": "LoadError",
     "evalue": "syntax: extra token \"la\" after end of expression",
     "output_type": "error",
     "traceback": [
      "syntax: extra token \"la\" after end of expression",
      ""
     ]
    }
   ],
   "source": [
    "Modificamos la función de Runge-Kutta de 4to orden:"
   ]
  },
  {
   "cell_type": "code",
   "execution_count": 70,
   "metadata": {},
   "outputs": [
    {
     "data": {
      "text/plain": [
       "RK_4_omega (generic function with 1 method)"
      ]
     },
     "execution_count": 70,
     "metadata": {},
     "output_type": "execute_result"
    }
   ],
   "source": [
    "function RK_4_omega(edo,x_ini,t,ω)\n",
    "    sol = zeros( length(t) , length(x_ini) )\n",
    "    sol[1,:] .= x_ini\n",
    "    δ = t[2]-t[1]\n",
    "    for i in 1:length(t)-1\n",
    "        k1 = edo(sol[i,:],t[i],ω)\n",
    "        k2 = edo(sol[i,:] .+ 0.5*δ.*k1 , t[i] + 0.5*δ,ω)\n",
    "        k3 = edo(sol[i,:] .+ 0.5*δ.*k2 , t[i] + 0.5*δ,ω)\n",
    "        k4 = edo(sol[i,:] .+ δ.*k2 , t[i] + δ,ω)\n",
    "        sol[i+1,:] .= sol[i,:] .+ (δ/6.0).*(k1 .+ 2.0.*k2 .+ 2.0.*k3 .+ k4)\n",
    "    end\n",
    "    return sol\n",
    "end"
   ]
  },
  {
   "cell_type": "code",
   "execution_count": 71,
   "metadata": {},
   "outputs": [
    {
     "ename": "LoadError",
     "evalue": "syntax: extra token \"que\" after end of expression",
     "output_type": "error",
     "traceback": [
      "syntax: extra token \"que\" after end of expression",
      ""
     ]
    }
   ],
   "source": [
    "Ya que modificamos nuestras funciones para encontrar las solución, podemos aplicarlas a la ecuación diferencial.\n",
    "\n",
    "Iniciemos obteniendo la solución con el método de Euler.\n",
    "Así, primero veamos que el paso que escojamos nos da 5 cifras significativas como minímo."
   ]
  },
  {
   "cell_type": "code",
   "execution_count": 72,
   "metadata": {},
   "outputs": [
    {
     "data": {
      "text/plain": [
       "3142×2 Array{Float64,2}:\n",
       "  0.0         1.0      \n",
       "  0.009995    0.998828 \n",
       "  0.0199766   0.997313 \n",
       "  0.0299413   0.995455 \n",
       "  0.0398857   0.993257 \n",
       "  0.0498064   0.990719 \n",
       "  0.0597001   0.987842 \n",
       "  0.0695633   0.984629 \n",
       "  0.0793926   0.981082 \n",
       "  0.0891849   0.977201 \n",
       "  0.0989367   0.97299  \n",
       "  0.108645    0.968451 \n",
       "  0.118306    0.963586 \n",
       "  ⋮                    \n",
       " -0.0226856  -0.0640721\n",
       " -0.0233183  -0.0624801\n",
       " -0.0239352  -0.0609193\n",
       " -0.0245367  -0.0593904\n",
       " -0.025123   -0.057894 \n",
       " -0.0256946  -0.0564307\n",
       " -0.0262517  -0.0550012\n",
       " -0.0267946  -0.053606 \n",
       " -0.0273238  -0.0522457\n",
       " -0.0278395  -0.0509208\n",
       " -0.0283422  -0.0496319\n",
       " -0.0288322  -0.0483793"
      ]
     },
     "execution_count": 72,
     "metadata": {},
     "output_type": "execute_result"
    }
   ],
   "source": [
    "tiempoEC = collect(0:0.01:10π)\n",
    "solucionCE = Euler_mejorado_omega(EDO2,[0.0,1.0],tiempoEC,EDO2_J,1.1)"
   ]
  },
  {
   "cell_type": "markdown",
   "metadata": {},
   "source": [
    "En este caso, debido a que ω es un parametro constante, no tiene gran influencia en las cifras significativas, en este caso, veamos entonces que tenemos 5 cifras significarvas en los métodos de Ruge-Kutta."
   ]
  },
  {
   "cell_type": "code",
   "execution_count": 73,
   "metadata": {},
   "outputs": [
    {
     "data": {
      "text/plain": [
       "3142×2 Array{Float64,2}:\n",
       "  0.0         1.0      \n",
       "  0.009995    0.998828 \n",
       "  0.0199766   0.997313 \n",
       "  0.0299413   0.995455 \n",
       "  0.0398857   0.993257 \n",
       "  0.0498064   0.990719 \n",
       "  0.0597001   0.987842 \n",
       "  0.0695633   0.98463  \n",
       "  0.0793926   0.981082 \n",
       "  0.0891849   0.977202 \n",
       "  0.0989367   0.972991 \n",
       "  0.108645    0.968451 \n",
       "  0.118306    0.963586 \n",
       "  ⋮                    \n",
       " -0.0226877  -0.0640709\n",
       " -0.0233204  -0.0624788\n",
       " -0.0239373  -0.060918 \n",
       " -0.0245387  -0.059389 \n",
       " -0.0251251  -0.0578925\n",
       " -0.0256966  -0.0564292\n",
       " -0.0262537  -0.0549996\n",
       " -0.0267966  -0.0536043\n",
       " -0.0273257  -0.052244 \n",
       " -0.0278415  -0.050919 \n",
       " -0.0283441  -0.0496299\n",
       " -0.0288341  -0.0483773"
      ]
     },
     "execution_count": 73,
     "metadata": {},
     "output_type": "execute_result"
    }
   ],
   "source": [
    "solucionCERK2 = RK_2_omega(EDO2_1,[0.0,1.0],tiempoEC,1.1)"
   ]
  },
  {
   "cell_type": "code",
   "execution_count": 74,
   "metadata": {},
   "outputs": [
    {
     "data": {
      "text/plain": [
       "3142×2 Array{Float64,2}:\n",
       "  0.0          1.0      \n",
       "  0.00999443   0.998828 \n",
       "  0.0199754    0.997313 \n",
       "  0.0299395    0.995456 \n",
       "  0.0398834    0.993258 \n",
       "  0.0498036    0.99072  \n",
       "  0.0596967    0.987844 \n",
       "  0.0695593    0.984631 \n",
       "  0.0793882    0.981084 \n",
       "  0.0891799    0.977204 \n",
       "  0.0989312    0.972994 \n",
       "  0.108639     0.968455 \n",
       "  0.118299     0.963591 \n",
       "  ⋮                     \n",
       " -0.0229618   -0.0644734\n",
       " -0.0235985   -0.06287  \n",
       " -0.0242193   -0.0612976\n",
       " -0.0248246   -0.059757 \n",
       " -0.0254146   -0.0582488\n",
       " -0.0259896   -0.0567736\n",
       " -0.0265501   -0.055332 \n",
       " -0.0270964   -0.0539245\n",
       " -0.0276287   -0.0525519\n",
       " -0.0281475   -0.0512145\n",
       " -0.0286532   -0.0499129\n",
       " -0.0291459   -0.0486477"
      ]
     },
     "execution_count": 74,
     "metadata": {},
     "output_type": "execute_result"
    }
   ],
   "source": [
    "solucionCERK4 = RK_4_omega(EDO2_1,[0.0,1.0],tiempoEC,1.1)"
   ]
  },
  {
   "cell_type": "markdown",
   "metadata": {},
   "source": [
    "Vemos que se cumple que se tienen cinco cifras significativas como minímo, así, pasemos a presentar las soluciones con diversas ω."
   ]
  },
  {
   "cell_type": "code",
   "execution_count": 75,
   "metadata": {},
   "outputs": [
    {
     "ename": "UndefVarError",
     "evalue": "UndefVarError: plot not defined",
     "output_type": "error",
     "traceback": [
      "UndefVarError: plot not defined",
      "",
      "Stacktrace:",
      " [1] top-level scope at In[75]:3"
     ]
    }
   ],
   "source": [
    "tiempoE = collect(0:0.01:10π)\n",
    "omegas = collect(1:0.1:3)\n",
    "plot(title=\"Solución para x_1 con diversos valores de ω usando Euler\",xlabel=\"t\",ylabel=\"x(t)\")\n",
    "for ω in omegas\n",
    "    solucionE3 = Euler_mejorado_omega(EDO2,[0.0,1.0],tiempoE,EDO2_J,ω)\n",
    "    plot!(tiempoE,solucionE3[:,1],label =\"ω=$(ω)\", lw=1.0)\n",
    "end\n",
    "plot!()"
   ]
  },
  {
   "cell_type": "markdown",
   "metadata": {},
   "source": [
    "Veamos ahora las soluciones para $x_2$."
   ]
  },
  {
   "cell_type": "code",
   "execution_count": 76,
   "metadata": {},
   "outputs": [
    {
     "ename": "UndefVarError",
     "evalue": "UndefVarError: plot not defined",
     "output_type": "error",
     "traceback": [
      "UndefVarError: plot not defined",
      "",
      "Stacktrace:",
      " [1] top-level scope at In[76]:1"
     ]
    }
   ],
   "source": [
    "plot(title=\"Solución para x_2 con diversos valores de ω usando Euler\",xlabel=\"t\",ylabel=\"x(t)\")\n",
    "for ω in omegas\n",
    "    solucion = Euler_mejorado_omega(EDO2,[0.0,1.0],tiempoE,EDO2_J,ω)\n",
    "    plot!(tiempoE,solucion[:,2],label =\"ω=$(ω)\", lw=1.0)\n",
    "end\n",
    "plot!()"
   ]
  },
  {
   "cell_type": "markdown",
   "metadata": {},
   "source": [
    "Ahora obtengamos las soluciones para $x_1$ y $x_2$ con los metodos de Rugen-Kutta."
   ]
  },
  {
   "cell_type": "code",
   "execution_count": 77,
   "metadata": {},
   "outputs": [
    {
     "ename": "UndefVarError",
     "evalue": "UndefVarError: plot not defined",
     "output_type": "error",
     "traceback": [
      "UndefVarError: plot not defined",
      "",
      "Stacktrace:",
      " [1] top-level scope at In[77]:1"
     ]
    }
   ],
   "source": [
    "plot(title=\"Solución para x_1 con diversos valores de ω usando RK_2\",xlabel=\"t\",ylabel=\"x(t)\")\n",
    "for ω in omegas\n",
    "    solucionE3 = RK_2_omega(EDO2_1,[0.0,1.0],tiempoE,ω)\n",
    "    plot!(tiempoE,solucionE3[:,1],label =\"ω=$(ω)\", lw=1.0)\n",
    "end\n",
    "plot!()"
   ]
  },
  {
   "cell_type": "code",
   "execution_count": 78,
   "metadata": {},
   "outputs": [
    {
     "ename": "UndefVarError",
     "evalue": "UndefVarError: plot not defined",
     "output_type": "error",
     "traceback": [
      "UndefVarError: plot not defined",
      "",
      "Stacktrace:",
      " [1] top-level scope at In[78]:1"
     ]
    }
   ],
   "source": [
    "plot(title=\"Solución para x_2 con diversos valores de ω usando RK_2\",xlabel=\"t\",ylabel=\"x(t)\")\n",
    "for ω in omegas\n",
    "    solucionE3 = RK_2_omega(EDO2_1,[0.0,1.0],tiempoE,ω)\n",
    "    plot!(tiempoE,solucionE3[:,2],label =\"ω=$(ω)\", lw=1.0)\n",
    "end\n",
    "plot!()"
   ]
  },
  {
   "cell_type": "markdown",
   "metadata": {},
   "source": [
    "Realicemos el mismo procedimiento para el método de Rugen-Kutta de 4to orden."
   ]
  },
  {
   "cell_type": "code",
   "execution_count": 79,
   "metadata": {},
   "outputs": [
    {
     "ename": "UndefVarError",
     "evalue": "UndefVarError: plot not defined",
     "output_type": "error",
     "traceback": [
      "UndefVarError: plot not defined",
      "",
      "Stacktrace:",
      " [1] top-level scope at In[79]:1"
     ]
    }
   ],
   "source": [
    "plot(title=\"Solución para x_1 con diversos valores de ω usando RK_4\",xlabel=\"t\",ylabel=\"x(t)\")\n",
    "for ω in omegas\n",
    "    solucionE3 = RK_4_omega(EDO2_1,[0.0,1.0],tiempoE,ω)\n",
    "    plot!(tiempoE,solucionE3[:,1],label =\"ω=$(ω)\", lw=1.0)\n",
    "end\n",
    "plot!()"
   ]
  },
  {
   "cell_type": "code",
   "execution_count": 80,
   "metadata": {},
   "outputs": [
    {
     "ename": "UndefVarError",
     "evalue": "UndefVarError: plot not defined",
     "output_type": "error",
     "traceback": [
      "UndefVarError: plot not defined",
      "",
      "Stacktrace:",
      " [1] top-level scope at In[80]:1"
     ]
    }
   ],
   "source": [
    "plot(title=\"Solución para x_1 con diversos valores de ω usando RK_4\",xlabel=\"t\",ylabel=\"x(t)\")\n",
    "for ω in omegas\n",
    "    solucionE3 = RK_4_omega(EDO2_1,[0.0,1.0],tiempoE,ω)\n",
    "    plot!(tiempoE,solucionE3[:,2],label =\"ω=$(ω)\", lw=1.0)\n",
    "end\n",
    "plot!()"
   ]
  },
  {
   "cell_type": "markdown",
   "metadata": {},
   "source": [
    "Para ambas soluciones podemos apreciar que tenemos resonancia, además, comforme avanza el sistema en el tiempo la amplitud de las soluciones crece y mientras mayor sea el valor de ω la amplitud crece más."
   ]
  },
  {
   "cell_type": "markdown",
   "metadata": {},
   "source": [
    "<span style=\"color:blue\">4. Considere el siguiente sistema de ecuaciones diferenciales \n",
    "\\begin{equation}\n",
    "\\begin{aligned}\n",
    "\\frac{dx}{dt}&=10(y-x)\\\\\n",
    "\\frac{dx}{dt}&=x(28-z)-y\\\\\n",
    "\\frac{dx}{dt}&=xy-\\frac{8}{3}z\n",
    "\\end{aligned}\n",
    "\\end{equation}\n",
    "Realice una integración numérica del sistema de ecuaciones con el método de Runge-Kutta de $4\\circ$ y realice los siguientes ejercicios:<span>\n",
    "    \n",
    "<span style=\"color:blue\">(a) Elija una condición inicial aleatoria en el $x,y,z \\in [-5,5]$ y realice la gráfica de la solución en el plano $xy$, $xz$ y $yz$ y comente sus observaciones.<span>\n",
    "    \n",
    "<span style=\"color:blue\">(b) Ahora tome 3 soluciones parecidas. Para ello proponga 3 condicioness iniciales tales que en la coordenada en $y$ las condiciones inciales difieran entre si en $10^{-2}$. Explique lo que observa.<span>\n",
    "    \n",
    "<span style=\"color:blue\">Nota: De preferencia realice integraciones con tiempos relativamente largos en los que pueda apreciar diferencias en el comportamiento de las soluciones. Además asegure que cada una de las soluciones que encuentre sea convergente en por lo menos 5 cifras (10^{-5}), es decir encuentre un paso adecuado para realizar la integración. <span>\n"
   ]
  },
  {
   "cell_type": "code",
   "execution_count": 81,
   "metadata": {},
   "outputs": [
    {
     "ename": "LoadError",
     "evalue": "syntax: extra token \"la\" after end of expression",
     "output_type": "error",
     "traceback": [
      "syntax: extra token \"la\" after end of expression",
      ""
     ]
    }
   ],
   "source": [
    "Escribamos la función que nos de el sistema de ecuaciones:"
   ]
  },
  {
   "cell_type": "code",
   "execution_count": 82,
   "metadata": {},
   "outputs": [
    {
     "data": {
      "text/plain": [
       "EDO3 (generic function with 1 method)"
      ]
     },
     "execution_count": 82,
     "metadata": {},
     "output_type": "execute_result"
    }
   ],
   "source": [
    "function EDO3(vec,t)\n",
    "    # vec = [x1, x2, x3]\n",
    "    dx = 10*vec[2] - 10*vec[1]\n",
    "    dy = 28*vec[1] - vec[1]*vec[3] - vec[2]\n",
    "    dz = vec[1]*vec[2] - 8*vec[3]/3\n",
    "    return [dx,dy,dz]\n",
    "end"
   ]
  },
  {
   "cell_type": "code",
   "execution_count": 83,
   "metadata": {},
   "outputs": [
    {
     "ename": "LoadError",
     "evalue": "syntax: extra token \"escojer\" after end of expression",
     "output_type": "error",
     "traceback": [
      "syntax: extra token \"escojer\" after end of expression",
      ""
     ]
    }
   ],
   "source": [
    "Para escojer nuestras condiciones iniciales tomemos un valor aleatorio entre 0 y 1, y multipliquemoslo por 5 o -5."
   ]
  },
  {
   "cell_type": "code",
   "execution_count": 84,
   "metadata": {},
   "outputs": [
    {
     "data": {
      "text/plain": [
       "3-element Array{Float64,1}:\n",
       "  2.630580265400252\n",
       " -1.156848738394467\n",
       "  1.170633156416374"
      ]
     },
     "execution_count": 84,
     "metadata": {},
     "output_type": "execute_result"
    }
   ],
   "source": [
    "#Obtención de la condición inicial.\n",
    "vec0=[5rand(),-5rand(),5rand()]"
   ]
  },
  {
   "cell_type": "markdown",
   "metadata": {},
   "source": [
    "Realicemos la gráfica de la solución en el plano xy:"
   ]
  },
  {
   "cell_type": "code",
   "execution_count": 85,
   "metadata": {},
   "outputs": [
    {
     "ename": "UndefVarError",
     "evalue": "UndefVarError: plot not defined",
     "output_type": "error",
     "traceback": [
      "UndefVarError: plot not defined",
      "",
      "Stacktrace:",
      " [1] top-level scope at In[85]:3"
     ]
    }
   ],
   "source": [
    "tiempoE4 = collect(0:0.01:500)\n",
    "solucion4 = RK_4(EDO3,vec0,tiempoE4) #introducimos las condiciones iniciales aleatorias\n",
    "plot(title=\"Solución en el plano xy\",xlabel=\"x(t)\",ylabel=\"y(t)\")\n",
    "plot!(solucion4[:,1],solucion4[:,2])\n",
    "plot!(legend=false)"
   ]
  },
  {
   "cell_type": "code",
   "execution_count": 86,
   "metadata": {},
   "outputs": [
    {
     "ename": "LoadError",
     "evalue": "syntax: extra token \"el\" after end of expression",
     "output_type": "error",
     "traceback": [
      "syntax: extra token \"el\" after end of expression",
      ""
     ]
    }
   ],
   "source": [
    "Para el plano xz:"
   ]
  },
  {
   "cell_type": "code",
   "execution_count": 87,
   "metadata": {},
   "outputs": [
    {
     "ename": "UndefVarError",
     "evalue": "UndefVarError: plot not defined",
     "output_type": "error",
     "traceback": [
      "UndefVarError: plot not defined",
      "",
      "Stacktrace:",
      " [1] top-level scope at In[87]:1"
     ]
    }
   ],
   "source": [
    "plot(title=\"Solución en el plano xz\",xlabel=\"x(t)\",ylabel=\"z(t)\")\n",
    "plot!(solucion4[:,1],solucion4[:,3])\n",
    "plot!(legend=false)"
   ]
  },
  {
   "cell_type": "code",
   "execution_count": 88,
   "metadata": {},
   "outputs": [
    {
     "ename": "LoadError",
     "evalue": "syntax: extra token \"el\" after end of expression",
     "output_type": "error",
     "traceback": [
      "syntax: extra token \"el\" after end of expression",
      ""
     ]
    }
   ],
   "source": [
    "En el plano yz:"
   ]
  },
  {
   "cell_type": "code",
   "execution_count": 89,
   "metadata": {},
   "outputs": [
    {
     "ename": "UndefVarError",
     "evalue": "UndefVarError: plot not defined",
     "output_type": "error",
     "traceback": [
      "UndefVarError: plot not defined",
      "",
      "Stacktrace:",
      " [1] top-level scope at In[89]:1"
     ]
    }
   ],
   "source": [
    "plot(title=\"Espacio Fase en el plano yz\",xlabel=\"y(t)\",ylabel=\"z(t)\")\n",
    "plot!(solucion4[:,2],solucion4[:,3])\n",
    "plot!(legend=false)"
   ]
  },
  {
   "cell_type": "markdown",
   "metadata": {},
   "source": [
    "Vemos que el sistema tiene solución para tiempos relativamente grandes. Además, al modificar el tiempo e ir creciendolo, las gráficas se van rellenando con más \"líneas\" que siguen las trayectoria de la forma que se aprecia."
   ]
  },
  {
   "cell_type": "markdown",
   "metadata": {},
   "source": [
    "b) Escojamos nuestras condiciones similares tomando como base las obtenidas en el inciso anterior, y las soluciones a la ecuación diferencia con esas condiciones para revisar que se se tengan por lo menos 5 cifras significativas."
   ]
  },
  {
   "cell_type": "markdown",
   "metadata": {},
   "source": [
    "vec0_1=[vec0[1]+0.1,vec0[2]+0.001,vec0[3]-0.1]\n",
    "tiempo4b = collect(0:0.0001:200π)\n",
    "solucion4b_1 = RK_4(EDO3,vec0_1,tiempo4b)"
   ]
  },
  {
   "cell_type": "markdown",
   "metadata": {},
   "source": [
    "Tomamos una segunda condición incial y obtenemos la solución con ella."
   ]
  },
  {
   "cell_type": "code",
   "execution_count": 90,
   "metadata": {},
   "outputs": [
    {
     "data": {
      "text/plain": [
       "62831854×3 Array{Float64,2}:\n",
       "   2.53058   -1.15585   1.17063\n",
       "   2.53021   -1.15516   1.17057\n",
       "   2.52984   -1.15447   1.17051\n",
       "   2.52947   -1.15378   1.17045\n",
       "   2.52911   -1.15309   1.17039\n",
       "   2.52874   -1.1524    1.17033\n",
       "   2.52837   -1.15171   1.17027\n",
       "   2.528     -1.15102   1.17021\n",
       "   2.52763   -1.15033   1.17015\n",
       "   2.52727   -1.14964   1.17009\n",
       "   2.5269    -1.14895   1.17003\n",
       "   2.52653   -1.14826   1.16997\n",
       "   2.52616   -1.14757   1.16991\n",
       "   ⋮                           \n",
       " -12.7161   -15.5319   29.2648 \n",
       " -12.7164   -15.5316   29.266  \n",
       " -12.7167   -15.5313   29.2672 \n",
       " -12.717    -15.531    29.2684 \n",
       " -12.7173   -15.5307   29.2696 \n",
       " -12.7175   -15.5304   29.2708 \n",
       " -12.7178   -15.53     29.272  \n",
       " -12.7181   -15.5297   29.2732 \n",
       " -12.7184   -15.5294   29.2744 \n",
       " -12.7187   -15.5291   29.2756 \n",
       " -12.7189   -15.5288   29.2768 \n",
       " -12.7192   -15.5284   29.278  "
      ]
     },
     "execution_count": 90,
     "metadata": {},
     "output_type": "execute_result"
    }
   ],
   "source": [
    "vec0_2=[vec0[1]-0.1,vec0[2]+0.001,vec0[3]]\n",
    "tiempo4b_2 = collect(0:0.00001:200π)\n",
    "solucion4b_2 = RK_4(EDO3,vec0_2,tiempo4b_2)"
   ]
  },
  {
   "cell_type": "code",
   "execution_count": 91,
   "metadata": {},
   "outputs": [
    {
     "data": {
      "text/plain": [
       "6283186×3 Array{Float64,2}:\n",
       " 2.83058  -1.15385   1.18063\n",
       " 2.8266   -1.14615   1.17999\n",
       " 2.82263  -1.13846   1.17936\n",
       " 2.81868  -1.13078   1.17872\n",
       " 2.81474  -1.12311   1.17809\n",
       " 2.8108   -1.11545   1.17746\n",
       " 2.80688  -1.10781   1.17683\n",
       " 2.80297  -1.10018   1.17621\n",
       " 2.79908  -1.09255   1.17559\n",
       " 2.79519  -1.08494   1.17497\n",
       " 2.79132  -1.07734   1.17436\n",
       " 2.78745  -1.06975   1.17374\n",
       " 2.7836   -1.06217   1.17314\n",
       " ⋮                          \n",
       " 7.55545  11.9906   17.6216 \n",
       " 7.55988  11.9972   17.626  \n",
       " 7.56432  12.0038   17.6304 \n",
       " 7.56876  12.0105   17.6347 \n",
       " 7.5732   12.0171   17.6391 \n",
       " 7.57765  12.0238   17.6435 \n",
       " 7.5821   12.0304   17.6479 \n",
       " 7.58655  12.0371   17.6524 \n",
       " 7.591    12.0437   17.6568 \n",
       " 7.59545  12.0504   17.6612 \n",
       " 7.59991  12.057    17.6657 \n",
       " 7.60437  12.0637   17.6701 "
      ]
     },
     "execution_count": 91,
     "metadata": {},
     "output_type": "execute_result"
    }
   ],
   "source": [
    "vec0_3=[vec0[1]+0.2,vec0[2]+0.003,vec0[3]+0.01]\n",
    "tiempo4b_3 = collect(0:0.0001:200π)\n",
    "solucion4b_3= RK_4(EDO3,vec0_3,tiempo4b_3)"
   ]
  },
  {
   "cell_type": "code",
   "execution_count": 92,
   "metadata": {},
   "outputs": [
    {
     "ename": "LoadError",
     "evalue": "syntax: extra token \"ahora\" after end of expression",
     "output_type": "error",
     "traceback": [
      "syntax: extra token \"ahora\" after end of expression",
      ""
     ]
    }
   ],
   "source": [
    "Comparemos ahora las soluciones."
   ]
  },
  {
   "cell_type": "code",
   "execution_count": 93,
   "metadata": {},
   "outputs": [
    {
     "ename": "UndefVarError",
     "evalue": "UndefVarError: plot not defined",
     "output_type": "error",
     "traceback": [
      "UndefVarError: plot not defined",
      "",
      "Stacktrace:",
      " [1] top-level scope at In[93]:1"
     ]
    }
   ],
   "source": [
    "plot(title=\"Espacio Fase en el plano xy\",xlabel=\"x(t)\",ylabel=\"z(t)\")\n",
    "plot!(solucion4b_1[:,1],solucion4b_1[:,2],label =\"C.I 1\")\n",
    "plot!(solucion4b_2[:,1],solucion4b_2[:,2],label =\"C.I 2\")\n",
    "plot!(solucion4b_3[:,1],solucion4b_3[:,2],label=\"C.I 3\")\n",
    "plot!(legend=false)"
   ]
  },
  {
   "cell_type": "code",
   "execution_count": 94,
   "metadata": {},
   "outputs": [
    {
     "ename": "UndefVarError",
     "evalue": "UndefVarError: plot not defined",
     "output_type": "error",
     "traceback": [
      "UndefVarError: plot not defined",
      "",
      "Stacktrace:",
      " [1] top-level scope at In[94]:1"
     ]
    }
   ],
   "source": [
    "plot(title=\"Espacio Fase en el plano xz\",xlabel=\"x(t)\",ylabel=\"z(t)\")\n",
    "plot!(solucion4_1[:,1],solucion4_1[:,3])\n",
    "plot!(legend=false)"
   ]
  },
  {
   "cell_type": "code",
   "execution_count": 95,
   "metadata": {},
   "outputs": [
    {
     "ename": "UndefVarError",
     "evalue": "UndefVarError: plot not defined",
     "output_type": "error",
     "traceback": [
      "UndefVarError: plot not defined",
      "",
      "Stacktrace:",
      " [1] top-level scope at In[95]:1"
     ]
    }
   ],
   "source": [
    "plot(title=\"Espacio Fase en el plano yz\",xlabel=\"x(t)\",ylabel=\"z(t)\")\n",
    "plot!(solucion4_1[:,2],solucion4_1[:,3])\n",
    "plot!(legend=false)"
   ]
  },
  {
   "cell_type": "markdown",
   "metadata": {},
   "source": [
    "Chequemos la precisión de nuestros calculos obteniendo la diferencia entre la solución dada por el código Rugen-Kutta de orden 2 con el de 4to orden."
   ]
  },
  {
   "cell_type": "code",
   "execution_count": 96,
   "metadata": {},
   "outputs": [
    {
     "ename": "UndefVarError",
     "evalue": "UndefVarError: presicion not defined",
     "output_type": "error",
     "traceback": [
      "UndefVarError: presicion not defined",
      "",
      "Stacktrace:",
      " [1] top-level scope at In[96]:1"
     ]
    }
   ],
   "source": [
    "presicion(0.1)"
   ]
  },
  {
   "cell_type": "code",
   "execution_count": null,
   "metadata": {},
   "outputs": [],
   "source": []
  },
  {
   "cell_type": "code",
   "execution_count": null,
   "metadata": {},
   "outputs": [],
   "source": []
  }
 ],
 "metadata": {
  "kernelspec": {
   "display_name": "Julia 1.0.5",
   "language": "julia",
   "name": "julia-1.0"
  },
  "language_info": {
   "file_extension": ".jl",
   "mimetype": "application/julia",
   "name": "julia",
   "version": "1.0.5"
  }
 },
 "nbformat": 4,
 "nbformat_minor": 4
}
