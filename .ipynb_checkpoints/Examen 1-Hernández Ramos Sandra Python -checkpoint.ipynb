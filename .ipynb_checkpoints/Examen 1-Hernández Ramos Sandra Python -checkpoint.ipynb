{
 "cells": [
  {
   "cell_type": "markdown",
   "metadata": {},
   "source": [
    "# Examen 1\n",
    "## Física Computacional\n",
    "### Hernández Ramos Sandra \n",
    "$Sandii\\hbar ers^{\\heartsuit}$ 🦆🌵🌹🥀🌿🍀🌺🌷\n",
    "\n",
    "\n",
    "\n",
    "## Python "
   ]
  },
  {
   "cell_type": "code",
   "execution_count": 2,
   "metadata": {},
   "outputs": [],
   "source": [
    "#Lìbrerìas\n",
    "from pylab import *\n",
    "datos = loadtxt ('t_acel.dat')"
   ]
  },
  {
   "cell_type": "markdown",
   "metadata": {},
   "source": [
    "***Resuelva los siguientes ejercicios, explicando claramente su razonamiento.****"
   ]
  },
  {
   "cell_type": "markdown",
   "metadata": {},
   "source": [
    "<span style=\"color:red\">1. En clase vimos como en un arreglo puede representar la gráfica de una función $f(x)$ con los puntos ${x_{i},f_{i}}$ con $i=1,,2,3,...N$. También vimos como obtener las primeras derivadas numéricas en cada punto, $f'(x_{i})$ y $f''(x_{i})$, es decir, podemos obtener el conjunto de puntos $\\{x_{i},f'_{i}\\}$ y $\\{x_{i},f''_{i}\\}$. Este problema consisre en hacer lo mismo pero para el caso de la integral, y para ello realice una función que tenga como entrada los puntos $\\{x_{i},f_{i}\\}$ y que regrese $\\{x_{i},F_{i}\\}$, donde $F_{i}$ representa la integral de la función hasta el $x_{i}$-ésimo punto. Para corroborar que su función trabaja de manera adecuada, puede utilizar la función $cos(x)$ en el intervalo $[0,2\\pi]$. Puede utilizar cualquier algoritmo de integración que vimos en clase o en las tareas</span>"
   ]
  },
  {
   "cell_type": "markdown",
   "metadata": {},
   "source": [
    "<span style=\"color:red\">2. En la página del curso, en la misma sección donde está este examen, hay un archivo que se llama ***$t\\_acel.dat$***. Este es un archivo de texto que contiene datos de tiempos, $t_{i}$, y aceleración, $a_{i}$, acomodados dos columnas. Descargue el archivo en el mismo directorio donde está realizando su notebook. Para leer los datos del archivo en Python hay que usar:</span>"
   ]
  },
  {
   "cell_type": "markdown",
   "metadata": {},
   "source": [
    "`from pylab import *\n",
    "datos = loadtxt ('t_acel . dat')`\n"
   ]
  },
  {
   "cell_type": "markdown",
   "metadata": {},
   "source": [
    "<span style=\"color:red\">en donde ***datos [:,0]*** se guardaràn los valores que corresponden al tiempo y en ***datos[:,1]*** se guardaràn los valores de la aceleraciòn. Para leer los datos del archivo si utiliza Julia hay que hacer lo siguiente:</span> "
   ]
  },
  {
   "cell_type": "markdown",
   "metadata": {},
   "source": [
    "`using DelimitedFiles\n",
    "datos = readdlm(\"t_acel.dat\",’ ’,Float64)`"
   ]
  },
  {
   "cell_type": "markdown",
   "metadata": {},
   "source": [
    "<span style=\"color:red\">en donde ***datos[:,1]*** se guardaràn los valores que corresponden al tiempo y en ***datos[:,2]*** se guardaràn los valores de la aceleraciòn. Haga las siguientes actividades:</span>"
   ]
  },
  {
   "cell_type": "markdown",
   "metadata": {},
   "source": [
    "<span style=\"color:red\">a) Haga la gràfica de los datos</span>"
   ]
  },
  {
   "cell_type": "markdown",
   "metadata": {},
   "source": [
    "<span style=\"color:red\">b) Calcule la derivada de cad punto utilizando algoritmos que desprecian tèrminos en $h^{3}$ y $h^{5}$. Compare las gráficas de cada uno de los algoritmos y proporcione el error máximo entre los algoritmos utilizados.</span>"
   ]
  },
  {
   "cell_type": "markdown",
   "metadata": {},
   "source": [
    "<span style=\"color:red\">c)Calcule la integral total de los datos con el algoritmo ***int_alg2*** que viene en el NB 6 de la pàgina del curso y compare el resultado utilizando el algoritmo de Boole. ¿Cuàl es la diferencia numèricaentre ambos algoritmos?</span>"
   ]
  },
  {
   "cell_type": "markdown",
   "metadata": {},
   "source": [
    "<span style=\"color:red\">d) Calcule la integral de los datos, es decir, un conjunto de puntos $\\{t_{i},v_{i}\\}$ tales que su derivada numèrica sean los puntos $\\{t_{i},a_{i}\\}$ proporcionados por el archivo.</span>"
   ]
  },
  {
   "cell_type": "markdown",
   "metadata": {},
   "source": [
    "<span style=\"color:red\">3. Sabemos que $\\int_{1}^{\\infty}{\\frac{dx}{x^{2}}}$, sin embargo numéricamente no es factible utilizar el infinito. De esta manera genere una forma de calcular dicha integral hasta obtener una precisión de $10^{−3}$. Explique su procedimiento de tal manera que pueda garantizar el resultado de dicha integral y cual sería su generalización.</span>"
   ]
  },
  {
   "cell_type": "code",
   "execution_count": null,
   "metadata": {},
   "outputs": [],
   "source": []
  }
 ],
 "metadata": {
  "kernelspec": {
   "display_name": "Python 3",
   "language": "python",
   "name": "python3"
  },
  "language_info": {
   "codemirror_mode": {
    "name": "ipython",
    "version": 3
   },
   "file_extension": ".py",
   "mimetype": "text/x-python",
   "name": "python",
   "nbconvert_exporter": "python",
   "pygments_lexer": "ipython3",
   "version": "3.8.3"
  }
 },
 "nbformat": 4,
 "nbformat_minor": 4
}
