{
 "cells": [
  {
   "cell_type": "markdown",
   "metadata": {},
   "source": [
    "# Tarea 2\n",
    "## Física Computacional\n",
    "### Hernández Ramos Sandra \n",
    "$Sandii\\hbar ers^{\\heartsuit}$ \n",
    "\n",
    "\n",
    "\n",
    "## Python \n"
   ]
  },
  {
   "cell_type": "markdown",
   "metadata": {},
   "source": [
    "En clase vimos la forma de hacer la integral numérica en la que en la que se aproxima la integral de una función de la siguiente manera"
   ]
  },
  {
   "cell_type": "code",
   "execution_count": 175,
   "metadata": {},
   "outputs": [],
   "source": [
    "# Líbrerías \n",
    "from pylab import * # se importa la libreria pylab\n",
    "from scipy.integrate import * # se importa la libreria scipy.integrate\n",
    "import random\n",
    "from numpy import array\n",
    "import math\n",
    "%matplotlib inline\n",
    "# %matplotlib inline despliegue gráfico de la librería matplotlib se haga dentro del mismo notebook "
   ]
  },
  {
   "cell_type": "markdown",
   "metadata": {},
   "source": [
    "<span style=\"color:red\">.1. En clase vimos la forma de hacer la integral numérica en la que se aproxima la integral de una función de la siguiente manera\n",
    "$$ \\int_{x_i-h}^{x_i+h}f(x)dx=\\frac{f(x_i-1)+4f(x_i)+f(x_i+1)}{3}h+\\mathcal{O}(h^{5})$$\n",
    "donde se desprecian los términos $\\mathcal{O}$. Calcule las integrales de las siguientes funciones para una malla uniforme:</span>\n",
    "\n",
    "    \n",
    "<span style=\"color:red\"> $\\int_0^{5}f(x)dx$ </span>\n",
    "    \n",
    "<span style=\"color:red\"> $\\int_{-5}^{5}f^{2}(x)dx$ </span>\n",
    "    \n",
    "<span style=\"color:red\"> $\\int_{0.5}^{5}g(x)dx$ </span>\n",
    "\n",
    "\n",
    "<span style=\"color:red\"> donde $f(x)=e^{-x^{2}}\\sin(x)$ y $g(x)=-{\\frac{2}{x^{6}}}+{\\frac{1}{x^{12}}}$. Muestre que ha podido integrar hasta una precisión de $10^{-4}$.</span>"
   ]
  },
  {
   "cell_type": "markdown",
   "metadata": {},
   "source": [
    " *Podemos utilizar el segundo algoritmo que desarrollamos en el notebook pasado.*"
   ]
  },
  {
   "cell_type": "markdown",
   "metadata": {},
   "source": [
    "***Para $\\int_0^{5}f(x)dx$:***"
   ]
  },
  {
   "cell_type": "code",
   "execution_count": 176,
   "metadata": {},
   "outputs": [],
   "source": [
    "#Se define la integral: \n",
    "def int_1(f,x):\n",
    "    #Espacio entre dos puntos en la malla\n",
    "    h = x[2] - x[1]\n",
    "    #Valor inicial desde el que se empezara a sumar los valores de la integral\n",
    "    integral = 0 \n",
    "     #Recordando las notas de pizzarrón \"Integrales numéricas\" tenemos que ocupar casos por si las N son par o nel : (N que ocupa las notas no es la misma\n",
    "    # Si la malla sobre la que se va a integrar es par debe iniciar en el tercer elemento\n",
    "    if mod(len(f),2) == 0:\n",
    "        inicio = 2 \n",
    "    #Si el número de puntos en la malla es impar debe iniciar en el segundo elemento\n",
    "    elif mod(len(f),2) == 1: # Esta instruccion es opcional si se tienen varias decisiones \"Mi segundo Notebook Python 2 II\"\n",
    "        inicio = 1\n",
    "    #Pedimos  sume las particiones y que vaya de dos en dos.\n",
    "    for i in range(inicio,len(f)-1,2):\n",
    "        integral += f[i+1] + 4*f[i] + f[i-1]\n",
    "    integral = integral*(h/3)\n",
    "    #En la frontera tenemos a la integral como: \n",
    "     # punto inicial si se tiene un arreglo par \"Notebook 7\"\n",
    "    if mod(len(f),2) == 0:\n",
    "        integral += (h/48)*(23*f[0] + 26*f[1] - 4*f[2] + 6*f[3] -3*f[4]) #tal como está en \"Notebook 7\" jiji \n",
    "    return integral"
   ]
  },
  {
   "cell_type": "markdown",
   "metadata": {},
   "source": [
    "Obtenemos la integral donde el rango de integración va de 0 a 5:"
   ]
  },
  {
   "cell_type": "code",
   "execution_count": 177,
   "metadata": {},
   "outputs": [
    {
     "name": "stdout",
     "output_type": "stream",
     "text": [
      "La integral de f(x) es:  0.1021341884080086\n",
      "La precisión de la integral es:  1.1398421098651745e-07\n"
     ]
    }
   ],
   "source": [
    "# Tenemos la malla 1: \n",
    "x=linspace(0,5,1000)  # linspace(inicio,final,numero de puntos)\n",
    "f=exp(-(x*x))*sin(10*x) #f(x)\n",
    "print('La integral de f(x) es: ', int_1(f,x))\n",
    "#Obtenemos el error asociado a la integral, segun la integral de wolfram\n",
    "# Después de hacer la integral en wolfram tenemos:\n",
    "m=0.1021340744237976138708054220876899\n",
    "print(\"La precisión de la integral es: \", abs(m-int_1(f,x))) #valor absoluto de la resta para sacar la precisión "
   ]
  },
  {
   "cell_type": "markdown",
   "metadata": {},
   "source": [
    "<span style=\"color:blue\"> Pues si saca la integral hasta una precisión de $10^{-4}$ </span>"
   ]
  },
  {
   "cell_type": "markdown",
   "metadata": {},
   "source": [
    "***Para $\\int_{-5}^{5}f^{2}(x)dx$:***"
   ]
  },
  {
   "cell_type": "code",
   "execution_count": 178,
   "metadata": {},
   "outputs": [],
   "source": [
    "#Podemos copiar y pegar hasta donde empieza \"for\" porque tenemos lo primero que vemos si es par o no es prácticamente lo mismo xD\n",
    "def int_2(f,x):\n",
    "    #Espacio entre dos puntos en la malla\n",
    "    h = x[2] - x[1]\n",
    "    #Valor inicial desde el que se empezara a sumar los valores de la integral\n",
    "    integral = 0 \n",
    "     #Recordando las notas de pizzarrón \"Integrales numéricas\" tenemos que ocupar casos por si las N son par o nel: (N que ocupa las notas no es la misma)\n",
    "    # Si la malla sobre la que se va a integrar es par debe iniciar en el tercer elemento\n",
    "    if mod(len(f),2) == 0: \n",
    "        inicio = 2\n",
    "     #Si el número de puntos en la malla es impar debe iniciar en el segundo elemento\n",
    "    elif mod(len(f),2) == 1: # Esta instruccion es opcional si se tienen varias decisiones \"Mi segundo Notebook Python 2 II\"\n",
    "        inicio = 1\n",
    "   #Pedimos  sume las particiones y que vaya de dos en dos.\n",
    "    for i in range(inicio,len(f)-1,2):\n",
    "        integral += f[i+1]*f[i+1] + 4*f[i]*f[i] + f[i-1]*f[i-1] #*f[n] =*f[n]*f[n] porque es f^{2}\n",
    "    integral = integral*(h/3)\n",
    "   #En la frontera tenemos a la integral como: \n",
    "   # punto inicial si se tiene un arreglo par \"Notebook 7\"\n",
    "    if mod(len(f),2) == 0: \n",
    "        integral += (h/48)*(23*f[0]*f[0] + 26*f[1]*f[1] - 4*f[2]*f[2] + 6*f[3]*f[3] -3*f[4]*f[4])#tal como está en \"Notebook 7\" pero para este caso *y[n] =*f[n]*f[n] porque es f^{2} \n",
    "    return integral\n"
   ]
  },
  {
   "cell_type": "markdown",
   "metadata": {},
   "source": [
    "Obtenemos la integral donde el rango de integración va de -5 a 5:"
   ]
  },
  {
   "cell_type": "code",
   "execution_count": 179,
   "metadata": {},
   "outputs": [
    {
     "name": "stdout",
     "output_type": "stream",
     "text": [
      "La integral de $f^{2}(x)$ es:  0.6266570686577514\n",
      "La precisión de la integral es:  1.2212453270876722e-15\n"
     ]
    }
   ],
   "source": [
    "# Tenemos la malla 2: \n",
    "x=linspace(-5,5,100)  # linspace(inicio,final,numero de puntos)\n",
    "f=exp(-(x*x))*sin(10*x) #f(x)\n",
    "print('La integral de $f^{2}(x)$ es: ', int_2(f,x))\n",
    "#Obtenemos el error asociado a la integral, segun la integral de wolfram\n",
    "# Después de hacer la integral en wolfram tenemos:\n",
    "m=0.6266570686577501256038175123698260447534631408887006665615074330\n",
    "print(\"La precisión de la integral es: \", abs(m-int_2(f,x))) #valor absoluto de la resta para sacar la precisión "
   ]
  },
  {
   "cell_type": "markdown",
   "metadata": {},
   "source": [
    "<span style=\"color:blue\"> Pues si saca la integral hasta una precisión de $10^{-4}$ </span>"
   ]
  },
  {
   "cell_type": "markdown",
   "metadata": {},
   "source": [
    "***Para $\\int_{0.5}^{5}g(x)dx$:***"
   ]
  },
  {
   "cell_type": "code",
   "execution_count": 180,
   "metadata": {},
   "outputs": [],
   "source": [
    "#Se define la integral: \n",
    "def int_3(g,x):\n",
    "    #Espacio entre dos puntos en la malla\n",
    "    h = x[2] - x[1]\n",
    "    #Valor inicial desde el que se empezara a sumar los valores de la integral\n",
    "    integral = 0 \n",
    "     #Recordando las notas de pizzarrón \"Integrales numéricas\" tenemos que ocupar casos por si las N son par o nel : (N que ocupa las notas no es la misma\n",
    "    # Si la malla sobre la que se va a integrar es par debe iniciar en el tercer elemento\n",
    "    if mod(len(g),2) == 0:\n",
    "        inicio = 2 \n",
    "    #Si el número de puntos en la malla es impar debe iniciar en el segundo elemento\n",
    "    elif mod(len(g),2) == 1: # Esta instruccion es opcional si se tienen varias decisiones \"Mi segundo Notebook Python 2 II\"\n",
    "        inicio = 1\n",
    "    #Pedimos  sume las particiones y que vaya de dos en dos.\n",
    "    for i in range(inicio,len(g)-1,2):\n",
    "        integral += g[i+1] + 4*g[i] + g[i-1]\n",
    "    integral = integral*(h/3)\n",
    "    #En la frontera tenemos a la integral como: \n",
    "     # punto inicial si se tiene un arreglo par \"Notebook 7\"\n",
    "    if mod(len(g),2) == 0:\n",
    "        integral += (h/48)*(23*g[0] + 26*g[1] - 4*g[2] + 6*g[3] -3*g[4]) #tal como está en \"Notebook 7\" jiji \n",
    "    return integral"
   ]
  },
  {
   "cell_type": "markdown",
   "metadata": {},
   "source": [
    "Obtenemos la integral donde el rango de integración va de 0.5 a 5:"
   ]
  },
  {
   "cell_type": "code",
   "execution_count": 181,
   "metadata": {},
   "outputs": [
    {
     "name": "stdout",
     "output_type": "stream",
     "text": [
      "La integral de g(x) es:  173.38205285872016\n",
      "La precisión de la integral es:  5.285872015292625e-05\n"
     ]
    }
   ],
   "source": [
    "# Tenemos la malla 3: \n",
    "x=linspace(0.5,5,1111)  # linspace(inicio,final,numero de puntos)\n",
    "g=-(2/x**6)+(1/x**12) #g(x)\n",
    "print('La integral de g(x) es: ', int_3(g,x))\n",
    "#Obtenemos el error asociado a la integral, segun la integral de wolfram\n",
    "# Después de hacer la integral en wolfram tenemos:\n",
    "m=173.382\n",
    "print(\"La precisión de la integral es: \", abs(m-int_3(g,x))) #valor absoluto de la resta para sacar la precisión "
   ]
  },
  {
   "cell_type": "markdown",
   "metadata": {},
   "source": [
    "<span style=\"color:blue\"> Pues si saca la integral hasta una precisión de $10^{-4}$ </span>"
   ]
  },
  {
   "cell_type": "markdown",
   "metadata": {},
   "source": [
    "<span style=\"color:red\"> 2. Haga una función que implemente la integral numérica utilizando la regla de \"Simpson $\\frac{3}{8}$\" dada por la relación: $\\int_{x_i}^{x_i+3}f(x)=\\frac{3h}{8}\\left(f(x_i)+3f(x_{i+1})+3f(x_{i+2})+f(x_{i+3})\\right)+\\mathcal{O}(h^{5})$ donde se desprecian los términos $\\mathcal{O}(h^{5})$. Utilice este algoritmo para obtener las integrales del problema anterior con una precisión de $10^{-4}$.</span>"
   ]
  },
  {
   "cell_type": "code",
   "execution_count": 182,
   "metadata": {},
   "outputs": [],
   "source": [
    "#Se define la integral: \n",
    "def int_Simpson1(f,x):\n",
    "    #Espacio entre dos puntos en la malla\n",
    "    h = x[2] - x[1]\n",
    "    #Valor inicial desde el que se empezara a sumar los valores de la integral\n",
    "    integral = 0 \n",
    "    #Si la malla menos el primer punto es divisible entre tres (residuo=0) debe iniciar en el primer elemento \"0\"\n",
    "    if mod(len(f)-1,3) == 0:\n",
    "        inicio = 0\n",
    "    #Si la malla menos el primer punto es divisible entre tres pero tiene (residuo=1) debe iniciar en el segundo elemento \"1\"   \n",
    "    if mod(len(f)-1,3) == 1:\n",
    "        inicio = 1\n",
    "    #Si la malla menos el primer punto es divisible entre tres pero tiene (residuo=2) debe iniciar en el tercer elemento \"2\"       \n",
    "    elif mod(len(f)-1,3) == 2:\n",
    "        inicio = 2\n",
    "    #Pedimos sume las particiones y que vaya de tres en tres.\n",
    "    for i in range(inicio,len(f)-4 ,3):\n",
    "        integral += f[i]+3*f[i+1]+3*f[i+2]+f[i+3]\n",
    "    integral = integral*(3*h/8)\n",
    "    \n",
    "    # Si sobran tres puntos usamos el algoritmo usado en el Ejercicio 1\n",
    "    if mod(len(f)-1,3) == 2:\n",
    "        integral += (f[0] + 4*f[1] + f[2])*(h/3)\n",
    "        \n",
    "    #Si tenemos dos puntos en la frontera se sume el valor siguiente a la integral.\n",
    "    if mod(len(f)-1,3) == 1:\n",
    "        integral += (h/48)*(23*f[0]+ 26*f[1] - 4*f[2] + 6*f[3] -3*f[4])\n",
    "    return integral"
   ]
  },
  {
   "cell_type": "markdown",
   "metadata": {},
   "source": [
    "Utilice este algoritmo para obtener lasa integrales del problema anterior con una precisión de  10−4"
   ]
  },
  {
   "cell_type": "markdown",
   "metadata": {},
   "source": [
    "***Para $\\int_0^{5}f(x)dx$:***\n",
    "\n",
    "Obtenemos la integral donde el rango de integración va de 0 a 5:"
   ]
  },
  {
   "cell_type": "code",
   "execution_count": 183,
   "metadata": {},
   "outputs": [
    {
     "name": "stdout",
     "output_type": "stream",
     "text": [
      "La integral de f(x) es:  0.10213408274397695\n",
      "La precisión de la integral es:  8.320179337162337e-09\n"
     ]
    }
   ],
   "source": [
    "#Copiando lo que se hizo en el primer ejercicio pero usando \"int_Simpson1\"\n",
    "# Tenemos la malla 1: \n",
    "x=linspace(0,5,1000)  # linspace(inicio,final,numero de puntos)\n",
    "f=exp(-(x*x))*sin(10*x) #f(x)\n",
    "print('La integral de f(x) es: ', int_Simpson1(f,x))\n",
    "#Obtenemos el error asociado a la integral, segun la integral de wolfram\n",
    "# Después de hacer la integral en wolfram tenemos:\n",
    "m=0.1021340744237976138708054220876899\n",
    "print(\"La precisión de la integral es: \", abs(m-int_Simpson1(f,x))) #valor absoluto de la resta para sacar la precisión "
   ]
  },
  {
   "cell_type": "markdown",
   "metadata": {},
   "source": [
    "<span style=\"color:blue\"> Pues si saca la integral hasta una precisión de $10^{-4}$ </span>"
   ]
  },
  {
   "cell_type": "markdown",
   "metadata": {},
   "source": [
    "***Para $\\int_{0.5}^{5}g(x)dx$:***\n",
    "\n",
    "Obtenemos la integral donde el rango de integración va de 0.5 a 5:"
   ]
  },
  {
   "cell_type": "code",
   "execution_count": 184,
   "metadata": {},
   "outputs": [
    {
     "name": "stdout",
     "output_type": "stream",
     "text": [
      "La integral de g(x) es:  173.3821873254121\n",
      "La precisión de la integral es:  0.0001873254120994261\n"
     ]
    }
   ],
   "source": [
    "#Copiando lo que se hizo en el primer ejercicio pero usando \"int_Simpson1 y g=f\"\n",
    "# Tenemos la malla 3: \n",
    "x=linspace(0.5,5,1111)  # linspace(inicio,final,numero de puntos)\n",
    "f=-(2/x**6)+(1/x**12) #g(x)\n",
    "print('La integral de g(x) es: ', int_Simpson1(f,x))\n",
    "#Obtenemos el error asociado a la integral, segun la integral de wolfram\n",
    "# Después de hacer la integral en wolfram tenemos:\n",
    "m=173.382\n",
    "print(\"La precisión de la integral es: \", abs(m-int_Simpson1(f,x))) #valor absoluto de la resta para sacar la precisión "
   ]
  },
  {
   "cell_type": "markdown",
   "metadata": {},
   "source": [
    "<span style=\"color:blue\"> Pues si saca la integral hasta una precisión de $10^{-4}$ </span>"
   ]
  },
  {
   "cell_type": "markdown",
   "metadata": {},
   "source": [
    "***Para $\\int_{-5}^{5}f^{2}(x)dx$:***"
   ]
  },
  {
   "cell_type": "markdown",
   "metadata": {},
   "source": [
    "Vemos que para $\\int_0^{5}f(x)dx$ y $\\int_0^{5}f(x)dx$ se puede usar el algoritmo usado en  \"int_Simpson\" pero para $\\int_{-5}^{5}f^{2}(x)dx$ no se puede ya que está elevada al cuadrado pero podemos hacer lo mismo que se hizo en el Ejercicio 1 que es definir otro algoritmo copiando y pegando pero ahora usando $*f[n] =*f[n]*f[n]$ porque es $f^{2}$"
   ]
  },
  {
   "cell_type": "code",
   "execution_count": 185,
   "metadata": {},
   "outputs": [],
   "source": [
    "#Podemos copiar y pegar hasta donde empieza \"for\" porque tenemos lo primero que vemos si es par o no es prácticamente lo mismo xD\n",
    "#Se define la integral: \n",
    "def int_Simpson2(f,x):\n",
    "    #Espacio entre dos puntos en la malla\n",
    "    h = x[2] - x[1]\n",
    "    #Valor inicial desde el que se empezara a sumar los valores de la integral\n",
    "    integral = 0 \n",
    "    #Si la malla menos el primer punto es divisible entre tres (residuo=0) debe iniciar en el primer elemento \"0\"\n",
    "    if mod(len(f)-1,3) == 0:\n",
    "        inicio = 0\n",
    "    #Si la malla menos el primer punto es divisible entre tres pero tiene (residuo=1) debe iniciar en el segundo elemento \"1\"   \n",
    "    if mod(len(f)-1,3) == 1:\n",
    "        inicio = 1\n",
    "    #Si la malla menos el primer punto es divisible entre tres pero tiene (residuo=2) debe iniciar en el tercer elemento \"2\"       \n",
    "    elif mod(len(f)-1,3) == 2:\n",
    "        inicio = 2\n",
    "    #Pedimos sume las particiones y que vaya de tres en tres.\n",
    "    for i in range(inicio,len(f)-4 ,3):\n",
    "        integral += f[i]*f[i]+3*f[i+1]*f[i+1]+3*f[i+2]*f[i+2]+f[i+3]*f[i+3]   #*f[n] =*f[n]*f[n] porque es f^{2}\n",
    "    integral = integral*(3*h/8)\n",
    "    \n",
    "    # Si sobran tres puntos usamos el algoritmo usado en el Ejercicio 1\n",
    "    if mod(len(f)-1,3) == 2:\n",
    "        integral += (f[0]*f[0] + 4*f[1]*f[1] + f[2]*f[2])*(h/3)\n",
    "        \n",
    "    #Si tenemos dos puntos en la frontera se sume el valor siguiente a la integral.\n",
    "    if mod(len(f)-1,3) == 1:\n",
    "        integral += (h/48)*(23*f[0]*f[0]+ 26*f[1]*f[1] - 4*f[2]*f[2] + 6*f[3]*f[3] -3*f[4]*f[4])\n",
    "    return integral"
   ]
  },
  {
   "cell_type": "markdown",
   "metadata": {},
   "source": [
    "Obtenemos la integral donde el rango de integración va de -5 a 5:"
   ]
  },
  {
   "cell_type": "code",
   "execution_count": 186,
   "metadata": {},
   "outputs": [
    {
     "name": "stdout",
     "output_type": "stream",
     "text": [
      "La integral de $f^{2}(x)$ es:  0.6266570686577498\n",
      "La precisión de la integral es:  3.3306690738754696e-16\n"
     ]
    }
   ],
   "source": [
    "#Copiando lo que se hizo en el primer ejercicio pero usando \"int_Simpson2\"\n",
    "# Tenemos la malla 2: \n",
    "x=linspace(-5,5,1000)  # linspace(inicio,final,numero de puntos)\n",
    "f=exp(-(x*x))*sin(10*x) #f(x)\n",
    "print('La integral de $f^{2}(x)$ es: ', int_Simpson2(f,x))\n",
    "#Obtenemos el error asociado a la integral, segun la integral de wolfram\n",
    "# Después de hacer la integral en wolfram tenemos:\n",
    "m=0.6266570686577501256038175123698260447534631408887006665615074330\n",
    "print(\"La precisión de la integral es: \", abs(m-int_Simpson2(f,x))) #valor absoluto de la resta para sacar la precisión "
   ]
  },
  {
   "cell_type": "markdown",
   "metadata": {},
   "source": [
    "<span style=\"color:blue\"> Pues si saca la integral hasta una precisión de $10^{-4}$ </span>"
   ]
  },
  {
   "cell_type": "markdown",
   "metadata": {},
   "source": [
    "<span style= \"color:red\"> 3. Haga una función que implemente la integral númerica utilizando la regla de ''Boole'' dada por la relación\n",
    "$$\\int_{x_i}^{x_{i+4}}f(x)={\\frac{2h}{48}}(7f(x_i)+32f(x_{i+1})+12f(x_{i+2})+32f(x_{i+3})+7f(x_{i+4}))+\\mathcal{O}(h^{7}) $$\n",
    "donde se desprecian los términos $\\mathcal{O}(h^{7})$. Utilice este algoritmo para obtener las integrales del problema anterior con una precisión de $10^{-4}$. </span>"
   ]
  },
  {
   "cell_type": "code",
   "execution_count": 187,
   "metadata": {},
   "outputs": [],
   "source": [
    "#Se define la integral: (muy parecido a la forma en que se hizo \"int_Simpson\")\n",
    "def int_Boole1(f,x):\n",
    "#Espacio entre dos puntos en la malla     \n",
    "    h = x[2] - x[1]\n",
    "    #Valor inicial desde el que se empezara a sumar los valores de la integral\n",
    "    integral = 0 \n",
    "   #Si la malla menos el primer punto es divisible entre cuatro (residuo=0) debe iniciar en el primer elemento \"0\"\n",
    "    if mod(len(f)-1,4) == 0:\n",
    "        inicio = 0\n",
    "   #Si la malla menos el primer punto es divisible entre cuatro pero tiene (residuo=1) debe iniciar en el segundo elemento \"1\" \n",
    "    if mod(len(f)-1,4) == 1:\n",
    "        inicio = 1\n",
    "        \n",
    "   #Si la malla menos el primer punto es divisible entre cuatro pero tiene (residuo=2) debe iniciar en el tercer elemento \"2\"\n",
    "    if mod(len(f)-1,4) == 2:\n",
    "        inicio = 2\n",
    "        \n",
    "    #Si la malla menos el primer punto es divisible entre cuatro pero tiene (residuo=3) debe iniciar en el cuarto elemento \"3\"\n",
    "    if mod(len(f)-1,4) == 3:\n",
    "        inicio = 3\n",
    "    #Pedimos sume las particiones y que vaya de cuatro en cuatro.\n",
    "    for i in range(inicio,len(f)-4 ,4):\n",
    "        integral += 7*f[i]+32*f[i+1]+12*f[i+2]+32*f[i+3]+7*f[i+4]\n",
    "    integral = integral*(2*h/45)\n",
    "    \n",
    "    #Consideramos los puntos frontera para sumarlos \"los huequitos que sobran\"\n",
    "    \n",
    "    if mod(len(f)-1,4) == 3:\n",
    "        integral +=(f[i]+3*f[i+1]+3*f[i+2]+f[i+3])*(3*h/8)\n",
    "    \n",
    "    if mod(len(f)-1,4) == 2:\n",
    "        integral += ((f[0] + 4*f[1] + f[2]))*(h/3)\n",
    "        \n",
    "    \n",
    "    if mod(len(f)-1,4) == 1:\n",
    "        integral += (h/48)*(23*f[0]+ 26*f[1] - 4*f[2] + 6*f[3] -3*f[4])\n",
    "    return integral\n"
   ]
  },
  {
   "cell_type": "markdown",
   "metadata": {},
   "source": [
    "De una vez definimos el algoritmo para $f^{2}$ \n",
    "Vemos que para $\\int_0^{5}f(x)dx$ y $\\int_0^{5}f(x)dx$ se puede usar el algoritmo usado en  \"int_Simpson\" pero para $\\int_{-5}^{5}f^{2}(x)dx$ no se puede ya que está elevada al cuadraddo pero podemos hacer lo mismo que se hizo en el Ejercicio 1 que es definir otro algoritmo copiando y pegando pero ahora usando $*f[n] =*f[n]*f[n]$ porque es $f^{2}$"
   ]
  },
  {
   "cell_type": "code",
   "execution_count": 188,
   "metadata": {},
   "outputs": [],
   "source": [
    "#Podemos copiar y pegar hasta donde empieza \"for\" porque tenemos lo primero que vemos si es par o no es prácticamente lo mismo xD\n",
    "#Se define la integral: (muy parecido a la forma en que se hizo \"int_Simpson\")\n",
    "def int_Boole2(f,x):\n",
    "#Espacio entre dos puntos en la malla     \n",
    "    h = x[2] - x[1]\n",
    "    #Valor inicial desde el que se empezara a sumar los valores de la integral\n",
    "    integral = 0 \n",
    "   #Si la malla menos el primer punto es divisible entre cuatro (residuo=0) debe iniciar en el primer elemento \"0\"\n",
    "    if mod(len(f)-1,4) == 0:\n",
    "        inicio = 0\n",
    "   #Si la malla menos el primer punto es divisible entre cuatro pero tiene (residuo=1) debe iniciar en el segundo elemento \"1\" \n",
    "    if mod(len(f)-1,4) == 1:\n",
    "        inicio = 1\n",
    "        \n",
    "   #Si la malla menos el primer punto es divisible entre cuatro pero tiene (residuo=2) debe iniciar en el tercer elemento \"2\"\n",
    "    if mod(len(f)-1,4) == 2:\n",
    "        inicio = 2\n",
    "        \n",
    "    #Si la malla menos el primer punto es divisible entre cuatro pero tiene (residuo=3) debe iniciar en el cuarto elemento \"3\"\n",
    "    if mod(len(f)-1,4) == 3:\n",
    "        inicio = 3\n",
    "    #Pedimos sume las particiones y que vaya de cuatro en cuatro.\n",
    "    for i in range(inicio,len(f)-4 ,4):\n",
    "        integral += 7*f[i]*f[i]+32*f[i+1]*f[i+1]+12*f[i+2]*f[i+2]+32*f[i+3]*f[i+3]+7*f[i+4]*f[i+4]     #*f[n] =*f[n]*f[n] porque es f^{2}\n",
    "    integral = integral*(2*h/45)\n",
    "    \n",
    "    #Consideramos los puntos frontera para sumarlos \"los huequitos que sobran\"\n",
    "    \n",
    "    if mod(len(f)-1,4) == 3:\n",
    "        integral +=(f[i]*f[i]+3*f[i+1]*f[i+1]+3*f[i+2]*f[i+2]+f[i+3]*f[i+3])*(3*h/8)\n",
    "    \n",
    "    if mod(len(f)-1,4) == 2:\n",
    "        integral += ((f[0]*f[0] + 4*f[1]*f[1] + f[2]*f[2]))*(h/3)\n",
    "        \n",
    "    \n",
    "    if mod(len(f)-1,4) == 1:\n",
    "        integral += (h/48)*(23*f[0]*f[0]+ 26*f[1]*f[1] - 4*f[2]*f[2] + 6*f[3]*f[3] -3*f[4]*f[4])\n",
    "    return integral"
   ]
  },
  {
   "cell_type": "markdown",
   "metadata": {},
   "source": [
    "<span style=\"color:red\"> Utilice este algoritmo para obtener las integrales del problema anterior con una precisión de hasta 10−4 </span>"
   ]
  },
  {
   "cell_type": "markdown",
   "metadata": {},
   "source": [
    "***Para $\\int_0^{5}f(x)dx$:***\n",
    "\n",
    "Obtenemos la integral donde el rango de integración va de 0 a 5:"
   ]
  },
  {
   "cell_type": "code",
   "execution_count": 189,
   "metadata": {},
   "outputs": [
    {
     "name": "stdout",
     "output_type": "stream",
     "text": [
      "La integral de f(x) es:  0.10212282239713542\n",
      "La precisión de la integral es:  1.1252026662189607e-05\n"
     ]
    }
   ],
   "source": [
    "#Copiando lo que se hizo en el primer ejercicio y segundo pero usando \"int_Boole1\"\n",
    "# Tenemos la malla 1: \n",
    "x=linspace(0,5,10000)  # linspace(inicio,final,numero de puntos)\n",
    "f=exp(-(x*x))*sin(10*x) #f(x)\n",
    "print('La integral de f(x) es: ', int_Boole1(f,x))\n",
    "#Obtenemos el error asociado a la integral, segun la integral de wolfram\n",
    "# Después de hacer la integral en wolfram tenemos:\n",
    "m=0.1021340744237976138708054220876899\n",
    "print(\"La precisión de la integral es: \", abs(m-int_Boole1(f,x))) #valor absoluto de la resta para sacar la precisión "
   ]
  },
  {
   "cell_type": "markdown",
   "metadata": {},
   "source": [
    "<span style=\"color:blue\"> Pues si saca la integral hasta una precisión de $10^{-4}$ </span>"
   ]
  },
  {
   "cell_type": "markdown",
   "metadata": {},
   "source": [
    "***Para $\\int_{-5}^{5}f^{2}(x)dx$:***\n",
    "\n",
    "Obtenemos la integral donde el rango de integración va de -5 a 5:"
   ]
  },
  {
   "cell_type": "code",
   "execution_count": 190,
   "metadata": {},
   "outputs": [
    {
     "name": "stdout",
     "output_type": "stream",
     "text": [
      "La integral de $f^{2}(x)$ es:  0.6266570686577498\n",
      "La precisión de la integral es:  3.3306690738754696e-16\n"
     ]
    }
   ],
   "source": [
    "#Copiando lo que se hizo en el primer ejercicio y segundo pero usando \"int_Boole2\"\n",
    "# Tenemos la malla 2: \n",
    "x=linspace(-5,5,1000)  # linspace(inicio,final,numero de puntos)\n",
    "f=exp(-(x*x))*sin(10*x) #f(x)\n",
    "print('La integral de $f^{2}(x)$ es: ', int_Simpson2(f,x))\n",
    "#Obtenemos el error asociado a la integral, segun la integral de wolfram\n",
    "# Después de hacer la integral en wolfram tenemos:\n",
    "m=0.6266570686577501256038175123698260447534631408887006665615074330\n",
    "print(\"La precisión de la integral es: \", abs(m-int_Simpson2(f,x))) #valor absoluto de la resta para sacar la precisión "
   ]
  },
  {
   "cell_type": "markdown",
   "metadata": {},
   "source": [
    "<span style=\"color:blue\"> Pues si saca la integral hasta una precisión de $10^{-4}$ </span>"
   ]
  },
  {
   "cell_type": "markdown",
   "metadata": {},
   "source": [
    "***Para $\\int_{0.5}^{5}g(x)dx$:***\n",
    "\n",
    "Obtenemos la integral donde el rango de integración va de 0.5 a 5:"
   ]
  },
  {
   "cell_type": "code",
   "execution_count": 191,
   "metadata": {},
   "outputs": [
    {
     "name": "stdout",
     "output_type": "stream",
     "text": [
      "La integral de g(x) es:  173.38196957180742\n",
      "La precisión de la integral es:  3.0428192587805825e-05\n"
     ]
    }
   ],
   "source": [
    "#Copiando lo que se hizo en el primer ejercicio y segundo pero usando \"int_Boole1 y g=f\"\n",
    "# Tenemos la malla 3: \n",
    "x=linspace(0.5,5,1111)  # linspace(inicio,final,numero de puntos)\n",
    "f=-(2/x**6)+(1/x**12) #g(x)\n",
    "print('La integral de g(x) es: ', int_Boole1(f,x))\n",
    "#Obtenemos el error asociado a la integral, segun la integral de wolfram\n",
    "# Después de hacer la integral en wolfram tenemos:\n",
    "m=173.382\n",
    "print(\"La precisión de la integral es: \", abs(m-int_Boole1(f,x))) #valor absoluto de la resta para sacar la precisión "
   ]
  },
  {
   "cell_type": "markdown",
   "metadata": {},
   "source": [
    "<span style=\"color:blue\"> Pues si saca la integral hasta una precisión de $10^{-4}$ </span>"
   ]
  },
  {
   "cell_type": "markdown",
   "metadata": {},
   "source": [
    "<span style=\"color:red\">4. Utilizando la integral del problema 1(a), realice una tabla en la que se muestre la convergencia de los 3 algoritmos anteriores comenzando con h = 0.25 hasta h = 0.001. La tabla debe tener por lo menos 30 diferentes h's. Obtenga el número de puntos en la malla para cada h y haga una gráfica en la que se muestre la convergencia de los 3 algoritmos, *Número de puntos vs valor de la integral*. </span>"
   ]
  },
  {
   "cell_type": "markdown",
   "metadata": {},
   "source": [
    "utilizando <span style=\"color:red\"> $\\int_0^{5}f(x)dx$ donde $f(x)=e^{-x^{2}}\\sin(x)$ </span>  "
   ]
  },
  {
   "cell_type": "code",
   "execution_count": 192,
   "metadata": {},
   "outputs": [
    {
     "name": "stdout",
     "output_type": "stream",
     "text": [
      "         h               Integral_1         Int_Simpson1         Int_Boole1     \n",
      "       0.001            0.1021340746        0.1021340746         0.10208906     \n",
      "   0.009586206897       0.1021341248        0.1021356692        0.1021340742    \n",
      "   0.01817241379        0.1021347304        0.102153813         0.1021341146    \n",
      "   0.02675862069        0.1022179266        0.1021406341        0.1022147844    \n",
      "   0.03534482759        0.1021438235        0.1021529255        0.1021334985    \n",
      "   0.04393103448        0.1021581129         0.10263214         0.1021317657    \n",
      "   0.05251724138        0.1021830899        0.1029567347        0.1021595482    \n",
      "   0.06110344828        0.1022289353        0.1022598677        0.1021140294    \n",
      "   0.06968965517        0.1022986983        0.1034991111        0.1022901761    \n",
      "   0.07827586207        0.1024070885        0.1023468474        0.1024696028    \n",
      "   0.08686206897        0.1025533202        0.1023397538        0.101885252     \n",
      "   0.09544827586        0.1006763761        0.1037956002       -0.08982094276   \n",
      "    0.1040344828       0.09833710531        0.1020245992       -0.09118687748   \n",
      "    0.1126206897       0.09444509073       0.09520963507       -0.08600546964   \n",
      "    0.1212068966        0.1039525229       0.09084696123       0.09747364844    \n",
      "    0.1297931034       0.08411313519       0.08450627332       0.09228851905    \n",
      "    0.1383793103       0.07917737055       0.09655988193       -0.05030454013   \n",
      "    0.1469655172       0.07352053662        0.1235859288       0.08933091811    \n",
      "    0.1555517241       0.06731288507        0.0513162795      -0.003494672393   \n",
      "    0.164137931        0.06080158191        0.1078918527       0.07135196068    \n",
      "    0.1727241379       0.05399185634        0.1382258797       0.06455280371    \n",
      "    0.1813103448        0.1181590208        0.1613191514        0.1018908147    \n",
      "    0.1898965517       0.04537626705       -0.01353745556      0.04041088761    \n",
      "    0.1984827586        0.1294076382       0.07375911613        0.1574672696    \n",
      "    0.2070689655       0.02768328359        0.2009784698       0.09130241876    \n",
      "    0.2156551724        0.1557140375       0.03871268199        0.1560178488    \n",
      "    0.2242413793       -0.01693035588      0.002881915115       -0.046647829    \n",
      "    0.2328275862        0.2011356401        0.1552570443        0.2487800658    \n",
      "    0.2414137931       -0.0789387645       0.08214808672       -0.05391375088   \n",
      "        0.25           -0.0789387645       0.08214808672       -0.05391375088   \n"
     ]
    }
   ],
   "source": [
    "#Tenemos a h=0.25,h=0.001 y para 30 h's\n",
    "h = linspace(0.001,0.25,30) # linspace(inicio,final,numero de puntos)\n",
    "print('{:^20}{:^20}{:^20}{:^20}'.format('h','Integral_1','Int_Simpson1','Int_Boole1'))\n",
    "for i in range(len(h)):\n",
    "    #Elemento i de las h's\n",
    "    m=h[i]\n",
    "    #Número de puntos en la malla con h como el espaio entre dos puntos.\n",
    "    num=int(5/h[i])\n",
    "    #Malla\n",
    "    x = linspace(0,5,num)\n",
    "    #Definimos la función f(x) (Ejercicio 1(a))\n",
    "    f = exp(-(x*x))*sin(10*x)\n",
    "    #Sacamos la integral definida en f con los algoritmos \"int_1\" (Ejercicio 1), \"int_Simpson1\" (Ejercicio 2) y \"int_Boole1\" (Ejercicio 3)\n",
    "    #Para el Ejercicio 1\n",
    "    Algoritmo1=int_1(f,x)\n",
    "     #Para el Ejercicio 1\n",
    "    Algoritmo2=int_Simpson1(f,x)\n",
    "    #Para el Ejercicio 1\n",
    "    Algoritmo3=int_Boole1(f,x)\n",
    "    #Imprimimos cada uno de los valores de la integral con la respectiva h\n",
    "    print('{:^20.10}{:^20.10}{:^20.10}{:^20.10}'.format(m,Algoritmo1,Algoritmo2,Algoritmo3))"
   ]
  },
  {
   "cell_type": "code",
   "execution_count": 193,
   "metadata": {},
   "outputs": [],
   "source": [
    "#Tenemos a h=0.25,h=0.001 y para 30 h's\n",
    "h = linspace(0.25,0.001,30) # linspace(inicio,final,numero de puntos)\n",
    "#Definimos areglos para ingresar los valores obtenidos de la integral para las diferentes h's\n",
    "Arreglo_1 = np.zeros(len(h))\n",
    "Arreglo_2 = np.zeros(len(h))\n",
    "Arreglo_3 = np.zeros(len(h))\n",
    "#Arreglo para agregar valor de la integral en wolfram\n",
    "#Definimos un arreglo para anexar el valor de Wolfram de la integral\n",
    "Arreglo_convergencia = np.zeros(len(h))\n",
    "#Arreglo para anexar el número de puntos del espacio entre las h's\n",
    "num1=np.zeros(len(h))\n",
    "for i in range(len(h)):\n",
    "    # Numero de puntos en la malla donde h es la ditancia entre puntos la malla    \n",
    "    num1[i]=int(5/h[i])\n",
    "    #Número de puntos en la malla donde h es la ditancia entre puntos para nuestro arreglo de número de puntos\n",
    "    num=int(5/h[i])\n",
    "    #Definimos la malla donde integraremos\n",
    "    x = linspace(0,5,num)\n",
    "    #Definimos la función f(x)\n",
    "    f= exp(-(x*x))*sin(10*x)\n",
    "    #Obtenemos las integrales\n",
    "    Arreglo_1[i] = int_1(f,x)\n",
    "    Arreglo_2[i] = int_Simpson1(f,x)\n",
    "    Arreglo_3[i] = int_Boole1(f,x)\n",
    "    Arreglo_convergencia[i]=0.1021340744237976138708054220876899 #obtenida con wolfram"
   ]
  },
  {
   "cell_type": "markdown",
   "metadata": {},
   "source": [
    "#### <span style=\"color:green\"> Para el primer algoritmo </span>"
   ]
  },
  {
   "cell_type": "code",
   "execution_count": 194,
   "metadata": {},
   "outputs": [
    {
     "data": {
      "image/png": "[encoded data removed]",
      "text/plain": [
       "<Figure size 432x288 with 1 Axes>"
      ]
     },
     "metadata": {
      "needs_background": "light"
     },
     "output_type": "display_data"
    },
    {
     "data": {
      "text/plain": [
       "(Text(0.5, 17.700000000000003, 'Número de puntos'),\n",
       " Text(17.200000000000003, 0.5, 'Valor de la integral'),\n",
       " <matplotlib.legend.Legend at 0x2070290f880>,\n",
       " None,\n",
       " None)"
      ]
     },
     "execution_count": 194,
     "metadata": {},
     "output_type": "execute_result"
    }
   ],
   "source": [
    "plot(num1,Arreglo_1,label=\"Integral\")\n",
    "plot(num1,Arreglo_convergencia,label=\"Valor de la integral en wolfram\", linestyle='--')\n",
    "title(\"Convergencia del Algoritmo1\")\n",
    "xlabel(\"Número de puntos\"),ylabel(\"Valor de la integral\"),legend(),grid(),show()"
   ]
  },
  {
   "cell_type": "code",
   "execution_count": 195,
   "metadata": {},
   "outputs": [],
   "source": [
    "#por si no jala el que tiene la leyenda \n",
    "#plot(num1,Arreglo_1)\n",
    "#plot(num1,Arreglo_convergencia)                                                \n",
    "#title(\"Convergencia del Algoritmo1\")\n",
    "#xlabel(\"Número de puntos\"),ylabel(\"Valor de la integral\"),grid(),show()"
   ]
  },
  {
   "cell_type": "markdown",
   "metadata": {},
   "source": [
    "#### <span style=\"color:green\"> Para el segundo algoritmo (Simpson) </span> "
   ]
  },
  {
   "cell_type": "code",
   "execution_count": 196,
   "metadata": {},
   "outputs": [
    {
     "data": {
      "image/png": "[encoded data removed]",
      "text/plain": [
       "<Figure size 432x288 with 1 Axes>"
      ]
     },
     "metadata": {
      "needs_background": "light"
     },
     "output_type": "display_data"
    },
    {
     "data": {
      "text/plain": [
       "(Text(0.5, 17.700000000000003, 'Número de puntos'),\n",
       " Text(17.200000000000003, 0.5, 'Valor de la integral'),\n",
       " <matplotlib.legend.Legend at 0x207029afd60>,\n",
       " None,\n",
       " None)"
      ]
     },
     "execution_count": 196,
     "metadata": {},
     "output_type": "execute_result"
    }
   ],
   "source": [
    "plot(num1,Arreglo_2,label=\"Integral\")\n",
    "plot(num1,Arreglo_convergencia,label=\"Valor de la integral en wolfram\", linestyle='--')\n",
    "title(\"Convergencia del Algoritmo2\")\n",
    "xlabel(\"Número de puntos\"),ylabel(\"Valor de la integral\"),legend(),grid(),show()"
   ]
  },
  {
   "cell_type": "code",
   "execution_count": 197,
   "metadata": {},
   "outputs": [],
   "source": [
    "#por si no jala el que tiene la leyenda\n",
    "#plot(num1,Arreglo_2)\n",
    "#plot(num1,Arreglo_convergencia) \n",
    "#title(\"Convergencia del Algoritmo2\")\n",
    "#xlabel(\"Número de puntos\"),ylabel(\"Valor de la integral\"),grid(),show()  "
   ]
  },
  {
   "cell_type": "markdown",
   "metadata": {},
   "source": [
    "#### <span style=\"color:green\"> Para el tercer algoritmo (Boole) </span> "
   ]
  },
  {
   "cell_type": "code",
   "execution_count": 198,
   "metadata": {},
   "outputs": [
    {
     "data": {
      "image/png": "[encoded data removed]",
      "text/plain": [
       "<Figure size 432x288 with 1 Axes>"
      ]
     },
     "metadata": {
      "needs_background": "light"
     },
     "output_type": "display_data"
    },
    {
     "data": {
      "text/plain": [
       "(Text(0.5, 17.700000000000003, 'Número de puntos'),\n",
       " Text(17.200000000000003, 0.5, 'Valor de la integral'),\n",
       " <matplotlib.legend.Legend at 0x20702a2bc10>,\n",
       " None,\n",
       " None)"
      ]
     },
     "execution_count": 198,
     "metadata": {},
     "output_type": "execute_result"
    }
   ],
   "source": [
    "plot(num1,Arreglo_3,label=\"Integral\")\n",
    "plot(num1,Arreglo_convergencia,label=\"Valor de la integral en wolfram\", linestyle='--')\n",
    "title(\"Convergencia del Algoritmo3\")\n",
    "xlabel(\"Número de puntos\"),ylabel(\"Valor de la integral\"),legend(),grid(),show()"
   ]
  },
  {
   "cell_type": "code",
   "execution_count": 199,
   "metadata": {},
   "outputs": [],
   "source": [
    "#por si no jala el que tiene la leyenda\n",
    "#plot(num1,Arreglo_2)\n",
    "#plot(num1,Arreglo_convergencia) \n",
    "#title(\"Convergencia del Algoritmo3\")\n",
    "#xlabel(\"Número de puntos\"),ylabel(\"Valor de la integral\"),grid(),show()  "
   ]
  },
  {
   "cell_type": "markdown",
   "metadata": {},
   "source": [
    "#### FIN :) "
   ]
  },
  {
   "cell_type": "code",
   "execution_count": null,
   "metadata": {},
   "outputs": [],
   "source": []
  }
 ],
 "metadata": {
  "kernelspec": {
   "display_name": "Python 3",
   "language": "python",
   "name": "python3"
  },
  "language_info": {
   "codemirror_mode": {
    "name": "ipython",
    "version": 3
   },
   "file_extension": ".py",
   "mimetype": "text/x-python",
   "name": "python",
   "nbconvert_exporter": "python",
   "pygments_lexer": "ipython3",
   "version": "3.8.3"
  }
 },
 "nbformat": 4,
 "nbformat_minor": 4
}
