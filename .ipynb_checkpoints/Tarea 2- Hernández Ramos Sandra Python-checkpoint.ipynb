{
 "cells": [
  {
   "cell_type": "markdown",
   "metadata": {},
   "source": [
    "# Tarea 2\n",
    "## Física Computacional\n",
    "### Hernández Ramos Sandra \n",
    "$Sandii\\hbar ers^{\\heartsuit}$ \n",
    "\n",
    "\n",
    "\n",
    "## Python \n"
   ]
  },
  {
   "cell_type": "markdown",
   "metadata": {},
   "source": [
    "En clase vimos la forma de hacer la integral numérica en la que en la que se aproxima la integral de una función de la siguiente manera"
   ]
  },
  {
   "cell_type": "code",
   "execution_count": 6,
   "metadata": {},
   "outputs": [],
   "source": [
    "# Líbrerías \n",
    "from pylab import * # se importa la libreria pylab\n",
    "from scipy.integrate import * # se importa la libreria scipy.integrate\n",
    "import random\n",
    "from numpy import array\n",
    "import math\n",
    "%matplotlib inline\n",
    "# %matplotlib inline despliegue gráfico de la librería matplotlib se haga dentro del mismo notebook "
   ]
  },
  {
   "cell_type": "markdown",
   "metadata": {},
   "source": [
    "1. En clase vimos la forma de hacer la integral numérica en la que se aproxima la integral de una función de la siguiente manera\n",
    "$$ \\int_{x_i-h}^{x_i+h}f(x)dx=\\frac{f(x_i-1)+4f(x_i)+f(x_i+1)}{3}h+\\mathcal{O}(h^{5})$$\n",
    "donde se desprecian los términos $\\mathcal{O}$. Calcule las integrales de las siguientes funciones para una malla uniforme:\n",
    "* $\\int_0^{5}f(x)dx$\n",
    "* $\\int_{-5}^{5}f^{2}(x)dx$\n",
    "* $\\int_{0.5}^{5}g(x)dx$\n",
    "\n",
    "\n",
    "donde $f(x)=e^{-x^{2}}\\sin(x)$ y $g(x)=-{\\frac{2}{x^{6}}}+{\\frac{1}{x^{12}}}$. Muestre que ha podido integrar hasta una precisión de $10^{-4}$."
   ]
  },
  {
   "cell_type": "markdown",
   "metadata": {},
   "source": [
    " *Podemos utilizar el segundo algoritmo que desarrollamos en el notebook pasado.*"
   ]
  },
  {
   "cell_type": "markdown",
   "metadata": {},
   "source": [
    "***Para $\\int_0^{5}f(x)dx$:***"
   ]
  },
  {
   "cell_type": "code",
   "execution_count": 10,
   "metadata": {},
   "outputs": [],
   "source": [
    "#Se define la integral: \n",
    "def int1(f,x):\n",
    "    #Espacio entre dos puntos en la malla\n",
    "    h = x[2] - x[1]\n",
    "    #Valor inicial desde el que se empezara a sumar los valores de la integral\n",
    "    integral = 0 \n",
    "    #Recordando las notas de pizzarrón \"Integrales numéricas\" tenemos que ocupar casos por si las N son par o nel:\n",
    "    # Si la malla sobre la que se va a integrar es par debe iniciar en el segundo elemento \"x_{1}\" en las notas de pizarrón \n",
    "    if mod(len(f),2) == 0:\n",
    "        inicio = 2 \n",
    "    #Si el número de puntos en la malla es impar debe iniciar un elemento despues del primer elemento en la malla \n",
    "    elif mod(len(f),2) == 1: # Esta instruccion es opcional si se tienen varias decisiones \"Mi segundo Notebook Python 2 II\"\n",
    "        inicio = 1\n",
    "    #Pedimos  sume las particiones y que vaya de dos en dos.\n",
    "    for i in range(inicio,len(f)-1,2):\n",
    "        integral += f[i+1] + 4*f[i] + f[i-1]\n",
    "    integral = integral*(h/3)\n",
    "    #En la frontera tenemos a la integral como: \n",
    "    if mod(len(f),2) == 0:\n",
    "        integral += (h/48)*(23*f[0] + 26*f[1] - 4*f[2] + 6*f[3] -3*f[4]) #tal como está en \"Notebook 7\" jiji \n",
    "    return integral"
   ]
  },
  {
   "cell_type": "markdown",
   "metadata": {},
   "source": [
    "Obtenemos la integral donde el rango de integración va de 0 a 5:"
   ]
  },
  {
   "cell_type": "code",
   "execution_count": 13,
   "metadata": {},
   "outputs": [
    {
     "name": "stdout",
     "output_type": "stream",
     "text": [
      "La integral de f(x) es:  0.1021341884080086\n",
      "La precisión de la integral es:  1.1398421098651745e-07\n"
     ]
    }
   ],
   "source": [
    "# Tenemos la malla 1: (aparece como 2 pero es que no le pude cambiar la enumeración, si me pueden pasar el tipo estaría chido)\n",
    "x=linspace(0,5,1000)  # linspace(inicio,final,numero de puntos)\n",
    "f=exp(-(x*x))*sin(10*x) #f(x)\n",
    "print('La integral de f(x) es: ', int1(f,x))\n",
    "#Obtenemos el error asociado a la integral, segun la integral de wolfram\n",
    "# Después de hacer la integral en wolfram tenemos:\n",
    "m=0.1021340744237976138708054220876899\n",
    "print(\"La precisión de la integral es: \", abs(m-int1(f,x))) #valor absoluto de la resta para sacar la precisión "
   ]
  },
  {
   "cell_type": "markdown",
   "metadata": {},
   "source": [
    "Pues si saca la integral hasta una precisión de $10^{-4}$"
   ]
  },
  {
   "cell_type": "markdown",
   "metadata": {},
   "source": [
    "***Para $\\int_{-5}^{5}f^{2}(x)dx$:***"
   ]
  },
  {
   "cell_type": "markdown",
   "metadata": {},
   "source": [
    "2. Haga una función que implemente la integral numérica utilizando la regla de \"Simpson $\\frac{3}{8}$\" dada por la relación: $\\int_{x_i}^{x_i+3}f(x)=\\frac{3h}{8}\\left(  f(x_i)+3f(x_{i+1})+3f(x_{i+2})+f(x_{i+3})\\right)+\\mathcal{O}(h^{5})$ donde se desprecian los términos $\\mathcal{O}(h^{5}$. Utilice este algoritmo para obtener lasa integrales del problema anterior con una precisión de $10^{-4}$."
   ]
  },
  {
   "cell_type": "markdown",
   "metadata": {},
   "source": [
    "3. Haga una función que implemente la integral númerica utilizando la regla de ''Boole'' dada por la relación\n",
    "$$\\int_{x_i}^{x_{i+4}}f(x)={\\frac{2h}{48}}(7f(x_i)+32f(x_{i+1})+12f(x_{i+2})+32f(x_{i+3})+7f(x_{i+4}))+\\mathcal{O}(h^{7}) $$\n",
    "donde se desprecian los términos $\\mathcal{O}(h^{7})$. Utilice este algoritmo para obtener las integrales del problema anterior con una precisión de $10^{-4}$."
   ]
  },
  {
   "cell_type": "markdown",
   "metadata": {},
   "source": [
    "4. Utilizando la integral del problema 1(a), realice una tabla en la que se muestre la convergencia de los 3 algoritmos anteriores comenzando con h = 0.25 hasta h = 00001. La tabla debe tener por lo menos 30 diferentes h's. Obtenga el número de puntos en la malla para cada h y haga una gráfica en la que se muestre la convergencia de los 3 algoritmos, *Número de puntos vs valor de la integral*. "
   ]
  },
  {
   "cell_type": "code",
   "execution_count": null,
   "metadata": {},
   "outputs": [],
   "source": []
  }
 ],
 "metadata": {
  "kernelspec": {
   "display_name": "Python 3",
   "language": "python",
   "name": "python3"
  },
  "language_info": {
   "codemirror_mode": {
    "name": "ipython",
    "version": 3
   },
   "file_extension": ".py",
   "mimetype": "text/x-python",
   "name": "python",
   "nbconvert_exporter": "python",
   "pygments_lexer": "ipython3",
   "version": "3.8.3"
  }
 },
 "nbformat": 4,
 "nbformat_minor": 4
}
