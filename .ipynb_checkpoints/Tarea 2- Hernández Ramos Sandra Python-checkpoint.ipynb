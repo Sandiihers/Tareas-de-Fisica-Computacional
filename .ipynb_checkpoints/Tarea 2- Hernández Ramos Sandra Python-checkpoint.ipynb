{
 "cells": [
  {
   "cell_type": "markdown",
   "metadata": {},
   "source": [
    "# Tarea 2\n",
    "## Física Computacional\n",
    "### Hernández Ramos Sandra \n",
    "$Sandii\\hbar ers^{\\heartsuit}$ \n",
    "\n",
    "\n",
    "\n",
    "## Python \n"
   ]
  },
  {
   "cell_type": "markdown",
   "metadata": {},
   "source": [
    "En clase vimos la forma de hacer la integral numérica en la que en la que se aproxima la integral de una función de la siguiente manera"
   ]
  },
  {
   "cell_type": "code",
   "execution_count": 41,
   "metadata": {},
   "outputs": [],
   "source": [
    "# Líbrerías \n",
    "from pylab import * # se importa la libreria pylab\n",
    "from scipy.integrate import * # se importa la libreria scipy.integrate\n",
    "import random\n",
    "from numpy import array\n",
    "import math\n",
    "%matplotlib inline\n",
    "# %matplotlib inline despliegue gráfico de la librería matplotlib se haga dentro del mismo notebook "
   ]
  },
  {
   "cell_type": "markdown",
   "metadata": {},
   "source": [
    "1. En clase vimos la forma de hacer la integral numérica en la que se aproxima la integral de una función de la siguiente manera\n",
    "$$ \\int_{x_i-h}^{x_i+h}f(x)dx=\\frac{f(x_i-1)+4f(x_i)+f(x_i+1)}{3}h+\\mathcal{O}(h^{5})$$\n",
    "donde se desprecian los términos $\\mathcal{O}$. Calcule las integrales de las siguientes funciones para una malla uniforme:\n",
    "* $\\int_0^{5}f(x)dx$\n",
    "* $\\int_{-5}^{5}f^{2}(x)dx$\n",
    "* $\\int_{0.5}^{5}g(x)dx$\n",
    "\n",
    "\n",
    "donde $f(x)=e^{-x^{2}}\\sin(x)$ y $g(x)=-{\\frac{2}{x^{6}}}+{\\frac{1}{x^{12}}}$. Muestre que ha podido integrar hasta una precisión de $10^{-4}$."
   ]
  },
  {
   "cell_type": "markdown",
   "metadata": {},
   "source": [
    " *Podemos utilizar el segundo algoritmo que desarrollamos en el notebook pasado.*"
   ]
  },
  {
   "cell_type": "markdown",
   "metadata": {},
   "source": [
    "***Para $\\int_0^{5}f(x)dx$:***"
   ]
  },
  {
   "cell_type": "code",
   "execution_count": 55,
   "metadata": {},
   "outputs": [],
   "source": [
    "#Se define la integral: \n",
    "def int_1(f,x):\n",
    "    #Espacio entre dos puntos en la malla\n",
    "    h = x[2] - x[1]\n",
    "    #Valor inicial desde el que se empezara a sumar los valores de la integral\n",
    "    integral = 0 \n",
    "     #Recordando las notas de pizzarrón \"Integrales numéricas\" tenemos que ocupar casos por si las N son par o nel : (N que ocupa las notas no es la misma\n",
    "    # Si la malla sobre la que se va a integrar es par debe iniciar en el tercer elemento\n",
    "    if mod(len(f),2) == 0:\n",
    "        inicio = 2 \n",
    "    #Si el número de puntos en la malla es impar debe iniciar en el segundo elemento\n",
    "    elif mod(len(f),2) == 1: # Esta instruccion es opcional si se tienen varias decisiones \"Mi segundo Notebook Python 2 II\"\n",
    "        inicio = 1\n",
    "    #Pedimos  sume las particiones y que vaya de dos en dos.\n",
    "    for i in range(inicio,len(f)-1,2):\n",
    "        integral += f[i+1] + 4*f[i] + f[i-1]\n",
    "    integral = integral*(h/3)\n",
    "    #En la frontera tenemos a la integral como: \n",
    "     # punto inicial si se tiene un arreglo par \"Notebook 7\"\n",
    "    if mod(len(f),2) == 0:\n",
    "        integral += (h/48)*(23*f[0] + 26*f[1] - 4*f[2] + 6*f[3] -3*f[4]) #tal como está en \"Notebook 7\" jiji \n",
    "    return integral"
   ]
  },
  {
   "cell_type": "markdown",
   "metadata": {},
   "source": [
    "Obtenemos la integral donde el rango de integración va de 0 a 5:"
   ]
  },
  {
   "cell_type": "code",
   "execution_count": 59,
   "metadata": {},
   "outputs": [
    {
     "name": "stdout",
     "output_type": "stream",
     "text": [
      "La integral de f(x) es:  0.1021341884080086\n",
      "La precisión de la integral es:  1.1398421098651745e-07\n"
     ]
    }
   ],
   "source": [
    "# Tenemos la malla 1: (aparece como 2 pero es que no le pude cambiar la enumeración, si me pueden pasar el tipo estaría chido)\n",
    "x=linspace(0,5,1000)  # linspace(inicio,final,numero de puntos)\n",
    "f=exp(-(x*x))*sin(10*x) #f(x)\n",
    "print('La integral de f(x) es: ', int_1(f,x))\n",
    "#Obtenemos el error asociado a la integral, segun la integral de wolfram\n",
    "# Después de hacer la integral en wolfram tenemos:\n",
    "m=0.1021340744237976138708054220876899\n",
    "print(\"La precisión de la integral es: \", abs(m-int_1(f,x))) #valor absoluto de la resta para sacar la precisión "
   ]
  },
  {
   "cell_type": "markdown",
   "metadata": {},
   "source": [
    "Pues si saca la integral hasta una precisión de $10^{-4}$"
   ]
  },
  {
   "cell_type": "markdown",
   "metadata": {},
   "source": [
    "***Para $\\int_{-5}^{5}f^{2}(x)dx$:***"
   ]
  },
  {
   "cell_type": "code",
   "execution_count": 54,
   "metadata": {},
   "outputs": [],
   "source": [
    "#Podemos copiar y pegar hasta donde empieza \"for\" porque tenemos lo primero que vemos si es par o no es prácticamente lo mismo xD\n",
    "def int_2(f,x):\n",
    "    #Espacio entre dos puntos en la malla\n",
    "    h = x[2] - x[1]\n",
    "    #Valor inicial desde el que se empezara a sumar los valores de la integral\n",
    "    integral = 0 \n",
    "     #Recordando las notas de pizzarrón \"Integrales numéricas\" tenemos que ocupar casos por si las N son par o nel: (N que ocupa las notas no es la misma)\n",
    "    # Si la malla sobre la que se va a integrar es par debe iniciar en el tercer elemento\n",
    "    if mod(len(f),2) == 0: \n",
    "        inicio = 2\n",
    "     #Si el número de puntos en la malla es impar debe iniciar en el segundo elemento\n",
    "    elif mod(len(f),2) == 1: # Esta instruccion es opcional si se tienen varias decisiones \"Mi segundo Notebook Python 2 II\"\n",
    "        inicio = 1\n",
    "   #Pedimos  sume las particiones y que vaya de dos en dos.\n",
    "    for i in range(inicio,len(f)-1,2):\n",
    "        integral += f[i+1]*f[i+1] + 4*f[i]*f[i] + f[i-1]*f[i-1] #*f[n] =*f[n]*f[n] porque es f^{2}\n",
    "    integral = integral*(h/3)\n",
    "   #En la frontera tenemos a la integral como: \n",
    "   # punto inicial si se tiene un arreglo par \"Notebook 7\"\n",
    "    if mod(len(f),2) == 0: \n",
    "        integral += (h/48)*(23*f[0]*f[0] + 26*f[1]*f[1] - 4*f[2]*f[2] + 6*f[3]*f[3] -3*f[4]*f[4])#tal como está en \"Notebook 7\" pero para este caso *y[n] =*f[n]*f[n] porque es f^{2} \n",
    "    return integral\n"
   ]
  },
  {
   "cell_type": "markdown",
   "metadata": {},
   "source": [
    "Obtenemos la integral donde el rango de integración va de -5 a 5:"
   ]
  },
  {
   "cell_type": "code",
   "execution_count": 51,
   "metadata": {},
   "outputs": [
    {
     "name": "stdout",
     "output_type": "stream",
     "text": [
      "La integral de $f^{2}(x)$ es:  0.6266570686577514\n",
      "La precisión de la integral es:  1.2212453270876722e-15\n"
     ]
    }
   ],
   "source": [
    "# Tenemos la malla 2: (aparece como 3 pero es que no le pude cambiar la enumeración, si me pueden pasar el tipo estaría chido)\n",
    "x=linspace(-5,5,100)  # linspace(inicio,final,numero de puntos)\n",
    "f=exp(-(x*x))*sin(10*x) #f(x)\n",
    "print('La integral de $f^{2}(x)$ es: ', int_2(f,x))\n",
    "#Obtenemos el error asociado a la integral, segun la integral de wolfram\n",
    "# Después de hacer la integral en wolfram tenemos:\n",
    "m=0.6266570686577501256038175123698260447534631408887006665615074330\n",
    "print(\"La precisión de la integral es: \", abs(m-int_2(f,x))) #valor absoluto de la resta para sacar la precisión "
   ]
  },
  {
   "cell_type": "markdown",
   "metadata": {},
   "source": [
    "Pues si saca la integral hasta una precisión de  10−4"
   ]
  },
  {
   "cell_type": "markdown",
   "metadata": {},
   "source": [
    "***Para $\\int_{0.5}^{5}g(x)dx$:***"
   ]
  },
  {
   "cell_type": "code",
   "execution_count": 56,
   "metadata": {},
   "outputs": [],
   "source": [
    "#Se define la integral: \n",
    "def int_3(g,x):\n",
    "    #Espacio entre dos puntos en la malla\n",
    "    h = x[2] - x[1]\n",
    "    #Valor inicial desde el que se empezara a sumar los valores de la integral\n",
    "    integral = 0 \n",
    "     #Recordando las notas de pizzarrón \"Integrales numéricas\" tenemos que ocupar casos por si las N son par o nel : (N que ocupa las notas no es la misma\n",
    "    # Si la malla sobre la que se va a integrar es par debe iniciar en el tercer elemento\n",
    "    if mod(len(g),2) == 0:\n",
    "        inicio = 2 \n",
    "    #Si el número de puntos en la malla es impar debe iniciar en el segundo elemento\n",
    "    elif mod(len(g),2) == 1: # Esta instruccion es opcional si se tienen varias decisiones \"Mi segundo Notebook Python 2 II\"\n",
    "        inicio = 1\n",
    "    #Pedimos  sume las particiones y que vaya de dos en dos.\n",
    "    for i in range(inicio,len(g)-1,2):\n",
    "        integral += g[i+1] + 4*g[i] + g[i-1]\n",
    "    integral = integral*(h/3)\n",
    "    #En la frontera tenemos a la integral como: \n",
    "     # punto inicial si se tiene un arreglo par \"Notebook 7\"\n",
    "    if mod(len(g),2) == 0:\n",
    "        integral += (h/48)*(23*g[0] + 26*g[1] - 4*g[2] + 6*g[3] -3*g[4]) #tal como está en \"Notebook 7\" jiji \n",
    "    return integral"
   ]
  },
  {
   "cell_type": "markdown",
   "metadata": {},
   "source": [
    "Obtenemos la integral donde el rango de integración va de 0.5 a 5:"
   ]
  },
  {
   "cell_type": "code",
   "execution_count": 49,
   "metadata": {},
   "outputs": [
    {
     "name": "stdout",
     "output_type": "stream",
     "text": [
      "La integral de g(x) es:  173.38205285872016\n",
      "La precisión de la integral es:  5.285872015292625e-05\n"
     ]
    }
   ],
   "source": [
    "# Tenemos la malla 3: (aparece como 4 pero es que no le pude cambiar la enumeración, si me pueden pasar el tipo estaría chido)\n",
    "x=linspace(0.5,5,1111)  # linspace(inicio,final,numero de puntos)\n",
    "g=-(2/x**6)+(1/x**12) #g(x)\n",
    "print('La integral de g(x) es: ', int_3(g,x))\n",
    "#Obtenemos el error asociado a la integral, segun la integral de wolfram\n",
    "# Después de hacer la integral en wolfram tenemos:\n",
    "m=173.382\n",
    "print(\"La precisión de la integral es: \", abs(m-int_3(g,x))) #valor absoluto de la resta para sacar la precisión "
   ]
  },
  {
   "cell_type": "markdown",
   "metadata": {},
   "source": [
    "Pues si saca la integral hasta una precisión de  10−4"
   ]
  },
  {
   "cell_type": "markdown",
   "metadata": {},
   "source": [
    "2. Haga una función que implemente la integral numérica utilizando la regla de \"Simpson $\\frac{3}{8}$\" dada por la relación: $\\int_{x_i}^{x_i+3}f(x)=\\frac{3h}{8}\\left(f(x_i)+3f(x_{i+1})+3f(x_{i+2})+f(x_{i+3})\\right)+\\mathcal{O}(h^{5})$ donde se desprecian los términos $\\mathcal{O}(h^{5})$. Utilice este algoritmo para obtener las integrales del problema anterior con una precisión de $10^{-4}$."
   ]
  },
  {
   "cell_type": "code",
   "execution_count": 64,
   "metadata": {},
   "outputs": [],
   "source": [
    "#Se define la integral: \n",
    "def int_Simpson1(f,x):\n",
    "    #Espacio entre dos puntos en la malla\n",
    "    h = x[2] - x[1]\n",
    "    #Valor inicial desde el que se empezara a sumar los valores de la integral\n",
    "    integral = 0 \n",
    "    #Si la malla menos el primer punto es divisible entre tres (residuo=0) debe iniciar en el primer elemento \"0\"\n",
    "    if mod(len(f)-1,3) == 0:\n",
    "        inicio = 0\n",
    "    #Si la malla menos el primer punto es divisible entre tres (residuo=1) debe iniciar en el segundo elemento \"1\"   \n",
    "    if mod(len(f)-1,3) == 1:\n",
    "        inicio = 1\n",
    "    #Si la malla menos el primer punto es divisible entre tres (residuo=2) debe iniciar en el tercer elemento \"2\"       \n",
    "    elif mod(len(f)-1,3) == 2:\n",
    "        inicio = 2\n",
    "    #Pedimos sume las particiones y que vaya de tres en tres.\n",
    "    for i in range(inicio,len(f)-4 ,3):\n",
    "        integral += f[i]+3*f[i+1]+3*f[i+2]+f[i+3]\n",
    "    integral = integral*(3*h/8)\n",
    "    \n",
    "    # Si sobran tres puntos usamos el algoritmo usado en el Ejercicio 1\n",
    "    if mod(len(f)-1,3) == 2:\n",
    "        integral += (f[0] + 4*f[1] + f[2])*(h/3)\n",
    "        \n",
    "    #Si tenemos dos puntos en la frontera se sume el valor siguiente a la integral.\n",
    "    if mod(len(f)-1,3) == 1:\n",
    "        integral += (h/48)*(23*f[0]+ 26*f[1] - 4*f[2] + 6*f[3] -3*f[4])\n",
    "    return integral"
   ]
  },
  {
   "cell_type": "markdown",
   "metadata": {},
   "source": [
    "Utilice este algoritmo para obtener lasa integrales del problema anterior con una precisión de  10−4"
   ]
  },
  {
   "cell_type": "markdown",
   "metadata": {},
   "source": [
    "***Para $\\int_0^{5}f(x)dx$:***\n",
    "\n",
    "Obtenemos la integral donde el rango de integración va de 0 a 5:"
   ]
  },
  {
   "cell_type": "code",
   "execution_count": 65,
   "metadata": {},
   "outputs": [
    {
     "name": "stdout",
     "output_type": "stream",
     "text": [
      "La integral de f(x) es:  0.10213408274397695\n",
      "La precisión de la integral es:  8.320179337162337e-09\n"
     ]
    }
   ],
   "source": [
    "#Copiando lo que se hizo en el primer ejercicio pero usando \"int_Simpson1\"\n",
    "# Tenemos la malla 1: (aparece como 2 pero es que no le pude cambiar la enumeración, si me pueden pasar el tipo estaría chido)\n",
    "x=linspace(0,5,1000)  # linspace(inicio,final,numero de puntos)\n",
    "f=exp(-(x*x))*sin(10*x) #f(x)\n",
    "print('La integral de f(x) es: ', int_Simpson1(f,x))\n",
    "#Obtenemos el error asociado a la integral, segun la integral de wolfram\n",
    "# Después de hacer la integral en wolfram tenemos:\n",
    "m=0.1021340744237976138708054220876899\n",
    "print(\"La precisión de la integral es: \", abs(m-int_Simpson1(f,x))) #valor absoluto de la resta para sacar la precisión "
   ]
  },
  {
   "cell_type": "markdown",
   "metadata": {},
   "source": [
    "Pues si saca la integral hasta una precisión de  10−4"
   ]
  },
  {
   "cell_type": "markdown",
   "metadata": {},
   "source": [
    "***Para $\\int_{0.5}^{5}g(x)dx$:***\n",
    "\n",
    "Obtenemos la integral donde el rango de integración va de 0.5 a 5:"
   ]
  },
  {
   "cell_type": "code",
   "execution_count": 66,
   "metadata": {},
   "outputs": [
    {
     "name": "stdout",
     "output_type": "stream",
     "text": [
      "La integral de g(x) es:  173.3821873254121\n",
      "La precisión de la integral es:  0.0001873254120994261\n"
     ]
    }
   ],
   "source": [
    "#Copiando lo que se hizo en el primer ejercicio pero usando \"int_Simpson1 y g=f\"\n",
    "# Tenemos la malla 3: (aparece como 4 pero es que no le pude cambiar la enumeración, si me pueden pasar el tipo estaría chido)\n",
    "x=linspace(0.5,5,1111)  # linspace(inicio,final,numero de puntos)\n",
    "f=-(2/x**6)+(1/x**12) #g(x)\n",
    "print('La integral de g(x) es: ', int_Simpson1(f,x))\n",
    "#Obtenemos el error asociado a la integral, segun la integral de wolfram\n",
    "# Después de hacer la integral en wolfram tenemos:\n",
    "m=173.382\n",
    "print(\"La precisión de la integral es: \", abs(m-int_Simpson1(f,x))) #valor absoluto de la resta para sacar la precisión "
   ]
  },
  {
   "cell_type": "markdown",
   "metadata": {},
   "source": [
    "Pues si saca la integral hasta una precisión de  10−4"
   ]
  },
  {
   "cell_type": "markdown",
   "metadata": {},
   "source": [
    "***Para $\\int_{-5}^{5}f^{2}(x)dx$:***"
   ]
  },
  {
   "cell_type": "markdown",
   "metadata": {},
   "source": [
    "Vemos que para $\\int_0^{5}f(x)dx$ y $\\int_0^{5}f(x)dx$ se puede usar la función  \"int_Simpson\" pero para $\\int_{-5}^{5}f^{2}(x)dx$ no se puede ya que está elevada al cuadraddo pero podemos hacer lo mismo que se hizo en el Ejercicio 1 que es definir otro algoritmo copiando y pegando pero ahora usando $*f[n] =*f[n]*f[n]$ porque es $f^{2}$"
   ]
  },
  {
   "cell_type": "code",
   "execution_count": 71,
   "metadata": {},
   "outputs": [],
   "source": [
    "#Podemos copiar y pegar hasta donde empieza \"for\" porque tenemos lo primero que vemos si es par o no es prácticamente lo mismo xD\n",
    "#Se define la integral: \n",
    "def int_Simpson2(f,x):\n",
    "    #Espacio entre dos puntos en la malla\n",
    "    h = x[2] - x[1]\n",
    "    #Valor inicial desde el que se empezara a sumar los valores de la integral\n",
    "    integral = 0 \n",
    "    #Si la malla menos el primer punto es divisible entre tres (residuo=0) debe iniciar en el primer elemento \"0\"\n",
    "    if mod(len(f)-1,3) == 0:\n",
    "        inicio = 0\n",
    "    #Si la malla menos el primer punto es divisible entre tres (residuo=1) debe iniciar en el segundo elemento \"1\"   \n",
    "    if mod(len(f)-1,3) == 1:\n",
    "        inicio = 1\n",
    "    #Si la malla menos el primer punto es divisible entre tres (residuo=2) debe iniciar en el tercer elemento \"2\"       \n",
    "    elif mod(len(f)-1,3) == 2:\n",
    "        inicio = 2\n",
    "    #Pedimos sume las particiones y que vaya de tres en tres.\n",
    "    for i in range(inicio,len(f)-4 ,3):\n",
    "        integral += f[i]*f[i]+3*f[i+1]*f[i+1]+3*f[i+2]*f[i+2]+f[i+3]*f[i+3]   #*f[n] =*f[n]*f[n] porque es f^{2}\n",
    "    integral = integral*(3*h/8)\n",
    "    \n",
    "    # Si sobran tres puntos usamos el algoritmo usado en el Ejercicio 1\n",
    "    if mod(len(f)-1,3) == 2:\n",
    "        integral += (f[0]*f[0] + 4*f[1]*f[1] + f[2]*f[2])*(h/3)\n",
    "        \n",
    "    #Si tenemos dos puntos en la frontera se sume el valor siguiente a la integral.\n",
    "    if mod(len(f)-1,3) == 1:\n",
    "        integral += (h/48)*(23*f[0]*f[0]+ 26*f[1]*f[1] - 4*f[2]*f[2] + 6*f[3]*f[3] -3*f[4]*f[4])\n",
    "    return integral"
   ]
  },
  {
   "cell_type": "markdown",
   "metadata": {},
   "source": [
    "Obtenemos la integral donde el rango de integración va de -5 a 5:"
   ]
  },
  {
   "cell_type": "code",
   "execution_count": 73,
   "metadata": {},
   "outputs": [
    {
     "name": "stdout",
     "output_type": "stream",
     "text": [
      "La integral de $f^{2}(x)$ es:  0.6266570686577498\n",
      "La precisión de la integral es:  3.3306690738754696e-16\n"
     ]
    }
   ],
   "source": [
    "#Copiando lo que se hizo en el primer ejercicio pero usando \"int_Simpson2\"\n",
    "# Tenemos la malla 2: (aparece como 3 pero es que no le pude cambiar la enumeración, si me pueden pasar el tipo estaría chido)\n",
    "x=linspace(-5,5,1000)  # linspace(inicio,final,numero de puntos)\n",
    "f=exp(-(x*x))*sin(10*x) #f(x)\n",
    "print('La integral de $f^{2}(x)$ es: ', int_Simpson2(f,x))\n",
    "#Obtenemos el error asociado a la integral, segun la integral de wolfram\n",
    "# Después de hacer la integral en wolfram tenemos:\n",
    "m=0.6266570686577501256038175123698260447534631408887006665615074330\n",
    "print(\"La precisión de la integral es: \", abs(m-int_Simpson2(f,x))) #valor absoluto de la resta para sacar la precisión "
   ]
  },
  {
   "cell_type": "markdown",
   "metadata": {},
   "source": [
    "Pues si saca la integral hasta una precisión de  10−4"
   ]
  },
  {
   "cell_type": "markdown",
   "metadata": {},
   "source": [
    "3. Haga una función que implemente la integral númerica utilizando la regla de ''Boole'' dada por la relación\n",
    "$$\\int_{x_i}^{x_{i+4}}f(x)={\\frac{2h}{48}}(7f(x_i)+32f(x_{i+1})+12f(x_{i+2})+32f(x_{i+3})+7f(x_{i+4}))+\\mathcal{O}(h^{7}) $$\n",
    "donde se desprecian los términos $\\mathcal{O}(h^{7})$. Utilice este algoritmo para obtener las integrales del problema anterior con una precisión de $10^{-4}$."
   ]
  },
  {
   "cell_type": "markdown",
   "metadata": {},
   "source": [
    "4. Utilizando la integral del problema 1(a), realice una tabla en la que se muestre la convergencia de los 3 algoritmos anteriores comenzando con h = 0.25 hasta h = 00001. La tabla debe tener por lo menos 30 diferentes h's. Obtenga el número de puntos en la malla para cada h y haga una gráfica en la que se muestre la convergencia de los 3 algoritmos, *Número de puntos vs valor de la integral*. "
   ]
  },
  {
   "cell_type": "code",
   "execution_count": null,
   "metadata": {},
   "outputs": [],
   "source": []
  }
 ],
 "metadata": {
  "kernelspec": {
   "display_name": "Python 3",
   "language": "python",
   "name": "python3"
  },
  "language_info": {
   "codemirror_mode": {
    "name": "ipython",
    "version": 3
   },
   "file_extension": ".py",
   "mimetype": "text/x-python",
   "name": "python",
   "nbconvert_exporter": "python",
   "pygments_lexer": "ipython3",
   "version": "3.8.3"
  }
 },
 "nbformat": 4,
 "nbformat_minor": 4
}
