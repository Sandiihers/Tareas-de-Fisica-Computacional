{
 "cells": [
  {
   "cell_type": "markdown",
   "metadata": {},
   "source": [
    "# Primer notebook \n",
    "### Sandra Hernández Ramos\n",
    "$Sandii\\hbar ers^{\\heartsuit}$\n"
   ]
  },
  {
   "cell_type": "markdown",
   "metadata": {},
   "source": [
    "#### Ejercicio 1"
   ]
  },
  {
   "cell_type": "code",
   "execution_count": 1,
   "metadata": {
    "scrolled": true
   },
   "outputs": [
    {
     "name": "stdout",
     "output_type": "stream",
     "text": [
      "Sandra Hernández Ramos\n"
     ]
    }
   ],
   "source": [
    "println(\"Sandra Hernández Ramos\")"
   ]
  },
  {
   "cell_type": "markdown",
   "metadata": {},
   "source": [
    "#### Ejercicio 2"
   ]
  },
  {
   "cell_type": "markdown",
   "metadata": {},
   "source": [
    "![kungfupanda1](http://localhost:8890/files/tareasfc/kungfupanda1.png)\n",
    "\n",
    ">Para preparar algo especial, solo hay que creer que es especial **-Sr. Ping**\n",
    "\n",
    "![kungfupanda2](http://localhost:8890/files/tareasfc/kungfupanda2.png)\n",
    "\n",
    "![kungfupanda3](http://localhost:8890/files/tareasfc/kungfupanda3.png)\n",
    "\n",
    "![kungfupanda4](http://localhost:8890/files/tareasfc/kungfupanda4.png)\n",
    ">No hay ningun ingrediente secreto **-Po**\n",
    "\n",
    "[Po comprende el mensaje del rollo del dragón](https://youtu.be/f_TD_jUDXeM)\n",
    "\n",
    "\n",
    "\n"
   ]
  }
 ],
 "metadata": {
  "kernelspec": {
   "display_name": "Julia 1.0.5",
   "language": "julia",
   "name": "julia-1.0"
  },
  "language_info": {
   "file_extension": ".jl",
   "mimetype": "application/julia",
   "name": "julia",
   "version": "1.0.5"
  }
 },
 "nbformat": 4,
 "nbformat_minor": 4
}
