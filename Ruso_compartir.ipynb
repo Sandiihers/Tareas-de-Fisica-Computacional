{
  "nbformat": 4,
  "nbformat_minor": 0,
  "metadata": {
    "colab": {
      "name": "Ruso_compartir.ipynb",
      "provenance": [],
      "collapsed_sections": [],
      "authorship_tag": "ABX9TyOtGDEsxb2yXBAUhsH4uJfz",
      "include_colab_link": true
    },
    "kernelspec": {
      "name": "python3",
      "display_name": "Python 3"
    },
    "language_info": {
      "name": "python"
    }
  },
  "cells": [
    {
      "cell_type": "markdown",
      "metadata": {
        "id": "view-in-github",
        "colab_type": "text"
      },
      "source": [
        "<a href=\"https://colab.research.google.com/github/Sandiihers/Tareas-de-Fisica-Computacional/blob/main/Ruso_compartir.ipynb\" target=\"_parent\"><img src=\"https://colab.research.google.com/assets/colab-badge.svg\" alt=\"Open In Colab\"/></a>"
      ]
    },
    {
      "cell_type": "markdown",
      "metadata": {
        "id": "HWUlcQ_QPv82"
      },
      "source": [
        "# Verbos de Ruso "
      ]
    },
    {
      "cell_type": "code",
      "metadata": {
        "id": "iPbvY56LPukC"
      },
      "source": [
        "import pandas as pd"
      ],
      "execution_count": 8,
      "outputs": []
    },
    {
      "cell_type": "code",
      "metadata": {
        "colab": {
          "base_uri": "https://localhost:8080/"
        },
        "id": "42oRUg0xP4Da",
        "outputId": "a0fdca8d-c023-4055-fa6c-da7f1b53be43"
      },
      "source": [
        "from google.colab import drive\n",
        "drive.mount('/content/drive')"
      ],
      "execution_count": 9,
      "outputs": [
        {
          "output_type": "stream",
          "name": "stdout",
          "text": [
            "Drive already mounted at /content/drive; to attempt to forcibly remount, call drive.mount(\"/content/drive\", force_remount=True).\n"
          ]
        }
      ]
    },
    {
      "cell_type": "code",
      "metadata": {
        "id": "Y9PMS6mKQICy"
      },
      "source": [
        "df=pd.read_csv('/content/drive/MyDrive/Ruso/Ruso verbos.csv')"
      ],
      "execution_count": 10,
      "outputs": []
    },
    {
      "cell_type": "code",
      "metadata": {
        "id": "yMN1dx_asvhT"
      },
      "source": [
        "#quitar espacios en blanco de las columnas\n",
        "df.columns = df.columns.str.strip()\n",
        "df['Infinitivo'] = df['Infinitivo'].str.strip()\n",
        "df['Español'] = df['Español'].str.strip()\n",
        "#https://raullg.com/blog/pandas-eliminar-espacios-nombres-de-columnas-en-python/"
      ],
      "execution_count": 61,
      "outputs": []
    },
    {
      "cell_type": "code",
      "metadata": {
        "colab": {
          "base_uri": "https://localhost:8080/",
          "height": 288
        },
        "id": "gPS99wIxtj9g",
        "outputId": "b32f9a59-361b-4cbb-cc17-aa6fababc6ed"
      },
      "source": [
        "#Escoger indices\n",
        "df.set_index(\"Número\",inplace=True)"
      ],
      "execution_count": 25,
      "outputs": [
        {
          "output_type": "error",
          "ename": "KeyError",
          "evalue": "ignored",
          "traceback": [
            "\u001b[0;31m---------------------------------------------------------------------------\u001b[0m",
            "\u001b[0;31mKeyError\u001b[0m                                  Traceback (most recent call last)",
            "\u001b[0;32m<ipython-input-25-c747f30ddb90>\u001b[0m in \u001b[0;36m<module>\u001b[0;34m()\u001b[0m\n\u001b[1;32m      1\u001b[0m \u001b[0;31m#Escoger indices\u001b[0m\u001b[0;34m\u001b[0m\u001b[0;34m\u001b[0m\u001b[0;34m\u001b[0m\u001b[0m\n\u001b[0;32m----> 2\u001b[0;31m \u001b[0mdf\u001b[0m\u001b[0;34m.\u001b[0m\u001b[0mset_index\u001b[0m\u001b[0;34m(\u001b[0m\u001b[0;34m\"Número\"\u001b[0m\u001b[0;34m,\u001b[0m\u001b[0minplace\u001b[0m\u001b[0;34m=\u001b[0m\u001b[0;32mTrue\u001b[0m\u001b[0;34m)\u001b[0m\u001b[0;34m\u001b[0m\u001b[0;34m\u001b[0m\u001b[0m\n\u001b[0m",
            "\u001b[0;32m/usr/local/lib/python3.7/dist-packages/pandas/core/frame.py\u001b[0m in \u001b[0;36mset_index\u001b[0;34m(self, keys, drop, append, inplace, verify_integrity)\u001b[0m\n\u001b[1;32m   4553\u001b[0m \u001b[0;34m\u001b[0m\u001b[0m\n\u001b[1;32m   4554\u001b[0m         \u001b[0;32mif\u001b[0m \u001b[0mmissing\u001b[0m\u001b[0;34m:\u001b[0m\u001b[0;34m\u001b[0m\u001b[0;34m\u001b[0m\u001b[0m\n\u001b[0;32m-> 4555\u001b[0;31m             \u001b[0;32mraise\u001b[0m \u001b[0mKeyError\u001b[0m\u001b[0;34m(\u001b[0m\u001b[0;34mf\"None of {missing} are in the columns\"\u001b[0m\u001b[0;34m)\u001b[0m\u001b[0;34m\u001b[0m\u001b[0;34m\u001b[0m\u001b[0m\n\u001b[0m\u001b[1;32m   4556\u001b[0m \u001b[0;34m\u001b[0m\u001b[0m\n\u001b[1;32m   4557\u001b[0m         \u001b[0;32mif\u001b[0m \u001b[0minplace\u001b[0m\u001b[0;34m:\u001b[0m\u001b[0;34m\u001b[0m\u001b[0;34m\u001b[0m\u001b[0m\n",
            "\u001b[0;31mKeyError\u001b[0m: \"None of ['Número'] are in the columns\""
          ]
        }
      ]
    },
    {
      "cell_type": "code",
      "metadata": {
        "colab": {
          "base_uri": "https://localhost:8080/",
          "height": 1000
        },
        "id": "N06UakplRAyG",
        "outputId": "2f02db3e-9d1c-4d9e-9276-860c99049212"
      },
      "source": [
        "#que solo nos muestre estas columnas\n",
        "df.loc[:, ['Infinitivo', 'Español']]"
      ],
      "execution_count": 26,
      "outputs": [
        {
          "output_type": "execute_result",
          "data": {
            "text/html": [
              "<div>\n",
              "<style scoped>\n",
              "    .dataframe tbody tr th:only-of-type {\n",
              "        vertical-align: middle;\n",
              "    }\n",
              "\n",
              "    .dataframe tbody tr th {\n",
              "        vertical-align: top;\n",
              "    }\n",
              "\n",
              "    .dataframe thead th {\n",
              "        text-align: right;\n",
              "    }\n",
              "</style>\n",
              "<table border=\"1\" class=\"dataframe\">\n",
              "  <thead>\n",
              "    <tr style=\"text-align: right;\">\n",
              "      <th></th>\n",
              "      <th>Infinitivo</th>\n",
              "      <th>Español</th>\n",
              "    </tr>\n",
              "    <tr>\n",
              "      <th>Número</th>\n",
              "      <th></th>\n",
              "      <th></th>\n",
              "    </tr>\n",
              "  </thead>\n",
              "  <tbody>\n",
              "    <tr>\n",
              "      <th>1</th>\n",
              "      <td>делать</td>\n",
              "      <td>hacer</td>\n",
              "    </tr>\n",
              "    <tr>\n",
              "      <th>2</th>\n",
              "      <td>рассказывать</td>\n",
              "      <td>narrar, cantar</td>\n",
              "    </tr>\n",
              "    <tr>\n",
              "      <th>3</th>\n",
              "      <td>работать</td>\n",
              "      <td>trabajar</td>\n",
              "    </tr>\n",
              "    <tr>\n",
              "      <th>4</th>\n",
              "      <td>говорить</td>\n",
              "      <td>hablar, decir</td>\n",
              "    </tr>\n",
              "    <tr>\n",
              "      <th>5</th>\n",
              "      <td>показывать</td>\n",
              "      <td>mostrar, enseñar</td>\n",
              "    </tr>\n",
              "    <tr>\n",
              "      <th>6</th>\n",
              "      <td>покупать</td>\n",
              "      <td>comprar</td>\n",
              "    </tr>\n",
              "    <tr>\n",
              "      <th>7</th>\n",
              "      <td>гулять</td>\n",
              "      <td>pasear</td>\n",
              "    </tr>\n",
              "    <tr>\n",
              "      <th>8</th>\n",
              "      <td>строить</td>\n",
              "      <td>construir</td>\n",
              "    </tr>\n",
              "    <tr>\n",
              "      <th>9</th>\n",
              "      <td>читать</td>\n",
              "      <td>leer</td>\n",
              "    </tr>\n",
              "    <tr>\n",
              "      <th>10</th>\n",
              "      <td>слушать</td>\n",
              "      <td>escuchar</td>\n",
              "    </tr>\n",
              "    <tr>\n",
              "      <th>11</th>\n",
              "      <td>объяснять</td>\n",
              "      <td>explicar</td>\n",
              "    </tr>\n",
              "    <tr>\n",
              "      <th>12</th>\n",
              "      <td>курить</td>\n",
              "      <td>fumar</td>\n",
              "    </tr>\n",
              "    <tr>\n",
              "      <th>13</th>\n",
              "      <td>смотреть</td>\n",
              "      <td>mirar</td>\n",
              "    </tr>\n",
              "    <tr>\n",
              "      <th>14</th>\n",
              "      <td>отдыхать</td>\n",
              "      <td>descansar</td>\n",
              "    </tr>\n",
              "    <tr>\n",
              "      <th>15</th>\n",
              "      <td>думать</td>\n",
              "      <td>pensar, creer</td>\n",
              "    </tr>\n",
              "    <tr>\n",
              "      <th>16</th>\n",
              "      <td>знать</td>\n",
              "      <td>saber, conocer</td>\n",
              "    </tr>\n",
              "    <tr>\n",
              "      <th>17</th>\n",
              "      <td>играть</td>\n",
              "      <td>jugar</td>\n",
              "    </tr>\n",
              "    <tr>\n",
              "      <th>18</th>\n",
              "      <td>понимать</td>\n",
              "      <td>entender, comprender</td>\n",
              "    </tr>\n",
              "    <tr>\n",
              "      <th>19</th>\n",
              "      <td>писать</td>\n",
              "      <td>escribir</td>\n",
              "    </tr>\n",
              "    <tr>\n",
              "      <th>20</th>\n",
              "      <td>рисовать</td>\n",
              "      <td>dibujar</td>\n",
              "    </tr>\n",
              "    <tr>\n",
              "      <th>21</th>\n",
              "      <td>танцевать</td>\n",
              "      <td>bailar</td>\n",
              "    </tr>\n",
              "    <tr>\n",
              "      <th>22</th>\n",
              "      <td>любить</td>\n",
              "      <td>gustar , amar</td>\n",
              "    </tr>\n",
              "    <tr>\n",
              "      <th>23</th>\n",
              "      <td>готовить</td>\n",
              "      <td>cocinar</td>\n",
              "    </tr>\n",
              "    <tr>\n",
              "      <th>24</th>\n",
              "      <td>видеть</td>\n",
              "      <td>ver</td>\n",
              "    </tr>\n",
              "    <tr>\n",
              "      <th>25</th>\n",
              "      <td>фотографировать</td>\n",
              "      <td>sacar fotos</td>\n",
              "    </tr>\n",
              "    <tr>\n",
              "      <th>26</th>\n",
              "      <td>советовать</td>\n",
              "      <td>aconsejar</td>\n",
              "    </tr>\n",
              "    <tr>\n",
              "      <th>27</th>\n",
              "      <td>целовать</td>\n",
              "      <td>besar</td>\n",
              "    </tr>\n",
              "    <tr>\n",
              "      <th>28</th>\n",
              "      <td>искать</td>\n",
              "      <td>buscar</td>\n",
              "    </tr>\n",
              "    <tr>\n",
              "      <th>29</th>\n",
              "      <td>спать</td>\n",
              "      <td>dormir</td>\n",
              "    </tr>\n",
              "    <tr>\n",
              "      <th>30</th>\n",
              "      <td>хотеть</td>\n",
              "      <td>querer, desear</td>\n",
              "    </tr>\n",
              "    <tr>\n",
              "      <th>31</th>\n",
              "      <td>заниматься</td>\n",
              "      <td>repasar</td>\n",
              "    </tr>\n",
              "    <tr>\n",
              "      <th>32</th>\n",
              "      <td>учиться</td>\n",
              "      <td>estudiar</td>\n",
              "    </tr>\n",
              "    <tr>\n",
              "      <th>33</th>\n",
              "      <td>купаться</td>\n",
              "      <td>bañarse, meterse al agua</td>\n",
              "    </tr>\n",
              "    <tr>\n",
              "      <th>34</th>\n",
              "      <td>целоваться</td>\n",
              "      <td>besarse</td>\n",
              "    </tr>\n",
              "    <tr>\n",
              "      <th>35</th>\n",
              "      <td>кататься (на велосипеде)</td>\n",
              "      <td>andar en bicicleta</td>\n",
              "    </tr>\n",
              "    <tr>\n",
              "      <th>36</th>\n",
              "      <td>встречаться</td>\n",
              "      <td>quedar de verse</td>\n",
              "    </tr>\n",
              "  </tbody>\n",
              "</table>\n",
              "</div>"
            ],
            "text/plain": [
              "                       Infinitivo                   Español\n",
              "Número                                                     \n",
              "1                         делать                      hacer\n",
              "2                   рассказывать             narrar, cantar\n",
              "3                       работать                   trabajar\n",
              "4                       говорить              hablar, decir\n",
              "5                     показывать           mostrar, enseñar\n",
              "6                       покупать                    comprar\n",
              "7                         гулять                     pasear\n",
              "8                        строить                  construir\n",
              "9                         читать                       leer\n",
              "10                       слушать                   escuchar\n",
              "11                     объяснять                   explicar\n",
              "12                        курить                      fumar\n",
              "13                      смотреть                      mirar\n",
              "14                      отдыхать                  descansar\n",
              "15                        думать              pensar, creer\n",
              "16                         знать             saber, conocer\n",
              "17                        играть                      jugar\n",
              "18                      понимать       entender, comprender\n",
              "19                        писать                   escribir\n",
              "20                      рисовать                    dibujar\n",
              "21                     танцевать                     bailar\n",
              "22                        любить              gustar , amar\n",
              "23                      готовить                    cocinar\n",
              "24                        видеть                        ver\n",
              "25               фотографировать                sacar fotos\n",
              "26                    советовать                  aconsejar\n",
              "27                      целовать                      besar\n",
              "28                        искать                     buscar\n",
              "29                         спать                     dormir\n",
              "30                        хотеть             querer, desear\n",
              "31                    заниматься                    repasar\n",
              "32                       учиться                   estudiar\n",
              "33                      купаться   bañarse, meterse al agua\n",
              "34                    целоваться                    besarse\n",
              "35      кататься (на велосипеде)         andar en bicicleta\n",
              "36                   встречаться            quedar de verse"
            ]
          },
          "metadata": {},
          "execution_count": 26
        }
      ]
    },
    {
      "cell_type": "code",
      "metadata": {
        "id": "gRBA7Ct1Xmf8"
      },
      "source": [
        "#Función para buscar palabras\n",
        "def buscar_por_espaniol(x):\n",
        "  str(x)\n",
        "  print(df.loc[df['Español'].str.contains(x)])\n",
        "def buscar_por_ruso(x):\n",
        "  str(x)\n",
        "  print(df.loc[df['Infinitivo'].str.contains(x)])"
      ],
      "execution_count": 27,
      "outputs": []
    },
    {
      "cell_type": "code",
      "metadata": {
        "colab": {
          "base_uri": "https://localhost:8080/"
        },
        "id": "nEYSqbFUbAlD",
        "outputId": "f66b88d2-de9b-4858-ae11-98aa6ebbe47f"
      },
      "source": [
        "buscar_por_espaniol('mirar')"
      ],
      "execution_count": 56,
      "outputs": [
        {
          "output_type": "stream",
          "name": "stdout",
          "text": [
            "       Infinitivo Español    я   ты  он  она  мы  вы  они\n",
            "Número                                                   \n",
            "13      смотреть    mirar  NaN  NaN NaN  NaN NaN NaN  NaN\n"
          ]
        }
      ]
    },
    {
      "cell_type": "code",
      "metadata": {
        "colab": {
          "base_uri": "https://localhost:8080/"
        },
        "id": "SHm7iT_VbPXA",
        "outputId": "24d490e4-84f0-4422-a162-171041bfd4b3"
      },
      "source": [
        "buscar_por_ruso('целоваться')"
      ],
      "execution_count": 29,
      "outputs": [
        {
          "output_type": "stream",
          "name": "stdout",
          "text": [
            "         Infinitivo  Español    я   ты  он  она  мы  вы  они\n",
            "Número                                                      \n",
            "34      целоваться   besarse  NaN  NaN NaN  NaN NaN NaN  NaN\n"
          ]
        }
      ]
    },
    {
      "cell_type": "code",
      "metadata": {
        "colab": {
          "base_uri": "https://localhost:8080/"
        },
        "id": "YanKI9iRcbVh",
        "outputId": "25333091-51b1-4a67-ac72-f18c090ac864"
      },
      "source": [
        "#Función para que me pregunte los verbos\n",
        "import random \n",
        "aleatorio=random.randint(1,36)\n",
        "print(\"Verbo número: \",aleatorio)\n",
        "#preguntar en español o en ruso\n",
        "idioma=random.randint(0,1)\n",
        "#español=0, ruso=1\n",
        "#pregunta por una palabra en ruso\n",
        "if idioma == 1:\n",
        "  print(\"Cuál es la traducción de la palabra\",df['Infinitivo'][aleatorio])\n",
        "  respuesta = input()\n",
        "  if respuesta == df['Español'][aleatorio]:\n",
        "    print(\"Correcto\")\n",
        "  else: \n",
        "    print(\"Error, la respuesta correcta es:\",df['Español'][aleatorio])\n",
        "  \n",
        "elif idioma == 0:\n",
        "  print(\"Cuál es la traducción de la palabra\",df['Español'][aleatorio])\n",
        "  respuesta = input()\n",
        "  if respuesta == df['Infinitivo'][aleatorio]:\n",
        "    print(\"Correcto\")\n",
        "  else: \n",
        "    print(\"Error, la respuesta correcta es:\",df['Infinitivo'][aleatorio])\n",
        "  "
      ],
      "execution_count": 86,
      "outputs": [
        {
          "output_type": "stream",
          "name": "stdout",
          "text": [
            "Verbo número:  11\n",
            "Cuál es la traducción de la palabra explicar\n",
            "no se\n",
            "Error, la respuesta correcta es: объяснять\n"
          ]
        }
      ]
    },
    {
      "cell_type": "code",
      "metadata": {
        "id": "LIw4rxgP4lZz"
      },
      "source": [
        ""
      ],
      "execution_count": 76,
      "outputs": []
    }
  ]
}