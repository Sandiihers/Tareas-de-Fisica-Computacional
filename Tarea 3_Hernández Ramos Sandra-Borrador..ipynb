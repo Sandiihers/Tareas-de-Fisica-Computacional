{
 "cells": [
  {
   "cell_type": "markdown",
   "metadata": {},
   "source": [
    "# Tarea 3\n",
    "## Física Computacional\n",
    "### Hernández Ramos Sandra \n",
    "$Sandii\\hbar ers^{\\heartsuit}$ 🦆🌵🌹🥀🌿🍀🌺🌷\n",
    "\n",
    "\n",
    "\n",
    "## Python "
   ]
  },
  {
   "cell_type": "code",
   "execution_count": 2,
   "metadata": {},
   "outputs": [],
   "source": [
    "# Líbrerías \n",
    "from pylab import * # se importa la libreria pylab\n",
    "from scipy.integrate import * # se importa la libreria scipy.integrate\n",
    "import random\n",
    "from numpy import array\n",
    "import math\n",
    "%matplotlib inline\n",
    "# %matplotlib inline despliegue gráfico de la librería matplotlib se haga dentro del mismo notebook "
   ]
  },
  {
   "cell_type": "markdown",
   "metadata": {},
   "source": [
    "Resuelva los siguientes ejercicios, explicando claramente su razonamiento."
   ]
  },
  {
   "cell_type": "markdown",
   "metadata": {},
   "source": [
    "<span style=\"color:blue\">1. En clase vimos el método de Euler mejorado en el que nosotros introducimos el Jacobiano de forma\n",
    "analítica para ser evaluado por el método de integración. Realice una función que implemente el\n",
    "mismo método de integración, pero en lugar de calcular el Jacobiano con una función que lo evalúa\n",
    "analíticamente, ahora sea calculado de manera numérica utilizando la derivación numérica<span>\n"
   ]
  },
  {
   "cell_type": "code",
   "execution_count": 7,
   "metadata": {},
   "outputs": [
    {
     "ename": "IndentationError",
     "evalue": "expected an indented block (<ipython-input-7-c62d749620f5>, line 3)",
     "output_type": "error",
     "traceback": [
      "\u001b[1;36m  File \u001b[1;32m\"<ipython-input-7-c62d749620f5>\"\u001b[1;36m, line \u001b[1;32m3\u001b[0m\n\u001b[1;33m    return [x[1],x[3]+x[1]]\u001b[0m\n\u001b[1;37m    ^\u001b[0m\n\u001b[1;31mIndentationError\u001b[0m\u001b[1;31m:\u001b[0m expected an indented block\n"
     ]
    }
   ],
   "source": [
    "def circ(x):\n",
    "    \n",
    "return [x[1],x[3]+x[1]]"
   ]
  },
  {
   "cell_type": "code",
   "execution_count": null,
   "metadata": {},
   "outputs": [],
   "source": []
  },
  {
   "cell_type": "markdown",
   "metadata": {},
   "source": [
    "<span style=\"color:blue\">2. Utilizando los integradores de Euler mejorado con Jacobiano analítico, Euler mejorado con Jacobiano\n",
    "numérico, Runge-Kutta de $2^{\\circ}$ orden y Runge-Kutta de $4^{\\circ}$ orden, encuentre un paso de integración que\n",
    "proporcione una precisión de $10^{−4}$\n",
    "en la solución para la siguiente ecuación:\n",
    "    \\begin{equation}\n",
    "\\dddot{y}+\\ddot{y}^{2}-3\\dot{y}+\\cos^{2}y=e^{-t}\\sin(3t)\n",
    "    \\end{equation}\n",
    "    \n",
    "<span style=\"color:blue\">Con condiciones iniciales $\\ddot{y}(1) = 1$, $\\dot{y}(1) = 2$, $y(1) = 1$. En particular que sucede en el intervalo $t \\in [1, 2]$ y $t \\in [1, 2.1]$.<span>"
   ]
  },
  {
   "cell_type": "code",
   "execution_count": null,
   "metadata": {},
   "outputs": [],
   "source": []
  },
  {
   "cell_type": "markdown",
   "metadata": {},
   "source": [
    "<span style=\"color:blue\">3. Modifique las funciones integradoras que programamos en clase (Euler mejorado, Runge-Kutta de $2\\circ$ orden y Runge-Kutta de $4\\circ$ orden) para que se puedan pasar argumentos opcionales al sistema de ecuaciones diferenciales de tal manera que se puedan modificar parámetros al momento de hacer la integración. Una vez hecho esto, obtenga la solución de la siguiente ecuación diferencial\n",
    "    \\begin{equation}\n",
    "    \\ddot{x}+\\frac{1}{10}\\dot{x}+4\\sin x=\\frac{1}{2}\\sin(\\omega t) \n",
    "    \\end{equation}\n",
    "    Con condiciones iniciales $\\dot{x}(0)=1$ y $x(0)=0$ y para $\\omega=\\{1,1.1,1.2,1.3,...,2.9,3\\}$. Realice la gráfica de algunas soluciones que representen el comportamiento de la solución en función de $\\omega$ y explique su resultado. La solución debe tener una precisión de por lo menos $10^{-5}$.<span>\n"
   ]
  },
  {
   "cell_type": "code",
   "execution_count": null,
   "metadata": {},
   "outputs": [],
   "source": []
  },
  {
   "cell_type": "markdown",
   "metadata": {},
   "source": [
    "<span style=\"color:blue\">4. Considere el siguiente sistema de ecuaciones diferenciales \n",
    "\\begin{equation}\n",
    "\\begin{aligned}\n",
    "\\frac{dx}{dt}&=10(y-x)\\\\\n",
    "\\frac{dx}{dt}&=x(28-z)-y\\\\\n",
    "\\frac{dx}{dt}&=xy-\\frac{8}{3}z\n",
    "\\end{aligned}\n",
    "\\end{equation}\n",
    "Realice una integración numérica del sistema de ecuaciones con el método de Runge-Kutta de $4\\circ$ y realice los siguientes ejercicios:<span>\n",
    "    \n",
    "<span style=\"color:blue\">(a) Elija una condición inicial aleatoria en el $x,y,z \\in [-5,5]$ y realice la gráfica de la solución en el plano $xy$, $xz$ y $yz$ y comente sus observaciones.<span>\n",
    "    \n",
    "<span style=\"color:blue\">(b) Ahora tome 3 soluciones parecidas. Para ello proponga 3 condicioness iniciales tales que en la coordenada en $y$ las condiciones inciales difieran entre si en $10^{-2}$. Explique lo que observa.<span>\n",
    "    \n",
    "<span style=\"color:blue\">Nota: De preferencia realice integraciones con tiempos relativamente largos en los que pueda apreciar diferencias en el comportamiento de las soluciones. Además asegure que cada una de las soluciones que encuentre sea convergente en por lo menos 5 cifras (10^{-5}), es decir encuentre un paso adecuado para realizar la integración. <span>\n"
   ]
  },
  {
   "cell_type": "code",
   "execution_count": null,
   "metadata": {},
   "outputs": [],
   "source": []
  },
  {
   "cell_type": "code",
   "execution_count": null,
   "metadata": {},
   "outputs": [],
   "source": []
  }
 ],
 "metadata": {
  "kernelspec": {
   "display_name": "Python 3",
   "language": "python",
   "name": "python3"
  },
  "language_info": {
   "codemirror_mode": {
    "name": "ipython",
    "version": 3
   },
   "file_extension": ".py",
   "mimetype": "text/x-python",
   "name": "python",
   "nbconvert_exporter": "python",
   "pygments_lexer": "ipython3",
   "version": "3.8.3"
  }
 },
 "nbformat": 4,
 "nbformat_minor": 4
}
